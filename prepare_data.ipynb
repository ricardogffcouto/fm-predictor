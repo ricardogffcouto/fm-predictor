{
 "cells": [
  {
   "cell_type": "markdown",
   "metadata": {},
   "source": [
    "# Data preparation\n",
    "\n",
    "Here I wanted to prepare the main dataset for usage in creating the model. This dataset will contain the matching players from FM20 and Transfermarkt, including their valuations and change in valuation from 2020 to 2022.\n",
    "\n",
    "First I imported the libraries and the datasets (FM20, Transfermarkt Players and Transfermarkt valuations over time)"
   ]
  },
  {
   "cell_type": "code",
   "execution_count": 2,
   "metadata": {},
   "outputs": [],
   "source": [
    "from src.libs import *\n",
    "\n",
    "fm20_dataset = pd.read_csv(\"datasets/datafm20.csv\")\n",
    "transfermarkt_players_dataset = pd.read_csv(\"datasets/players.csv\")\n",
    "transfermarkt_valuations_dataset = pd.read_csv(\"datasets/player_valuations.csv\")"
   ]
  },
  {
   "cell_type": "markdown",
   "metadata": {},
   "source": [
    "Here I start preparing both datasets to be merged. \n",
    "\n",
    "I select only players with less than 27 y.o. This decision was made so we can focus only on players with a high probability of increasing in value (we assume as players get older than this, the probability of a value increase is much smaller)."
   ]
  },
  {
   "cell_type": "code",
   "execution_count": 1,
   "metadata": {},
   "outputs": [
    {
     "ename": "NameError",
     "evalue": "name 'transfermarkt_players_dataset' is not defined",
     "output_type": "error",
     "traceback": [
      "\u001b[0;31m---------------------------------------------------------------------------\u001b[0m",
      "\u001b[0;31mNameError\u001b[0m                                 Traceback (most recent call last)",
      "\u001b[1;32m/home/ricardo/coding/data-science/projects/predict_value_change_from_fm_data/prepare_data.ipynb Cell 4'\u001b[0m in \u001b[0;36m<cell line: 5>\u001b[0;34m()\u001b[0m\n\u001b[1;32m      <a href='vscode-notebook-cell:/home/ricardo/coding/data-science/projects/predict_value_change_from_fm_data/prepare_data.ipynb#ch0000002?line=0'>1</a>\u001b[0m \u001b[39m# Prepare dataset - merge fm20_df and less_28_players\u001b[39;00m\n\u001b[1;32m      <a href='vscode-notebook-cell:/home/ricardo/coding/data-science/projects/predict_value_change_from_fm_data/prepare_data.ipynb#ch0000002?line=1'>2</a>\u001b[0m \n\u001b[1;32m      <a href='vscode-notebook-cell:/home/ricardo/coding/data-science/projects/predict_value_change_from_fm_data/prepare_data.ipynb#ch0000002?line=2'>3</a>\u001b[0m \u001b[39m# Use only players with less than 28 yo\u001b[39;00m\n\u001b[0;32m----> <a href='vscode-notebook-cell:/home/ricardo/coding/data-science/projects/predict_value_change_from_fm_data/prepare_data.ipynb#ch0000002?line=4'>5</a>\u001b[0m transfermarkt_base_players_df \u001b[39m=\u001b[39m transfermarkt_players_dataset[:]\n\u001b[1;32m      <a href='vscode-notebook-cell:/home/ricardo/coding/data-science/projects/predict_value_change_from_fm_data/prepare_data.ipynb#ch0000002?line=5'>6</a>\u001b[0m transfermarkt_base_players_df\u001b[39m.\u001b[39mquery(\u001b[39m\"\u001b[39m\u001b[39mlast_season >= 2021 & date_of_birth >= \u001b[39m\u001b[39m'\u001b[39m\u001b[39m1992-01-01\u001b[39m\u001b[39m'\u001b[39m\u001b[39m & position != \u001b[39m\u001b[39m'\u001b[39m\u001b[39mGoalkeeper\u001b[39m\u001b[39m'\u001b[39m\u001b[39m\"\u001b[39m, inplace\u001b[39m=\u001b[39m\u001b[39mTrue\u001b[39;00m)\n\u001b[1;32m      <a href='vscode-notebook-cell:/home/ricardo/coding/data-science/projects/predict_value_change_from_fm_data/prepare_data.ipynb#ch0000002?line=6'>7</a>\u001b[0m transfermarkt_base_players_df\u001b[39m.\u001b[39mdropna(subset\u001b[39m=\u001b[39m\u001b[39m'\u001b[39m\u001b[39mmarket_value_in_gbp\u001b[39m\u001b[39m'\u001b[39m)\n",
      "\u001b[0;31mNameError\u001b[0m: name 'transfermarkt_players_dataset' is not defined"
     ]
    }
   ],
   "source": [
    "transfermarkt_base_players_df = transfermarkt_players_dataset[:]\n",
    "transfermarkt_base_players_df.query(\"last_season >= 2021 & date_of_birth >= '1992-01-01' & position != 'Goalkeeper'\", inplace=True)\n",
    "transfermarkt_base_players_df.dropna(subset='market_value_in_gbp')\n",
    "\n",
    "fm20_base_players_df = fm20_dataset.query(\"Age <= 27 & `Best Pos` != 'GK'\")"
   ]
  },
  {
   "cell_type": "markdown",
   "metadata": {},
   "source": [
    "To merge both dataframes we need to figure out what will be the criteria for players to \"match\". We decided to use:\n",
    "- Player name and nation should always match\n",
    "- If the name and nation matches for more than one player, the player value will be the tiebreaker (so the highest valued match in one dataset will match in the other dataset) "
   ]
  },
  {
   "cell_type": "markdown",
   "metadata": {},
   "source": [
    "So first I ordered both datasets by value. Some players in the transfermarkt dataset didn't have value so I dropped those."
   ]
  },
  {
   "cell_type": "code",
   "execution_count": null,
   "metadata": {},
   "outputs": [
    {
     "ename": "NameError",
     "evalue": "name 'transfermarkt_players_dataset' is not defined",
     "output_type": "error",
     "traceback": [
      "\u001b[0;31m---------------------------------------------------------------------------\u001b[0m\n",
      "\u001b[0;31mNameError\u001b[0m                                 Traceback (most recent call last)\n",
      "\u001b[1;32m/home/ricardo/coding/data-science/projects/predict_value_change_from_fm_data/prepare_data.ipynb Cell 4'\u001b[0m in \u001b[0;36m<cell line: 5>\u001b[0;34m()\u001b[0m\n",
      "\u001b[1;32m      <a href='vscode-notebook-cell:/home/ricardo/coding/data-science/projects/predict_value_change_from_fm_data/prepare_data.ipynb#ch0000002?line=0'>1</a>\u001b[0m \u001b[39m# Prepare dataset - merge fm20_df and less_28_players\u001b[39;00m\n",
      "\u001b[1;32m      <a href='vscode-notebook-cell:/home/ricardo/coding/data-science/projects/predict_value_change_from_fm_data/prepare_data.ipynb#ch0000002?line=1'>2</a>\u001b[0m \n",
      "\u001b[1;32m      <a href='vscode-notebook-cell:/home/ricardo/coding/data-science/projects/predict_value_change_from_fm_data/prepare_data.ipynb#ch0000002?line=2'>3</a>\u001b[0m \u001b[39m# Use only players with less than 28 yo\u001b[39;00m\n",
      "\u001b[0;32m----> <a href='vscode-notebook-cell:/home/ricardo/coding/data-science/projects/predict_value_change_from_fm_data/prepare_data.ipynb#ch0000002?line=4'>5</a>\u001b[0m transfermarkt_base_players_df \u001b[39m=\u001b[39m transfermarkt_players_dataset[:]\n",
      "\u001b[1;32m      <a href='vscode-notebook-cell:/home/ricardo/coding/data-science/projects/predict_value_change_from_fm_data/prepare_data.ipynb#ch0000002?line=5'>6</a>\u001b[0m transfermarkt_base_players_df\u001b[39m.\u001b[39mquery(\u001b[39m\"\u001b[39m\u001b[39mlast_season >= 2021 & date_of_birth >= \u001b[39m\u001b[39m'\u001b[39m\u001b[39m1992-01-01\u001b[39m\u001b[39m'\u001b[39m\u001b[39m & position != \u001b[39m\u001b[39m'\u001b[39m\u001b[39mGoalkeeper\u001b[39m\u001b[39m'\u001b[39m\u001b[39m\"\u001b[39m, inplace\u001b[39m=\u001b[39m\u001b[39mTrue\u001b[39;00m)\n",
      "\u001b[1;32m      <a href='vscode-notebook-cell:/home/ricardo/coding/data-science/projects/predict_value_change_from_fm_data/prepare_data.ipynb#ch0000002?line=6'>7</a>\u001b[0m transfermarkt_base_players_df\u001b[39m.\u001b[39mdropna(subset\u001b[39m=\u001b[39m\u001b[39m'\u001b[39m\u001b[39mmarket_value_in_gbp\u001b[39m\u001b[39m'\u001b[39m)\n",
      "\n",
      "\u001b[0;31mNameError\u001b[0m: name 'transfermarkt_players_dataset' is not defined"
     ]
    }
   ],
   "source": [
    "transfermarkt_base_players_df.dropna(subset='market_value_in_gbp')\n",
    "transfermarkt_base_players_df.sort_values(by='market_value_in_gbp', ascending=False, inplace=True)\n",
    "\n",
    "fm20_base_players_df.sort_values(by='Value', ascending=False, inplace=True)"
   ]
  },
  {
   "cell_type": "markdown",
   "metadata": {},
   "source": [
    "First I made a script which matched the name in FM with the name which appears as unique in Transfermarkt. This will be used to match players in FM and Transfermarkt."
   ]
  },
  {
   "cell_type": "code",
   "execution_count": null,
   "metadata": {},
   "outputs": [],
   "source": [
    "fm20_base_players_df['Transfermarkt_Name'] = fm20_base_players_df['Name'].apply(name_char_replacer).apply(name_to_id)"
   ]
  },
  {
   "cell_type": "markdown",
   "metadata": {},
   "source": [
    "Then, I mapped the country of citizenship in Transfermarkt to the country codes in FM20. This was made by first capturing the 5 most valuable players of each nation, find what is the matching *country_of_citizenship* in Transfermarkt, and then match that to the FM20 *Nation* of those players."
   ]
  },
  {
   "cell_type": "code",
   "execution_count": 4,
   "metadata": {},
   "outputs": [],
   "source": [
    "\n",
    "fm20_name_nation_mapping = fm20_base_players_df.groupby('Nation').head(5)[['Name', 'Nation']]\n",
    "\n",
    "transfermarkt_name_nation_mapping = transfermarkt_players_dataset[['name', 'country_of_citizenship']]\n",
    "\n",
    "player_nationalities_mapping = fm20_name_nation_mapping.merge(transfermarkt_name_nation_mapping, left_on='Transfermarkt_Name', right_on='name')\n",
    "player_nationalities_mapping.drop_duplicates(subset='Nation', inplace=True)\n",
    "\n",
    "fm20_base_players_df = fm20_base_players_df.merge(player_nationalities_mapping[['Nation', 'country_of_citizenship']], on='Nation')"
   ]
  },
  {
   "cell_type": "markdown",
   "metadata": {},
   "source": [
    "Here I make my first attempt in merging both datasets, using only the name and country of citizenship. I create our **merged dataframe** called *transfermarkt_fm20_merged_df*."
   ]
  },
  {
   "cell_type": "code",
   "execution_count": 6,
   "metadata": {},
   "outputs": [],
   "source": [
    "transfermarkt_fm20_merged_df = fm20_base_players_df.merge(transfermarkt_base_players_df, left_on=['Transfermarkt_Name', 'country_of_citizenship'], right_on=['name', 'country_of_citizenship'])\n",
    "\n",
    "transfermarkt_fm20_merged_df.drop_duplicates(subset=['Transfermarkt_Name', 'country_of_citizenship'], inplace=True)"
   ]
  },
  {
   "cell_type": "markdown",
   "metadata": {},
   "source": [
    "Here I try to get more results than those I get previously.\n",
    "- I get all the merged players who are missing from *base_players_df*.\n",
    "- I sort them by market_value and then figure out their age in 2020 based on the *date_of_birth* (the data I have in Transfermarkt)\n",
    "    - I can't know an accurate DOB as I only have the age of the player in the FM20 dataframe, and I don't know exactly when the age was \"measured\"\n",
    "- Finally, I apply a function which is sort of a fuzzy search taking into account that the name, country, age and market value are within a certain range\n",
    "    - The name is fuzzy searched with difflib.get_close_matches\n",
    "    - The value in FM should be greater than or equal to 1/5 of the Transfermarkt value.\n",
    "    - The age on FM should be equal to the Transfermarkt age or equal to the Transfermarkt age - 1 (due to not knowing exactly if a player already had their birthday or not in FM, the approximate_age_2020 function rounded upwards)\n",
    "\n",
    "TODO: I would love some tips on performance on this fuzzy search"
   ]
  },
  {
   "cell_type": "code",
   "execution_count": 8,
   "metadata": {},
   "outputs": [],
   "source": [
    "missing = transfermarkt_base_players_df.merge(transfermarkt_fm20_merged_df, indicator='i', how='outer').query('i == \"left_only\"')[transfermarkt_base_players_df.columns]\n",
    "\n",
    "missing.sort_values(by='market_value_in_gbp', ascending=False, inplace=True)\n",
    "missing['Age_2020'] = missing['date_of_birth'].apply(approximate_age_2020)\n",
    "missing_fm = fm20_base_players_df[:]\n",
    "\n",
    "def find_match(player):\n",
    "    global missing_fm\n",
    "    country = player['country_of_citizenship']\n",
    "    age = player['Age_2020']\n",
    "    value = player['market_value_in_gbp'] / 5\n",
    "    age_minus = age - 1\n",
    "    potential_players = missing_fm.query('country_of_citizenship == @country and (Age == @age_minus or Age == @age) and Value >= @value')\n",
    "    player_name = next(iter(difflib.get_close_matches(player['name'], potential_players['Name'], cutoff=0.5)), None)\n",
    "    if player_name:\n",
    "        player_fm = potential_players.query('Name == @player_name').sort_values(by='Value', ascending=False).head(1)\n",
    "        missing_fm = missing_fm.drop(player_fm.index)\n",
    "        return player_fm.index\n",
    "    return None\n",
    "\n",
    "\n",
    "matches = missing.apply(find_match, axis=1)\n"
   ]
  },
  {
   "cell_type": "markdown",
   "metadata": {},
   "source": [
    "Here I append the newly matched values from the missing dataframe values to our **merged dataframe**."
   ]
  },
  {
   "cell_type": "code",
   "execution_count": 9,
   "metadata": {},
   "outputs": [],
   "source": [
    "tfmk_missing = missing.merge(matches.to_frame('fm_player_index'), left_index=True, right_index=True).dropna()\n",
    "tfmk_missing['fm_player_index'] = tfmk_missing['fm_player_index'].apply(lambda x: x.tolist()[0])\n",
    "tfmk_missing = tfmk_missing.merge(fm20_base_players_df, left_on='fm_player_index', right_index=True)\n",
    "transfermarkt_fm20_merged_df = transfermarkt_fm20_merged_df.append(tfmk_missing)"
   ]
  },
  {
   "cell_type": "markdown",
   "metadata": {},
   "source": [
    "Here I insert the target values (valuation now vs valuations 2020) into the **merged dataframe**. This is made using the *transfermarkt_valuations_dataset* and finding the players' values in 2020, and comparing them with their value now using *market_value_in_gbp*. This creates the **final dataframe** called *players_with_values*."
   ]
  },
  {
   "cell_type": "code",
   "execution_count": 11,
   "metadata": {},
   "outputs": [],
   "source": [
    "\n",
    "transfermarkt_fm20_merged_df['value_2022'] = transfermarkt_fm20_merged_df['market_value_in_gbp']\n",
    "\n",
    "player_values_2020 = transfermarkt_valuations_dataset.query(\"date >= '2019-07-01' & date <= '2020-12-31'\").sort_values(by='date', ascending=True).drop_duplicates(subset='player_id')\n",
    "\n",
    "player_values_2020['value_2020'] = player_values_2020['market_value']\n",
    "\n",
    "players_with_values = transfermarkt_fm20_merged_df.merge(player_values_2020, on='player_id')\n",
    "\n",
    "players_with_values['value_diff'] = players_with_values['value_2022'] - players_with_values['value_2020']"
   ]
  },
  {
   "cell_type": "markdown",
   "metadata": {},
   "source": [
    "Finally, with all the data prepared, I save the **final dataframe** for usage in the predictor."
   ]
  },
  {
   "cell_type": "code",
   "execution_count": 12,
   "metadata": {},
   "outputs": [],
   "source": [
    "players_with_values.to_csv('assets/base_players_dataset.csv')"
   ]
  }
 ],
 "metadata": {
  "kernelspec": {
   "display_name": "Python 3.9.12 ('base')",
   "language": "python",
   "name": "python3"
  },
  "language_info": {
   "codemirror_mode": {
    "name": "ipython",
    "version": 3
   },
   "file_extension": ".py",
   "mimetype": "text/x-python",
   "name": "python",
   "nbconvert_exporter": "python",
   "pygments_lexer": "ipython3",
   "version": "3.9.12"
  },
  "orig_nbformat": 4,
  "vscode": {
   "interpreter": {
    "hash": "abecc9efee1d216150679339f7cb39e17f2b3783b014e8db6aa18b4f299df678"
   }
  }
 },
 "nbformat": 4,
 "nbformat_minor": 2
}
