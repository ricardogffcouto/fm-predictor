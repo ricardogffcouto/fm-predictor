{
 "cells": [
  {
   "cell_type": "code",
   "execution_count": 1,
   "metadata": {},
   "outputs": [],
   "source": [
    "# Import all src.libs\n",
    "\n",
    "from src.libs import *"
   ]
  },
  {
   "cell_type": "code",
   "execution_count": 2,
   "metadata": {},
   "outputs": [],
   "source": [
    "# Import datasets\n",
    "\n",
    "fm20_dataset = pd.read_csv(PROJECT_FOLDER + \"datasets/datafm20.csv\")\n",
    "transfermarkt_players_dataset = pd.read_csv(PROJECT_FOLDER + \"datasets/players.csv\")\n",
    "transfermarkt_valuations_dataset = pd.read_csv(PROJECT_FOLDER + \"datasets/player_valuations.csv\")"
   ]
  },
  {
   "cell_type": "code",
   "execution_count": 3,
   "metadata": {},
   "outputs": [],
   "source": [
    "# Prepare dataset - merge fm20_df and less_28_players\n",
    "\n",
    "# Use only players with less than 28 yo\n",
    "\n",
    "transfermarkt_base_players_df = transfermarkt_players_dataset[:]\n",
    "transfermarkt_base_players_df.query(\"last_season >= 2021 & date_of_birth >= '1992-01-01' & position != 'Goalkeeper'\", inplace=True)\n",
    "transfermarkt_base_players_df.dropna(subset='market_value_in_gbp')\n",
    "transfermarkt_base_players_df.sort_values(by='market_value_in_gbp', ascending=False, inplace=True)\n",
    "\n",
    "fm20_base_players_df = fm20_dataset.query(\"Age <= 27 & `Best Pos` != 'GK'\")\n",
    "fm20_base_players_df.sort_values(by='Value', ascending=False, inplace=True)"
   ]
  },
  {
   "cell_type": "code",
   "execution_count": 4,
   "metadata": {},
   "outputs": [],
   "source": [
    "# Map country_of_citizenship (Transfermarkt) to country codes (FM20)\n",
    "\n",
    "fm20_name_nation_mapping = fm20_dataset.groupby('Nation').head(5)[['Name', 'Nation']]\n",
    "fm20_name_nation_mapping['Transfermarkt_Name'] = fm20_name_nation_mapping['Name'].apply(name_to_id).apply(lambda x: x.replace('-scaron-', 's'))\n",
    "\n",
    "transfermarkt_name_nation_mapping = transfermarkt_players_dataset[['name', 'country_of_citizenship']]\n",
    "\n",
    "player_nationalities_mapping = fm20_name_nation_mapping.merge(transfermarkt_name_nation_mapping, left_on='Transfermarkt_Name', right_on='name')\n",
    "player_nationalities_mapping.drop_duplicates(subset='Nation', inplace=True)\n",
    "\n",
    "fm20_base_players_df = fm20_base_players_df.merge(player_nationalities_mapping[['Nation', 'country_of_citizenship']], on='Nation')"
   ]
  },
  {
   "cell_type": "code",
   "execution_count": 5,
   "metadata": {},
   "outputs": [],
   "source": [
    "# Map name (Transfermarkt) to Name (FM20)\n",
    "\n",
    "fm20_base_players_df['Transfermarkt_Name'] = fm20_base_players_df['Name'].apply(name_char_replacer).apply(name_to_id)"
   ]
  },
  {
   "cell_type": "code",
   "execution_count": 6,
   "metadata": {},
   "outputs": [],
   "source": [
    "# Merge dataframes\n",
    "\n",
    "transfermarkt_fm20_merged_df = fm20_base_players_df.merge(transfermarkt_base_players_df, left_on=['Transfermarkt_Name', 'country_of_citizenship'], right_on=['name', 'country_of_citizenship'])\n",
    "\n",
    "transfermarkt_fm20_merged_df.drop_duplicates(subset=['Transfermarkt_Name', 'country_of_citizenship'], inplace=True)"
   ]
  },
  {
   "cell_type": "code",
   "execution_count": 7,
   "metadata": {},
   "outputs": [],
   "source": [
    "missing = transfermarkt_base_players_df.merge(transfermarkt_fm20_merged_df, indicator='i', how='outer').query('i == \"left_only\"')[transfermarkt_base_players_df.columns]"
   ]
  },
  {
   "cell_type": "code",
   "execution_count": 8,
   "metadata": {},
   "outputs": [],
   "source": [
    "missing.sort_values(by='market_value_in_gbp', ascending=False, inplace=True)\n",
    "missing['Age_2020'] = missing['date_of_birth'].apply(approximate_age_2020)\n",
    "missing_fm = fm20_base_players_df[:]\n",
    "\n",
    "def find_match(player):\n",
    "    global missing_fm\n",
    "    country = player['country_of_citizenship']\n",
    "    age = player['Age_2020']\n",
    "    value = player['market_value_in_gbp'] / 5\n",
    "    age_minus = age - 1\n",
    "    potential_players = missing_fm.query('country_of_citizenship == @country and (Age == @age_minus or Age == @age) and Value >= @value')\n",
    "    player_name = next(iter(difflib.get_close_matches(player['name'], potential_players['Name'], cutoff=0.5)), None)\n",
    "    if player_name:\n",
    "        player_fm = potential_players.query('Name == @player_name').sort_values(by='Value', ascending=False).head(1)\n",
    "        missing_fm = missing_fm.drop(player_fm.index)\n",
    "        return player_fm.index\n",
    "    return None\n",
    "\n",
    "\n",
    "matches = missing.apply(find_match, axis=1)\n"
   ]
  },
  {
   "cell_type": "code",
   "execution_count": 9,
   "metadata": {},
   "outputs": [],
   "source": [
    "tfmk_missing = missing.merge(matches.to_frame('fm_player_index'), left_index=True, right_index=True).dropna()\n",
    "tfmk_missing['fm_player_index'] = tfmk_missing['fm_player_index'].apply(lambda x: x.tolist()[0])\n",
    "tfmk_missing = tfmk_missing.merge(fm20_base_players_df, left_on='fm_player_index', right_index=True)"
   ]
  },
  {
   "cell_type": "code",
   "execution_count": 10,
   "metadata": {},
   "outputs": [],
   "source": [
    "transfermarkt_fm20_merged_df = transfermarkt_fm20_merged_df.append(tfmk_missing)"
   ]
  },
  {
   "cell_type": "code",
   "execution_count": 11,
   "metadata": {},
   "outputs": [],
   "source": [
    "# Insert target values (valuation now vs valuations 2020)\n",
    "\n",
    "transfermarkt_fm20_merged_df['value_2022'] = transfermarkt_fm20_merged_df['market_value_in_gbp']\n",
    "\n",
    "player_values_2020 = transfermarkt_valuations_dataset.query(\"date >= '2019-07-01' & date <= '2020-12-31'\").sort_values(by='date', ascending=True).drop_duplicates(subset='player_id')\n",
    "\n",
    "player_values_2020['value_2020'] = player_values_2020['market_value']\n",
    "\n",
    "players_with_values = transfermarkt_fm20_merged_df.merge(player_values_2020, on='player_id')\n",
    "\n",
    "players_with_values['value_diff'] = players_with_values['value_2022'] - players_with_values['value_2020']"
   ]
  },
  {
   "cell_type": "code",
   "execution_count": 12,
   "metadata": {},
   "outputs": [],
   "source": [
    "# Save dataframe\n",
    "\n",
    "players_with_values.to_csv(PROJECT_FOLDER + 'assets/base_players_dataset.csv')"
   ]
  }
 ],
 "metadata": {
  "kernelspec": {
   "display_name": "Python 3.9.12 ('base')",
   "language": "python",
   "name": "python3"
  },
  "language_info": {
   "codemirror_mode": {
    "name": "ipython",
    "version": 3
   },
   "file_extension": ".py",
   "mimetype": "text/x-python",
   "name": "python",
   "nbconvert_exporter": "python",
   "pygments_lexer": "ipython3",
   "version": "3.9.12"
  },
  "orig_nbformat": 4,
  "vscode": {
   "interpreter": {
    "hash": "abecc9efee1d216150679339f7cb39e17f2b3783b014e8db6aa18b4f299df678"
   }
  }
 },
 "nbformat": 4,
 "nbformat_minor": 2
}
