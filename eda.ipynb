{
 "cells": [
  {
   "cell_type": "markdown",
   "metadata": {},
   "source": [
    "# Exploratory Data Analysis\n",
    "\n",
    "Here a very basic and superficial EDA was made."
   ]
  },
  {
   "cell_type": "markdown",
   "metadata": {},
   "source": [
    "First I imported the libraries and the FM20 dataframe"
   ]
  },
  {
   "cell_type": "code",
   "execution_count": 2,
   "metadata": {},
   "outputs": [],
   "source": [
    "from src.libs import *\n",
    "\n",
    "fm20_df = pd.read_csv(\"datasets/datafm20.csv\")"
   ]
  },
  {
   "cell_type": "markdown",
   "metadata": {},
   "source": [
    "Here I wanted to understand at what age do players have their peak, and when they devalue. As expected, this graph follows a normal distribution, with the peak being around 27/28 yo. There is a linear increase from 15-27, followed by a sharper decrease in value from 28-35 yo.\n",
    "\n",
    "Here I removed the Goalkeepers as they will not be the focus of our investigation (as they have very specific attributes)"
   ]
  },
  {
   "cell_type": "code",
   "execution_count": 3,
   "metadata": {},
   "outputs": [
    {
     "data": {
      "text/plain": [
       "<AxesSubplot:xlabel='Age'>"
      ]
     },
     "execution_count": 3,
     "metadata": {},
     "output_type": "execute_result"
    },
    {
     "data": {
      "image/png": "[encoded data removed]",
      "text/plain": [
       "<Figure size 800x400 with 1 Axes>"
      ]
     },
     "metadata": {},
     "output_type": "display_data"
    }
   ],
   "source": [
    "fm20_df_no_gk = fm20_df[:].query('`Best Pos` != \"GK\"')\n",
    "\n",
    "new_fm20_df = fm20_df_no_gk[:]\n",
    "new_fm20_df['POT'] = new_fm20_df['PA'] - new_fm20_df['CA']\n",
    "new_fm20_df.groupby('Age')['Value'].mean().plot(kind='bar')"
   ]
  },
  {
   "cell_type": "markdown",
   "metadata": {},
   "source": [
    "Here I want to add some attribute combinations as possible features, and also see if they correlate well with the player value."
   ]
  },
  {
   "cell_type": "code",
   "execution_count": 4,
   "metadata": {},
   "outputs": [],
   "source": [
    "def attribute_combinations(df, new_attr, attr_list):\n",
    "    df[new_attr] = sum([df[attr] for attr in attr_list]) / len(attr_list)\n",
    "\n",
    "new_fm20_df = fm20_df_no_gk[:][['Value', 'Age'] + PLAYER_ATTR]\n",
    "\n",
    "attribute_combinations(new_fm20_df, 'PHY', ['Acc', 'Pac', 'Sta', 'Str', 'Agi', 'Bal', 'Jum', 'Nat'])\n",
    "attribute_combinations(new_fm20_df, 'MEN', ['Wor', 'Vis', 'Tea', 'Pos', 'OtB', 'Ldr', 'Fla', 'Det', 'Dec', 'Cnt', 'Cmp', 'Bra', 'Ant', 'Agg'])\n",
    "attribute_combinations(new_fm20_df, 'M+P', ['MEN', 'PHY'])\n",
    "attribute_combinations(new_fm20_df, 'ATTR', PLAYER_ATTR)"
   ]
  },
  {
   "cell_type": "markdown",
   "metadata": {},
   "source": [
    "As we can see here, the attribute combinations correlate better with value than any individual attribute."
   ]
  },
  {
   "cell_type": "code",
   "execution_count": 45,
   "metadata": {},
   "outputs": [
    {
     "data": {
      "text/plain": [
       "Value    1.000000\n",
       "M+P      0.292927\n",
       "ATTR     0.277248\n",
       "MEN      0.268462\n",
       "PHY      0.266174\n",
       "Name: Value, dtype: float64"
      ]
     },
     "execution_count": 45,
     "metadata": {},
     "output_type": "execute_result"
    }
   ],
   "source": [
    "new_fm20_df.corr()['Value'].sort_values(ascending=False).head(5)"
   ]
  },
  {
   "cell_type": "markdown",
   "metadata": {},
   "source": [
    "As we can see here, age has a small positive correlation with the value, which was expected given that the peak of a player's valuation is more or less in the middle of his career."
   ]
  },
  {
   "cell_type": "code",
   "execution_count": 5,
   "metadata": {},
   "outputs": [
    {
     "data": {
      "text/plain": [
       "Age    0.038035\n",
       "Mar    0.067548\n",
       "Ldr    0.067727\n",
       "Agg    0.074689\n",
       "Nat    0.079667\n",
       "Name: Value, dtype: float64"
      ]
     },
     "execution_count": 5,
     "metadata": {},
     "output_type": "execute_result"
    }
   ],
   "source": [
    "new_fm20_df.corr()['Value'].sort_values(ascending=True).head(5)"
   ]
  },
  {
   "cell_type": "markdown",
   "metadata": {},
   "source": [
    "Here I want to analyse the FIFA World Rankings dataframe. I will use this data to transform each country of birth into a value (and see if there is any relevance to that data)"
   ]
  },
  {
   "cell_type": "code",
   "execution_count": 41,
   "metadata": {},
   "outputs": [
    {
     "data": {
      "text/plain": [
       "60744    2020-02-20\n",
       "60954    2020-04-09\n",
       "61164    2020-06-11\n",
       "61374    2020-07-16\n",
       "61584    2020-09-17\n",
       "61794    2020-10-22\n",
       "62004    2020-11-26\n",
       "62214    2020-12-10\n",
       "Name: rank_date, dtype: object"
      ]
     },
     "execution_count": 41,
     "metadata": {},
     "output_type": "execute_result"
    }
   ],
   "source": [
    "fifa_wr = pd.read_csv(\"datasets/fifa_ranking-2021-05-27.csv\")\n",
    "fifa_wr.columns\n",
    "fifa_wr['rank_date'].drop_duplicates()[fifa_wr['rank_date'].drop_duplicates().str.startswith('2020')].sort_values()"
   ]
  },
  {
   "cell_type": "code",
   "execution_count": null,
   "metadata": {},
   "outputs": [
    {
     "data": {
      "text/html": [
       "<div>\n",
       "<style scoped>\n",
       "    .dataframe tbody tr th:only-of-type {\n",
       "        vertical-align: middle;\n",
       "    }\n",
       "\n",
       "    .dataframe tbody tr th {\n",
       "        vertical-align: top;\n",
       "    }\n",
       "\n",
       "    .dataframe thead th {\n",
       "        text-align: right;\n",
       "    }\n",
       "</style>\n",
       "<table border=\"1\" class=\"dataframe\">\n",
       "  <thead>\n",
       "    <tr style=\"text-align: right;\">\n",
       "      <th></th>\n",
       "      <th>rank</th>\n",
       "      <th>country_abrv</th>\n",
       "    </tr>\n",
       "  </thead>\n",
       "  <tbody>\n",
       "    <tr>\n",
       "      <th>61794</th>\n",
       "      <td>68</td>\n",
       "      <td>SLV</td>\n",
       "    </tr>\n",
       "    <tr>\n",
       "      <th>61795</th>\n",
       "      <td>69</td>\n",
       "      <td>ALB</td>\n",
       "    </tr>\n",
       "    <tr>\n",
       "      <th>61796</th>\n",
       "      <td>70</td>\n",
       "      <td>IRQ</td>\n",
       "    </tr>\n",
       "    <tr>\n",
       "      <th>61797</th>\n",
       "      <td>71</td>\n",
       "      <td>GUI</td>\n",
       "    </tr>\n",
       "    <tr>\n",
       "      <th>61798</th>\n",
       "      <td>76</td>\n",
       "      <td>UGA</td>\n",
       "    </tr>\n",
       "    <tr>\n",
       "      <th>...</th>\n",
       "      <td>...</td>\n",
       "      <td>...</td>\n",
       "    </tr>\n",
       "    <tr>\n",
       "      <th>61999</th>\n",
       "      <td>136</td>\n",
       "      <td>TPE</td>\n",
       "    </tr>\n",
       "    <tr>\n",
       "      <th>62000</th>\n",
       "      <td>134</td>\n",
       "      <td>TAN</td>\n",
       "    </tr>\n",
       "    <tr>\n",
       "      <th>62001</th>\n",
       "      <td>134</td>\n",
       "      <td>MYA</td>\n",
       "    </tr>\n",
       "    <tr>\n",
       "      <th>62002</th>\n",
       "      <td>132</td>\n",
       "      <td>COM</td>\n",
       "    </tr>\n",
       "    <tr>\n",
       "      <th>62003</th>\n",
       "      <td>53</td>\n",
       "      <td>CMR</td>\n",
       "    </tr>\n",
       "  </tbody>\n",
       "</table>\n",
       "<p>210 rows × 2 columns</p>\n",
       "</div>"
      ],
      "text/plain": [
       "       rank country_abrv\n",
       "61794    68          SLV\n",
       "61795    69          ALB\n",
       "61796    70          IRQ\n",
       "61797    71          GUI\n",
       "61798    76          UGA\n",
       "...     ...          ...\n",
       "61999   136          TPE\n",
       "62000   134          TAN\n",
       "62001   134          MYA\n",
       "62002   132          COM\n",
       "62003    53          CMR\n",
       "\n",
       "[210 rows x 2 columns]"
      ]
     },
     "execution_count": 42,
     "metadata": {},
     "output_type": "execute_result"
    }
   ],
   "source": [
    "fifa_wr.query('rank_date == \"2020-09-17\"')[['rank', 'country_abrv']]"
   ]
  },
  {
   "cell_type": "code",
   "execution_count": null,
   "metadata": {},
   "outputs": [],
   "source": [
    "transfermarkt_players = pd.read_csv(PROJECT_FOLDER + \"datasets/players.csv\")"
   ]
  },
  {
   "cell_type": "code",
   "execution_count": null,
   "metadata": {},
   "outputs": [],
   "source": [
    "from utils import name_to_id\n",
    "\n",
    "name_nation_mapping = fm20_df.sort_values(by='Value', ascending=False).groupby('Nation').head()[['Name', 'Nation']]\n",
    "name_nation_mapping['name'] = name_nation_mapping['Name'].apply(name_to_id)\n",
    "nation_mapping = name_nation_mapping.merge(transfermarkt_players[['name', 'country_of_citizenship']], on='name')\n",
    "nation_mapping.drop_duplicates(subset='country_of_citizenship', inplace=True)\n",
    "nation_mapping = nation_mapping[['Nation', 'country_of_citizenship']]"
   ]
  },
  {
   "cell_type": "code",
   "execution_count": null,
   "metadata": {},
   "outputs": [
    {
     "data": {
      "text/plain": [
       "array(['AM (R)', 'ST (C)', 'GK', 'AM (L)', 'M (C)', 'D (C)', 'M (R)',\n",
       "       'DM', 'AM (C)', 'M (L)', 'D (R)', 'D (L)', 'WB (R)', 'WB (L)'],\n",
       "      dtype=object)"
      ]
     },
     "execution_count": 5,
     "metadata": {},
     "output_type": "execute_result"
    }
   ],
   "source": [
    "fm20_df['Best Pos'].unique()"
   ]
  },
  {
   "cell_type": "code",
   "execution_count": null,
   "metadata": {},
   "outputs": [],
   "source": [
    "import pandas as pd\n",
    "PROJECT_FOLDER = '/home/ricardo/coding/data-science/projects/predict_value_change_from_fm_data/'\n",
    "\n",
    "clubs = pd.read_csv(PROJECT_FOLDER + \"datasets/clubs.csv\")\n",
    "\n"
   ]
  }
 ],
 "metadata": {
  "kernelspec": {
   "display_name": "Python 3.10.6 ('predict_value_change_from_fm_data-PiR6Skg_')",
   "language": "python",
   "name": "python3"
  },
  "language_info": {
   "codemirror_mode": {
    "name": "ipython",
    "version": 3
   },
   "file_extension": ".py",
   "mimetype": "text/x-python",
   "name": "python",
   "nbconvert_exporter": "python",
   "pygments_lexer": "ipython3",
   "version": "3.10.6"
  },
  "orig_nbformat": 4,
  "vscode": {
   "interpreter": {
    "hash": "ac233701de9f190529bd83c89bd46f761d315f19d370eb2b21951ef14e06a61f"
   }
  }
 },
 "nbformat": 4,
 "nbformat_minor": 2
}
