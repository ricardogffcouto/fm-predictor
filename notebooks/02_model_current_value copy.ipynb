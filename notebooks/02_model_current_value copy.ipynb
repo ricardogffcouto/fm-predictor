{
 "cells": [
  {
   "cell_type": "code",
   "execution_count": 1,
   "metadata": {},
   "outputs": [],
   "source": [
    "# Import dataset\n",
    "\n",
    "import pandas as pd\n",
    "import warnings\n",
    "import sys  \n",
    "\n",
    "PROJECT_FOLDER = '/home/ricardo/coding/data-science/projects/predict_value_change_from_fm_data/'\n",
    "\n",
    "sys.path.insert(0, PROJECT_FOLDER)\n",
    "warnings.filterwarnings('ignore')\n",
    "\n",
    "fm20_df = pd.read_csv(PROJECT_FOLDER + \"datasets/datafm20.csv\")"
   ]
  },
  {
   "cell_type": "code",
   "execution_count": 38,
   "metadata": {},
   "outputs": [
    {
     "data": {
      "text/plain": [
       "<AxesSubplot:>"
      ]
     },
     "execution_count": 38,
     "metadata": {},
     "output_type": "execute_result"
    },
    {
     "data": {
      "image/png": "[encoded data removed]",
      "text/plain": [
       "<Figure size 432x288 with 1 Axes>"
      ]
     },
     "metadata": {
      "needs_background": "light"
     },
     "output_type": "display_data"
    }
   ],
   "source": [
    "# Prepare df for stratify\n",
    "\n",
    "import numpy as np\n",
    "\n",
    "players_df = fm20_df.query('Age <= 27 & `Best Pos` != \"GK\"')\n",
    "players_df[\"Value_cat\"] = pd.cut(players_df[\"Value\"], bins=[-1, 0, 100000, 1000000, 2000000, 5000000, 10000000, np.inf], labels=[0, 1, 2, 3, 4, 5, 6])\n",
    "players_df[\"Value_cat\"].hist()\n"
   ]
  },
  {
   "cell_type": "code",
   "execution_count": 39,
   "metadata": {},
   "outputs": [],
   "source": [
    "# Create test set\n",
    "\n",
    "from sklearn.model_selection import train_test_split\n",
    "\n",
    "x_train, x_test, y_train, y_test = train_test_split(players_df, players_df['Value'], test_size=0.2, random_state=42, stratify=players_df['Value_cat'])"
   ]
  },
  {
   "cell_type": "code",
   "execution_count": 40,
   "metadata": {},
   "outputs": [],
   "source": [
    "# Drop stratify category\n",
    "for set_ in (x_train, x_test):\n",
    "    set_.drop(\"Value_cat\", axis=1, inplace=True)"
   ]
  },
  {
   "cell_type": "code",
   "execution_count": null,
   "metadata": {},
   "outputs": [],
   "source": [
    "# Select features of the dataset we will work with\n",
    "\n",
    "from utils import PLAYER_ATTR\n",
    "\n",
    "features = PLAYER_ATTR + ['Age', 'Preferred Foot', 'Best Pos', 'Nation']\n",
    "players_df = fm20_df[features]"
   ]
  },
  {
   "cell_type": "code",
   "execution_count": null,
   "metadata": {},
   "outputs": [],
   "source": [
    "# After EDA, some additional features may be useful\n",
    "\n",
    "from utils import apply_mean_attribute_list\n",
    "\n",
    "apply_mean_attribute_list(players_df, 'PHY', ['Acc', 'Pac', 'Sta', 'Str', 'Agi', 'Bal', 'Jum', 'Nat'])\n",
    "apply_mean_attribute_list(players_df, 'MEN', ['Wor', 'Vis', 'Tea', 'Pos', 'OtB', 'Ldr', 'Fla', 'Det', 'Dec', 'Cnt', 'Cmp', 'Bra', 'Ant', 'Agg'])\n",
    "apply_mean_attribute_list(players_df, 'M+P', ['MEN', 'PHY'])"
   ]
  },
  {
   "cell_type": "code",
   "execution_count": 79,
   "metadata": {},
   "outputs": [],
   "source": [
    "# Revert to clean training set\n",
    "\n",
    "players = x_train.drop('Value', axis=1)\n",
    "players_labels = x_train['Value'].copy()"
   ]
  },
  {
   "cell_type": "code",
   "execution_count": 85,
   "metadata": {},
   "outputs": [],
   "source": [
    "# Data cleaning - Value\n",
    "\n",
    "value_bins = [-1, 0, 100000, 1000000, 2000000, 5000000, 10000000, np.inf]\n",
    "\n",
    "players_labels = pd.cut(players_labels, bins=value_bins, labels=range(len(value_bins) - 1))"
   ]
  },
  {
   "cell_type": "code",
   "execution_count": 48,
   "metadata": {},
   "outputs": [],
   "source": [
    "# Data cleaning - Preferred foot\n",
    "\n",
    "from sklearn.preprocessing import OneHotEncoder\n",
    "foot_encoder = OneHotEncoder()\n",
    "players_foot = foot_encoder.fit_transform(players['Preferred Foot'].values.reshape(-1, 1))\n",
    "players[foot_encoder.categories_[0]] = players_foot.toarray()"
   ]
  },
  {
   "cell_type": "code",
   "execution_count": 50,
   "metadata": {},
   "outputs": [],
   "source": [
    "# Data cleaning - Best position\n",
    "\n",
    "from sklearn.preprocessing import OneHotEncoder\n",
    "pos_encoder = OneHotEncoder()\n",
    "players_pos = pos_encoder.fit_transform(players['Best Pos'].values.reshape(-1, 1))\n",
    "players[pos_encoder.categories_[0]] = players_pos.toarray()"
   ]
  },
  {
   "cell_type": "code",
   "execution_count": 54,
   "metadata": {},
   "outputs": [],
   "source": [
    "# Data cleaning - Nation\n",
    "\n",
    "fifa_wr = pd.read_csv(PROJECT_FOLDER + \"datasets/fifa_ranking-2021-05-27.csv\")\n",
    "nation_encoder = fifa_wr.query('rank_date == \"2020-10-22\"')[['rank', 'country_abrv']]\n",
    "players['Nation_rank'] = players['Nation'].map(nation_encoder.set_index('country_abrv')['rank'])\n",
    "players['Nation_rank'] = players['Nation_rank'].fillna(nation_encoder['rank'].max() + 1)"
   ]
  },
  {
   "cell_type": "code",
   "execution_count": 75,
   "metadata": {},
   "outputs": [],
   "source": [
    "# Custom Nation transformer\n",
    "\n",
    "from sklearn.base import BaseEstimator, TransformerMixin\n",
    "\n",
    "class NationToRank(BaseEstimator, TransformerMixin):\n",
    "    def __init__(self):\n",
    "        pass\n",
    "    \n",
    "    def fit(self, X, y=None):\n",
    "        return self\n",
    "    \n",
    "    def transform(self, X):\n",
    "        fifa_wr = pd.read_csv(PROJECT_FOLDER + \"datasets/fifa_ranking-2021-05-27.csv\")\n",
    "        nation_encoder = fifa_wr.query('rank_date == \"2020-10-22\"')[['rank', 'country_abrv']]\n",
    "        max_rank = nation_encoder['rank'].max() + 1\n",
    "        X['Nation_rank'] = 1 - (X['Nation'].map(nation_encoder.set_index('country_abrv')['rank']).fillna(max_rank) / max_rank)\n",
    "        X.drop('Nation', axis=1, inplace=True)\n",
    "        return X"
   ]
  },
  {
   "cell_type": "code",
   "execution_count": 76,
   "metadata": {},
   "outputs": [],
   "source": [
    "# Using transformation pipelines\n",
    "\n",
    "from sklearn.compose import ColumnTransformer\n",
    "from sklearn.preprocessing import StandardScaler\n",
    "from utils import PLAYER_ATTR\n",
    "\n",
    "players = x_train.drop('Value', axis=1)\n",
    "\n",
    "num_attribs = PLAYER_ATTR + ['Age']\n",
    "cat_attribs = ['Preferred Foot', 'Best Pos']\n",
    "nat_attrib = ['Nation']\n",
    "\n",
    "full_pipeline = ColumnTransformer([\n",
    "    (\"num\", StandardScaler(), num_attribs),\n",
    "    (\"cat\", OneHotEncoder(), cat_attribs),\n",
    "    (\"nat\", NationToRank(), nat_attrib)\n",
    "])\n",
    "\n",
    "players_prepared = full_pipeline.fit_transform(players)"
   ]
  },
  {
   "cell_type": "code",
   "execution_count": 88,
   "metadata": {},
   "outputs": [
    {
     "data": {
      "text/plain": [
       "RandomForestClassifier(max_depth=64, n_estimators=50, random_state=42)"
      ]
     },
     "execution_count": 88,
     "metadata": {},
     "output_type": "execute_result"
    }
   ],
   "source": [
    "# Select and train model\n",
    "## RandomForestClassifier\n",
    "\n",
    "from sklearn.ensemble import RandomForestClassifier\n",
    "\n",
    "value_predictor = RandomForestClassifier(max_depth=64, n_estimators = 50, random_state = 42)\n",
    "value_predictor.fit(players_prepared, players_labels)"
   ]
  },
  {
   "cell_type": "code",
   "execution_count": 90,
   "metadata": {},
   "outputs": [
    {
     "ename": "TypeError",
     "evalue": "confusion_matrix() missing 1 required positional argument: 'y_pred'",
     "output_type": "error",
     "traceback": [
      "\u001b[0;31m---------------------------------------------------------------------------\u001b[0m",
      "\u001b[0;31mTypeError\u001b[0m                                 Traceback (most recent call last)",
      "\u001b[1;32m/home/ricardo/coding/data-science/projects/predict_value_change_from_fm_data/notebooks/02_model_current_value.ipynb Cell 15'\u001b[0m in \u001b[0;36m<cell line: 7>\u001b[0;34m()\u001b[0m\n\u001b[1;32m      <a href='vscode-notebook-cell:/home/ricardo/coding/data-science/projects/predict_value_change_from_fm_data/notebooks/02_model_current_value.ipynb#ch0000019?line=3'>4</a>\u001b[0m \u001b[39mfrom\u001b[39;00m \u001b[39msklearn\u001b[39;00m\u001b[39m.\u001b[39;00m\u001b[39mmetrics\u001b[39;00m \u001b[39mimport\u001b[39;00m confusion_matrix\n\u001b[1;32m      <a href='vscode-notebook-cell:/home/ricardo/coding/data-science/projects/predict_value_change_from_fm_data/notebooks/02_model_current_value.ipynb#ch0000019?line=5'>6</a>\u001b[0m value_predictions \u001b[39m=\u001b[39m cross_val_predict(value_predictor, players_prepared, players_labels, cv\u001b[39m=\u001b[39m\u001b[39m5\u001b[39m)\n\u001b[0;32m----> <a href='vscode-notebook-cell:/home/ricardo/coding/data-science/projects/predict_value_change_from_fm_data/notebooks/02_model_current_value.ipynb#ch0000019?line=6'>7</a>\u001b[0m confusion_matrix(value_predictions)\u001b[39m.\u001b[39mplot()\n",
      "\u001b[0;31mTypeError\u001b[0m: confusion_matrix() missing 1 required positional argument: 'y_pred'"
     ]
    }
   ],
   "source": [
    "# Error analysis\n",
    "\n",
    "from sklearn.model_selection import cross_val_predict\n",
    "from sklearn.metrics import confusion_matrix\n",
    "\n",
    "value_predictions = cross_val_predict(value_predictor, players_prepared, players_labels, cv=5)"
   ]
  },
  {
   "cell_type": "code",
   "execution_count": 97,
   "metadata": {},
   "outputs": [
    {
     "data": {
      "text/plain": [
       "<AxesSubplot:>"
      ]
     },
     "execution_count": 97,
     "metadata": {},
     "output_type": "execute_result"
    },
    {
     "data": {
      "image/png": "[encoded data removed]",
      "text/plain": [
       "<Figure size 432x288 with 2 Axes>"
      ]
     },
     "metadata": {
      "needs_background": "light"
     },
     "output_type": "display_data"
    }
   ],
   "source": [
    "import seaborn as sns\n",
    "\n",
    "conf_mx = confusion_matrix(players_labels, value_predictions)\n",
    "conf_mx = conf_mx.astype('float') / conf_mx.sum(axis=1)[:, np.newaxis]\n",
    "sns.heatmap(conf_mx, annot=True, fmt='.2f')"
   ]
  },
  {
   "cell_type": "code",
   "execution_count": 102,
   "metadata": {},
   "outputs": [],
   "source": [
    "evaluate_outliers = players[['Name', 'Division', 'Based']]\n",
    "evaluate_outliers['Value'] = players_df['Value']\n",
    "evaluate_outliers['Val_dif'] = value_predictions - players_labels.astype(np.int8)\n"
   ]
  }
 ],
 "metadata": {
  "kernelspec": {
   "display_name": "Python 3.9.12 ('base')",
   "language": "python",
   "name": "python3"
  },
  "language_info": {
   "codemirror_mode": {
    "name": "ipython",
    "version": 3
   },
   "file_extension": ".py",
   "mimetype": "text/x-python",
   "name": "python",
   "nbconvert_exporter": "python",
   "pygments_lexer": "ipython3",
   "version": "3.9.12"
  },
  "orig_nbformat": 4,
  "vscode": {
   "interpreter": {
    "hash": "abecc9efee1d216150679339f7cb39e17f2b3783b014e8db6aa18b4f299df678"
   }
  }
 },
 "nbformat": 4,
 "nbformat_minor": 2
}
