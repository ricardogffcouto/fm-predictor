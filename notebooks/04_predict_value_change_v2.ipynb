{
 "cells": [
  {
   "cell_type": "code",
   "execution_count": 1,
   "metadata": {},
   "outputs": [],
   "source": [
    "# Imports & Setup\n",
    "\n",
    "import sys\n",
    "import warnings\n",
    "\n",
    "import pandas as pd\n",
    "import numpy as np\n",
    "import seaborn as sns\n",
    "\n",
    "from matplotlib import pyplot as plt\n",
    "\n",
    "PROJECT_FOLDER = '/home/ricardo/coding/data-science/projects/predict_value_change_from_fm_data/'\n",
    "\n",
    "sys.path.insert(0, PROJECT_FOLDER)\n",
    "\n",
    "from utils import POSITION_MAPPING, name_to_id\n",
    "\n",
    "plt.rcParams[\"figure.figsize\"] = (20,10)\n",
    "\n",
    "warnings.filterwarnings('ignore')"
   ]
  },
  {
   "cell_type": "code",
   "execution_count": 2,
   "metadata": {},
   "outputs": [],
   "source": [
    "# Import datasets\n",
    "\n",
    "fm20_dataset = pd.read_csv(PROJECT_FOLDER + \"datasets/datafm20.csv\")\n",
    "transfermarkt_players_dataset = pd.read_csv(PROJECT_FOLDER + \"datasets/players.csv\")\n",
    "transfermarkt_valuations_dataset = pd.read_csv(PROJECT_FOLDER + \"datasets/player_valuations.csv\")"
   ]
  },
  {
   "cell_type": "code",
   "execution_count": 3,
   "metadata": {},
   "outputs": [],
   "source": [
    "# Prepare dataset - merge fm20_df and less_28_players\n",
    "\n",
    "# Use only players with less than 28 yo\n",
    "\n",
    "transfermarkt_base_players_df = transfermarkt_players_dataset [:]\n",
    "transfermarkt_base_players_df.query(\"last_season >= 2021 & date_of_birth >= '1992-01-01' & position != 'Goalkeeper'\", inplace=True)\n",
    "transfermarkt_base_players_df.sort_values(by='market_value_in_gbp', ascending=False, inplace=True)\n",
    "\n",
    "fm20_base_players_df = fm20_dataset.query(\"Age <= 27 & `Best Pos` != 'GK'\")\n",
    "fm20_base_players_df.sort_values(by='Value', ascending=False, inplace=True)"
   ]
  },
  {
   "cell_type": "code",
   "execution_count": 4,
   "metadata": {},
   "outputs": [],
   "source": [
    "# Map country_of_citizenship (Transfermarkt) to country codes (FM20)\n",
    "\n",
    "fm20_name_nation_mapping = fm20_dataset.groupby('Nation').head()[['Name', 'Nation']]\n",
    "fm20_name_nation_mapping['Transfermarkt_Name'] = fm20_name_nation_mapping['Name'].apply(name_to_id).apply(lambda x: x.replace('-scaron-', 's'))\n",
    "\n",
    "transfermarkt_name_nation_mapping = transfermarkt_base_players_df[['name', 'country_of_citizenship']]\n",
    "\n",
    "player_nationalities_mapping = fm20_name_nation_mapping.merge(transfermarkt_name_nation_mapping, left_on='Transfermarkt_Name', right_on='name')\n",
    "player_nationalities_mapping.drop_duplicates(subset='Nation', inplace=True)\n",
    "\n",
    "fm20_base_players_df = fm20_base_players_df.merge(player_nationalities_mapping[['Nation', 'country_of_citizenship']], on='Nation')"
   ]
  },
  {
   "cell_type": "code",
   "execution_count": 5,
   "metadata": {},
   "outputs": [],
   "source": [
    "# Map position (Transfermarkt) to Best Pos (FM20)\n",
    "\n",
    "\n",
    "transfermarkt_base_players_df['FM_Pos'] = transfermarkt_base_players_df['position'].apply(lambda x: x[0])\n",
    "\n",
    "fm20_base_players_df['Transfermarkt_Pos'] = fm20_base_players_df['Best Pos'].map(POSITION_MAPPING)"
   ]
  },
  {
   "cell_type": "code",
   "execution_count": 6,
   "metadata": {},
   "outputs": [],
   "source": [
    "# Map name (Transfermarkt) to Name (FM20)\n",
    "\n",
    "fm20_base_players_df['Transfermarkt_Name'] = fm20_base_players_df['Name'].apply(name_to_id).apply(lambda x: x.replace('-scaron-', 's'))"
   ]
  },
  {
   "cell_type": "code",
   "execution_count": 7,
   "metadata": {},
   "outputs": [],
   "source": [
    "# Merge dataframes\n",
    "\n",
    "transfermarkt_fm20_merged_df = fm20_base_players_df.merge(transfermarkt_base_players_df, left_on=['Transfermarkt_Name', 'country_of_citizenship', 'Transfermarkt_Pos'], right_on=['name', 'country_of_citizenship', 'FM_Pos'])\n",
    "\n",
    "transfermarkt_fm20_merged_df.drop_duplicates(subset=['Transfermarkt_Name', 'country_of_citizenship', 'FM_Pos'], inplace=True)"
   ]
  },
  {
   "cell_type": "code",
   "execution_count": 8,
   "metadata": {},
   "outputs": [],
   "source": [
    "# Insert target values (valuation now vs valuations 2020)\n",
    "\n",
    "transfermarkt_fm20_merged_df['value_2022'] = transfermarkt_fm20_merged_df['market_value_in_gbp']\n",
    "\n",
    "player_values_2020 = transfermarkt_valuations_dataset.query(\"date >= '2019-07-01' & date <= '2020-12-31'\").sort_values(by='date', ascending=True).drop_duplicates(subset='player_id')\n",
    "\n",
    "player_values_2020['value_2020'] = player_values_2020['market_value']\n",
    "\n",
    "players_with_values = transfermarkt_fm20_merged_df.merge(player_values_2020, on='player_id')\n",
    "\n",
    "players_with_values['value_diff'] = players_with_values['value_2022'] - players_with_values['value_2020']"
   ]
  },
  {
   "cell_type": "code",
   "execution_count": 9,
   "metadata": {},
   "outputs": [
    {
     "data": {
      "text/plain": [
       "<AxesSubplot:>"
      ]
     },
     "execution_count": 9,
     "metadata": {},
     "output_type": "execute_result"
    },
    {
     "data": {
      "image/png": "[encoded data removed]",
      "text/plain": [
       "<Figure size 1440x720 with 1 Axes>"
      ]
     },
     "metadata": {
      "needs_background": "light"
     },
     "output_type": "display_data"
    }
   ],
   "source": [
    "# Prepare df for stratify\n",
    "\n",
    "\n",
    "value_bins = [-np.inf, 0, 1000000, 2500000, 10000000, np.inf]\n",
    "\n",
    "players_with_values['value_cat'] = pd.cut(players_with_values[\"value_diff\"], bins=value_bins, labels=range(len(value_bins)-1))\n",
    "\n",
    "players_with_values['value_cat'].hist()"
   ]
  },
  {
   "cell_type": "code",
   "execution_count": 10,
   "metadata": {},
   "outputs": [],
   "source": [
    "# Create test set\n",
    "\n",
    "from sklearn.model_selection import train_test_split\n",
    "\n",
    "players_for_analysis = players_with_values[:]\n",
    "\n",
    "players_for_analysis.dropna(subset=['value_cat'], inplace=True)\n",
    "\n",
    "x_train, x_test, y_train, y_test = train_test_split(players_for_analysis, players_for_analysis['value_cat'], test_size=0.2, random_state=42, stratify=players_for_analysis['value_cat'])"
   ]
  },
  {
   "cell_type": "code",
   "execution_count": 11,
   "metadata": {},
   "outputs": [],
   "source": [
    "# Revert to clean training set\n",
    "\n",
    "players_v1 = x_train.drop('value_cat', axis=1)\n",
    "players_labels_v1 = x_train['value_cat'].copy()"
   ]
  },
  {
   "cell_type": "code",
   "execution_count": 12,
   "metadata": {},
   "outputs": [],
   "source": [
    "# Custom Nation transformer\n",
    "\n",
    "from sklearn.base import BaseEstimator, TransformerMixin\n",
    "\n",
    "class NationToRank(BaseEstimator, TransformerMixin):\n",
    "    def __init__(self):\n",
    "        pass\n",
    "    \n",
    "    def fit(self, X, y=None):\n",
    "        return self\n",
    "    \n",
    "    def transform(self, X):\n",
    "        fifa_wr = pd.read_csv(PROJECT_FOLDER + \"datasets/fifa_ranking-2021-05-27.csv\")\n",
    "        nation_encoder = fifa_wr.query('rank_date == \"2020-10-22\"')[['rank', 'country_abrv']]\n",
    "        max_rank = nation_encoder['rank'].max() + 1\n",
    "        X['Nation_rank'] = 1 - (X['Nation'].map(nation_encoder.set_index('country_abrv')['rank']).fillna(max_rank) / max_rank)\n",
    "        X.drop('Nation', axis=1, inplace=True)\n",
    "        return X"
   ]
  },
  {
   "cell_type": "code",
   "execution_count": 13,
   "metadata": {},
   "outputs": [],
   "source": [
    "# Custom Attributes transformer\n",
    "\n",
    "from sklearn.base import BaseEstimator, TransformerMixin\n",
    "from sklearn.preprocessing import StandardScaler\n",
    "from utils import apply_mean_attribute_list, PLAYER_ATTR\n",
    "\n",
    "class AttributeMerger(BaseEstimator, TransformerMixin):\n",
    "    def __init__(self):\n",
    "        pass\n",
    "    \n",
    "    def fit(self, X, y=None):\n",
    "        return self\n",
    "    \n",
    "    def transform(self, X):\n",
    "        physical_attr = ['Acc', 'Pac', 'Sta', 'Str', 'Agi', 'Bal', 'Jum', 'Nat']\n",
    "        mental_attr = ['Wor', 'Vis', 'Tea', 'Pos', 'OtB', 'Ldr', 'Fla', 'Det', 'Dec', 'Cnt', 'Cmp', 'Bra', 'Ant', 'Agg']\n",
    "        apply_mean_attribute_list(X, 'M+P', physical_attr + mental_attr)\n",
    "        X['M+P'] = X['M+P'] / 20\n",
    "        X.drop(PLAYER_ATTR, axis=1, inplace=True)\n",
    "        return X\n"
   ]
  },
  {
   "cell_type": "code",
   "execution_count": 14,
   "metadata": {},
   "outputs": [],
   "source": [
    "# Custom Based transformer\n",
    "\n",
    "from sklearn.base import BaseEstimator, TransformerMixin\n",
    "\n",
    "class BasedToRank(BaseEstimator, TransformerMixin):\n",
    "    def __init__(self):\n",
    "        pass\n",
    "    \n",
    "    def fit(self, X, y=None):\n",
    "        return self\n",
    "    \n",
    "    def transform(self, X):\n",
    "        based_encoder = players_with_values.groupby('Based').sum().rank(ascending=True, method='first')\n",
    "        max_rank = based_encoder['value_2020'].max()\n",
    "        X['Based_rank'] = (X['Based'].map(based_encoder['value_2020']).fillna(max_rank) / max_rank)\n",
    "        X.drop('Based', axis=1, inplace=True)\n",
    "        return X"
   ]
  },
  {
   "cell_type": "code",
   "execution_count": 15,
   "metadata": {},
   "outputs": [],
   "source": [
    "# Using transformation pipelines\n",
    "\n",
    "from sklearn.compose import ColumnTransformer\n",
    "from sklearn.preprocessing import StandardScaler, OneHotEncoder\n",
    "from utils import PLAYER_ATTR\n",
    "\n",
    "players = x_train.drop('Value', axis=1)\n",
    "\n",
    "features_v1 = {\n",
    "    'att': (PLAYER_ATTR, ['M+P']),\n",
    "    'num': (PLAYER_ATTR + ['Age'], None),\n",
    "    'cat': (['Preferred Foot', 'Best Pos'], [f'Foot {_}' for _ in range(5)] + [f'Pos {_}' for _ in range(13)]),\n",
    "    'nat': (['Nation'], None),\n",
    "    'bas': (['Based'], None)\n",
    "}\n",
    "\n",
    "feature_labels_v1 = list(np.concatenate([f[1] if f[1] is not None else f[0] for k, f in features_v1.items()]).flat)\n",
    "\n",
    "full_pipeline_v1 = ColumnTransformer([\n",
    "    (\"att\", AttributeMerger(), features_v1['att'][0]),\n",
    "    (\"num\", StandardScaler(), features_v1['num'][0]),\n",
    "    (\"cat\", OneHotEncoder(), features_v1['cat'][0]),\n",
    "    (\"nat\", NationToRank(), features_v1['nat'][0]),\n",
    "    (\"bas\", BasedToRank(), features_v1['bas'][0])\n",
    "])\n",
    "\n",
    "players_prepared_v1 = full_pipeline_v1.fit_transform(players)"
   ]
  },
  {
   "cell_type": "code",
   "execution_count": 16,
   "metadata": {},
   "outputs": [
    {
     "data": {
      "text/plain": [
       "RandomForestClassifier(random_state=42)"
      ]
     },
     "execution_count": 16,
     "metadata": {},
     "output_type": "execute_result"
    }
   ],
   "source": [
    "# Select and train model\n",
    "## RandomForestClassifier\n",
    "\n",
    "from sklearn.ensemble import RandomForestClassifier\n",
    "\n",
    "value_predictor_v1 = RandomForestClassifier(max_depth=None, n_estimators = 100, random_state = 42)\n",
    "value_predictor_v1.fit(players_prepared_v1, players_labels_v1)"
   ]
  },
  {
   "cell_type": "code",
   "execution_count": 17,
   "metadata": {},
   "outputs": [],
   "source": [
    "# Error analysis\n",
    "\n",
    "from sklearn.model_selection import cross_val_predict\n",
    "\n",
    "value_predictions_v1 = cross_val_predict(value_predictor_v1, players_prepared_v1, players_labels_v1, cv=5)"
   ]
  },
  {
   "cell_type": "code",
   "execution_count": 18,
   "metadata": {},
   "outputs": [
    {
     "data": {
      "text/plain": [
       "<AxesSubplot:>"
      ]
     },
     "execution_count": 18,
     "metadata": {},
     "output_type": "execute_result"
    },
    {
     "data": {
      "image/png": "[encoded data removed]",
      "text/plain": [
       "<Figure size 1440x720 with 2 Axes>"
      ]
     },
     "metadata": {
      "needs_background": "light"
     },
     "output_type": "display_data"
    }
   ],
   "source": [
    "import seaborn as sns\n",
    "from sklearn.metrics import confusion_matrix\n",
    "\n",
    "conf_mx = confusion_matrix(players_labels_v1, value_predictions_v1)\n",
    "conf_mx = conf_mx.astype('float') / conf_mx.sum(axis=1)[:, np.newaxis]\n",
    "sns.heatmap(conf_mx, annot=True, fmt='.2f')"
   ]
  },
  {
   "cell_type": "code",
   "execution_count": 19,
   "metadata": {},
   "outputs": [
    {
     "data": {
      "text/plain": [
       "<BarContainer object of 3 artists>"
      ]
     },
     "execution_count": 19,
     "metadata": {},
     "output_type": "execute_result"
    },
    {
     "data": {
      "image/png": "[encoded data removed]",
      "text/plain": [
       "<Figure size 1440x720 with 1 Axes>"
      ]
     },
     "metadata": {
      "needs_background": "light"
     },
     "output_type": "display_data"
    }
   ],
   "source": [
    "plt.bar(feature_labels_v1, value_predictor_v1.feature_importances_)"
   ]
  },
  {
   "cell_type": "code",
   "execution_count": 20,
   "metadata": {},
   "outputs": [
    {
     "data": {
      "text/plain": [
       "<AxesSubplot:>"
      ]
     },
     "execution_count": 20,
     "metadata": {},
     "output_type": "execute_result"
    },
    {
     "data": {
      "image/png": "[encoded data removed]",
      "text/plain": [
       "<Figure size 1440x720 with 1 Axes>"
      ]
     },
     "metadata": {
      "needs_background": "light"
     },
     "output_type": "display_data"
    }
   ],
   "source": [
    "# Oversample minority classes\n",
    "from imblearn.over_sampling import SMOTE\n",
    "players_prepared_over_v1, players_labels_over_v1 = SMOTE().fit_resample(players_prepared_v1, players_labels_v1)\n",
    "\n",
    "players_labels_over_v1.hist()"
   ]
  },
  {
   "cell_type": "code",
   "execution_count": 21,
   "metadata": {},
   "outputs": [
    {
     "data": {
      "text/plain": [
       "RandomForestClassifier(random_state=42)"
      ]
     },
     "execution_count": 21,
     "metadata": {},
     "output_type": "execute_result"
    }
   ],
   "source": [
    "# Train again with oversampled data\n",
    "\n",
    "from sklearn.ensemble import RandomForestClassifier\n",
    "\n",
    "value_predictor_v2 = RandomForestClassifier(max_depth=None, n_estimators = 100, random_state = 42)\n",
    "value_predictor_v2.fit(players_prepared_over_v1, players_labels_over_v1)"
   ]
  },
  {
   "cell_type": "code",
   "execution_count": 22,
   "metadata": {},
   "outputs": [],
   "source": [
    "# Error analysis\n",
    "\n",
    "from sklearn.model_selection import cross_val_predict\n",
    "\n",
    "value_predictions_v2 = cross_val_predict(value_predictor_v2, players_prepared_over_v1, players_labels_over_v1, cv=5)"
   ]
  },
  {
   "cell_type": "code",
   "execution_count": 23,
   "metadata": {},
   "outputs": [
    {
     "data": {
      "text/plain": [
       "<AxesSubplot:>"
      ]
     },
     "execution_count": 23,
     "metadata": {},
     "output_type": "execute_result"
    },
    {
     "data": {
      "image/png": "[encoded data removed]",
      "text/plain": [
       "<Figure size 1440x720 with 2 Axes>"
      ]
     },
     "metadata": {
      "needs_background": "light"
     },
     "output_type": "display_data"
    }
   ],
   "source": [
    "import seaborn as sns\n",
    "from sklearn.metrics import confusion_matrix\n",
    "\n",
    "conf_mx = confusion_matrix(players_labels_over_v1, value_predictions_v2)\n",
    "conf_mx = conf_mx.astype('float') / conf_mx.sum(axis=1)[:, np.newaxis]\n",
    "sns.heatmap(conf_mx, annot=True, fmt='.2f')"
   ]
  },
  {
   "cell_type": "code",
   "execution_count": 24,
   "metadata": {},
   "outputs": [
    {
     "data": {
      "text/plain": [
       "['/home/ricardo/coding/data-science/projects/predict_value_change_from_fm_data/models/rf_value_predictor.pkl']"
      ]
     },
     "execution_count": 24,
     "metadata": {},
     "output_type": "execute_result"
    }
   ],
   "source": [
    "# Save promissing model\n",
    "\n",
    "import joblib\n",
    "joblib.dump(value_predictor_v2, PROJECT_FOLDER + \"models/rf_value_predictor.pkl\")"
   ]
  },
  {
   "cell_type": "code",
   "execution_count": 25,
   "metadata": {},
   "outputs": [],
   "source": [
    "# Prepare test values for analysis\n",
    "\n",
    "test_players_prepared = full_pipeline_v1.fit_transform(x_test)\n",
    "test_players_labels = y_test"
   ]
  },
  {
   "cell_type": "code",
   "execution_count": 26,
   "metadata": {},
   "outputs": [],
   "source": [
    "# Predict test values\n",
    "\n",
    "value_predictor_v2.predict(test_players_prepared[0].reshape(1, -1))\n",
    "\n",
    "test_value_predictions_v2 = cross_val_predict(value_predictor_v2, test_players_prepared, test_players_labels, cv=5)"
   ]
  },
  {
   "cell_type": "code",
   "execution_count": 27,
   "metadata": {},
   "outputs": [
    {
     "data": {
      "text/plain": [
       "<AxesSubplot:>"
      ]
     },
     "execution_count": 27,
     "metadata": {},
     "output_type": "execute_result"
    },
    {
     "data": {
      "image/png": "[encoded data removed]",
      "text/plain": [
       "<Figure size 1440x720 with 2 Axes>"
      ]
     },
     "metadata": {
      "needs_background": "light"
     },
     "output_type": "display_data"
    }
   ],
   "source": [
    "# Test values confusion matrix\n",
    "\n",
    "conf_mx = confusion_matrix(test_players_labels, test_value_predictions_v2)\n",
    "conf_mx = conf_mx.astype('float') / conf_mx.sum(axis=1)[:, np.newaxis]\n",
    "sns.heatmap(conf_mx, annot=True, fmt='.2f')"
   ]
  },
  {
   "cell_type": "code",
   "execution_count": 28,
   "metadata": {},
   "outputs": [
    {
     "ename": "ValueError",
     "evalue": "multiclass format is not supported",
     "output_type": "error",
     "traceback": [
      "\u001b[0;31m---------------------------------------------------------------------------\u001b[0m",
      "\u001b[0;31mValueError\u001b[0m                                Traceback (most recent call last)",
      "\u001b[1;32m/home/ricardo/coding/data-science/projects/predict_value_change_from_fm_data/notebooks/04_predict_value_change_v2.ipynb Cell 28'\u001b[0m in \u001b[0;36m<cell line: 3>\u001b[0;34m()\u001b[0m\n\u001b[1;32m      <a href='vscode-notebook-cell:/home/ricardo/coding/data-science/projects/predict_value_change_from_fm_data/notebooks/04_predict_value_change_v2.ipynb#ch0000026?line=0'>1</a>\u001b[0m \u001b[39mfrom\u001b[39;00m \u001b[39msklearn\u001b[39;00m\u001b[39m.\u001b[39;00m\u001b[39mmetrics\u001b[39;00m \u001b[39mimport\u001b[39;00m roc_curve\n\u001b[0;32m----> <a href='vscode-notebook-cell:/home/ricardo/coding/data-science/projects/predict_value_change_from_fm_data/notebooks/04_predict_value_change_v2.ipynb#ch0000026?line=2'>3</a>\u001b[0m fpr, tpr, thresholds \u001b[39m=\u001b[39m roc_curve(test_value_predictions_v2, value_predictor_v2\u001b[39m.\u001b[39;49mpredict_proba(test_players_prepared)[:, \u001b[39m4\u001b[39;49m])\n\u001b[1;32m      <a href='vscode-notebook-cell:/home/ricardo/coding/data-science/projects/predict_value_change_from_fm_data/notebooks/04_predict_value_change_v2.ipynb#ch0000026?line=3'>4</a>\u001b[0m plt\u001b[39m.\u001b[39mplot(fpr, tpr, linewidth\u001b[39m=\u001b[39m\u001b[39m2\u001b[39m)\n\u001b[1;32m      <a href='vscode-notebook-cell:/home/ricardo/coding/data-science/projects/predict_value_change_from_fm_data/notebooks/04_predict_value_change_v2.ipynb#ch0000026?line=4'>5</a>\u001b[0m plt\u001b[39m.\u001b[39mplot([\u001b[39m0\u001b[39m, \u001b[39m1\u001b[39m], [\u001b[39m0\u001b[39m, \u001b[39m1\u001b[39m], \u001b[39m'\u001b[39m\u001b[39mk--\u001b[39m\u001b[39m'\u001b[39m)\n",
      "File \u001b[0;32m~/anaconda3/lib/python3.9/site-packages/sklearn/metrics/_ranking.py:962\u001b[0m, in \u001b[0;36mroc_curve\u001b[0;34m(y_true, y_score, pos_label, sample_weight, drop_intermediate)\u001b[0m\n\u001b[1;32m    873\u001b[0m \u001b[39mdef\u001b[39;00m \u001b[39mroc_curve\u001b[39m(\n\u001b[1;32m    874\u001b[0m     y_true, y_score, \u001b[39m*\u001b[39m, pos_label\u001b[39m=\u001b[39m\u001b[39mNone\u001b[39;00m, sample_weight\u001b[39m=\u001b[39m\u001b[39mNone\u001b[39;00m, drop_intermediate\u001b[39m=\u001b[39m\u001b[39mTrue\u001b[39;00m\n\u001b[1;32m    875\u001b[0m ):\n\u001b[1;32m    876\u001b[0m     \u001b[39m\"\"\"Compute Receiver operating characteristic (ROC).\u001b[39;00m\n\u001b[1;32m    877\u001b[0m \n\u001b[1;32m    878\u001b[0m \u001b[39m    Note: this implementation is restricted to the binary classification task.\u001b[39;00m\n\u001b[0;32m   (...)\u001b[0m\n\u001b[1;32m    960\u001b[0m \n\u001b[1;32m    961\u001b[0m \u001b[39m    \"\"\"\u001b[39;00m\n\u001b[0;32m--> 962\u001b[0m     fps, tps, thresholds \u001b[39m=\u001b[39m _binary_clf_curve(\n\u001b[1;32m    963\u001b[0m         y_true, y_score, pos_label\u001b[39m=\u001b[39;49mpos_label, sample_weight\u001b[39m=\u001b[39;49msample_weight\n\u001b[1;32m    964\u001b[0m     )\n\u001b[1;32m    966\u001b[0m     \u001b[39m# Attempt to drop thresholds corresponding to points in between and\u001b[39;00m\n\u001b[1;32m    967\u001b[0m     \u001b[39m# collinear with other points. These are always suboptimal and do not\u001b[39;00m\n\u001b[1;32m    968\u001b[0m     \u001b[39m# appear on a plotted ROC curve (and thus do not affect the AUC).\u001b[39;00m\n\u001b[0;32m   (...)\u001b[0m\n\u001b[1;32m    973\u001b[0m     \u001b[39m# but does not drop more complicated cases like fps = [1, 3, 7],\u001b[39;00m\n\u001b[1;32m    974\u001b[0m     \u001b[39m# tps = [1, 2, 4]; there is no harm in keeping too many thresholds.\u001b[39;00m\n\u001b[1;32m    975\u001b[0m     \u001b[39mif\u001b[39;00m drop_intermediate \u001b[39mand\u001b[39;00m \u001b[39mlen\u001b[39m(fps) \u001b[39m>\u001b[39m \u001b[39m2\u001b[39m:\n",
      "File \u001b[0;32m~/anaconda3/lib/python3.9/site-packages/sklearn/metrics/_ranking.py:731\u001b[0m, in \u001b[0;36m_binary_clf_curve\u001b[0;34m(y_true, y_score, pos_label, sample_weight)\u001b[0m\n\u001b[1;32m    729\u001b[0m y_type \u001b[39m=\u001b[39m type_of_target(y_true)\n\u001b[1;32m    730\u001b[0m \u001b[39mif\u001b[39;00m \u001b[39mnot\u001b[39;00m (y_type \u001b[39m==\u001b[39m \u001b[39m\"\u001b[39m\u001b[39mbinary\u001b[39m\u001b[39m\"\u001b[39m \u001b[39mor\u001b[39;00m (y_type \u001b[39m==\u001b[39m \u001b[39m\"\u001b[39m\u001b[39mmulticlass\u001b[39m\u001b[39m\"\u001b[39m \u001b[39mand\u001b[39;00m pos_label \u001b[39mis\u001b[39;00m \u001b[39mnot\u001b[39;00m \u001b[39mNone\u001b[39;00m)):\n\u001b[0;32m--> 731\u001b[0m     \u001b[39mraise\u001b[39;00m \u001b[39mValueError\u001b[39;00m(\u001b[39m\"\u001b[39m\u001b[39m{0}\u001b[39;00m\u001b[39m format is not supported\u001b[39m\u001b[39m\"\u001b[39m\u001b[39m.\u001b[39mformat(y_type))\n\u001b[1;32m    733\u001b[0m check_consistent_length(y_true, y_score, sample_weight)\n\u001b[1;32m    734\u001b[0m y_true \u001b[39m=\u001b[39m column_or_1d(y_true)\n",
      "\u001b[0;31mValueError\u001b[0m: multiclass format is not supported"
     ]
    }
   ],
   "source": [
    "from sklearn.metrics import roc_curve\n",
    "\n",
    "fpr, tpr, thresholds = roc_curve(test_value_predictions_v2, value_predictor_v2.predict_proba(test_players_prepared)[:, 4])\n",
    "plt.plot(fpr, tpr, linewidth=2)\n",
    "plt.plot([0, 1], [0, 1], 'k--')\n",
    "plt.show()"
   ]
  },
  {
   "cell_type": "code",
   "execution_count": null,
   "metadata": {},
   "outputs": [
    {
     "ename": "AttributeError",
     "evalue": "'ColumnTransformer' object has no attribute 'clone'",
     "output_type": "error",
     "traceback": [
      "\u001b[0;31m---------------------------------------------------------------------------\u001b[0m",
      "\u001b[0;31mAttributeError\u001b[0m                            Traceback (most recent call last)",
      "\u001b[1;32m/home/ricardo/coding/data-science/projects/predict_value_change_from_fm_data/notebooks/04_predict_value_change_v2.ipynb Cell 25'\u001b[0m in \u001b[0;36m<cell line: 5>\u001b[0;34m()\u001b[0m\n\u001b[1;32m      <a href='vscode-notebook-cell:/home/ricardo/coding/data-science/projects/predict_value_change_from_fm_data/notebooks/04_predict_value_change_v2.ipynb#ch0000023?line=1'>2</a>\u001b[0m \u001b[39mfrom\u001b[39;00m \u001b[39msklearn\u001b[39;00m\u001b[39m.\u001b[39;00m\u001b[39mbase\u001b[39;00m \u001b[39mimport\u001b[39;00m clone\n\u001b[1;32m      <a href='vscode-notebook-cell:/home/ricardo/coding/data-science/projects/predict_value_change_from_fm_data/notebooks/04_predict_value_change_v2.ipynb#ch0000023?line=3'>4</a>\u001b[0m features_v3 \u001b[39m=\u001b[39m [\u001b[39m'\u001b[39m\u001b[39mCmp\u001b[39m\u001b[39m'\u001b[39m, \u001b[39m'\u001b[39m\u001b[39mTec\u001b[39m\u001b[39m'\u001b[39m, \u001b[39m'\u001b[39m\u001b[39mPac\u001b[39m\u001b[39m'\u001b[39m, \u001b[39m'\u001b[39m\u001b[39mBal\u001b[39m\u001b[39m'\u001b[39m, \u001b[39m'\u001b[39m\u001b[39mAge\u001b[39m\u001b[39m'\u001b[39m, \u001b[39m'\u001b[39m\u001b[39mM+P\u001b[39m\u001b[39m'\u001b[39m, \u001b[39m'\u001b[39m\u001b[39mBased\u001b[39m\u001b[39m'\u001b[39m]\n\u001b[0;32m----> <a href='vscode-notebook-cell:/home/ricardo/coding/data-science/projects/predict_value_change_from_fm_data/notebooks/04_predict_value_change_v2.ipynb#ch0000023?line=4'>5</a>\u001b[0m full_pipeline_v3 \u001b[39m=\u001b[39m full_pipeline\u001b[39m.\u001b[39;49mclone()\n\u001b[1;32m      <a href='vscode-notebook-cell:/home/ricardo/coding/data-science/projects/predict_value_change_from_fm_data/notebooks/04_predict_value_change_v2.ipynb#ch0000023?line=5'>6</a>\u001b[0m full_pipeline_v3[\u001b[39m'\u001b[39m\u001b[39mnum\u001b[39m\u001b[39m'\u001b[39m] \u001b[39m=\u001b[39m features_v3\n",
      "\u001b[0;31mAttributeError\u001b[0m: 'ColumnTransformer' object has no attribute 'clone'"
     ]
    }
   ],
   "source": [
    "# Select most relevant features\n",
    "# from sklearn.base import clone\n",
    "\n",
    "# features_v3 = ['Cmp', 'Tec', 'Pac', 'Bal', 'Age', 'M+P', 'Based']\n",
    "# full_pipeline_v3 = full_pipeline.clone()\n",
    "# full_pipeline_v3['num'] = features_v3\n"
   ]
  }
 ],
 "metadata": {
  "kernelspec": {
   "display_name": "Python 3.9.12 ('base')",
   "language": "python",
   "name": "python3"
  },
  "language_info": {
   "codemirror_mode": {
    "name": "ipython",
    "version": 3
   },
   "file_extension": ".py",
   "mimetype": "text/x-python",
   "name": "python",
   "nbconvert_exporter": "python",
   "pygments_lexer": "ipython3",
   "version": "3.9.12"
  },
  "orig_nbformat": 4,
  "vscode": {
   "interpreter": {
    "hash": "abecc9efee1d216150679339f7cb39e17f2b3783b014e8db6aa18b4f299df678"
   }
  }
 },
 "nbformat": 4,
 "nbformat_minor": 2
}
