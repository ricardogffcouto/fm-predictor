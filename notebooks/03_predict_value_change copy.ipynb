{
 "cells": [
  {
   "cell_type": "code",
   "execution_count": 1,
   "metadata": {},
   "outputs": [],
   "source": [
    "# Import dataset\n",
    "\n",
    "import pandas as pd\n",
    "import warnings\n",
    "import sys  \n",
    "\n",
    "PROJECT_FOLDER = '/home/ricardo/coding/data-science/projects/predict_value_change_from_fm_data/'\n",
    "\n",
    "sys.path.insert(0, PROJECT_FOLDER)\n",
    "warnings.filterwarnings('ignore')\n",
    "\n",
    "fm20_dataset = pd.read_csv(PROJECT_FOLDER + \"datasets/datafm20.csv\")\n",
    "transfermarkt_players_dataset = pd.read_csv(PROJECT_FOLDER + \"datasets/players.csv\")\n",
    "transfermarkt_valuations_dataset = pd.read_csv(PROJECT_FOLDER + \"datasets/player_valuations.csv\")"
   ]
  },
  {
   "cell_type": "code",
   "execution_count": 2,
   "metadata": {},
   "outputs": [],
   "source": [
    "# Prepare dataset - merge fm20_df and less_28_players\n",
    "\n",
    "# Use only players with less than 28 yo\n",
    "\n",
    "transfermarkt_base_players_df = transfermarkt_players_dataset [:]\n",
    "transfermarkt_base_players_df.query(\"last_season >= 2021 & date_of_birth >= '1992-01-01' & position != 'Goalkeeper'\", inplace=True)\n",
    "transfermarkt_base_players_df.sort_values(by='market_value_in_gbp', ascending=False, inplace=True)\n",
    "\n",
    "fm20_base_players_df = fm20_dataset.query(\"Age <= 27 & `Best Pos` != 'GK'\")\n",
    "fm20_base_players_df.sort_values(by='Value', ascending=False, inplace=True)"
   ]
  },
  {
   "cell_type": "code",
   "execution_count": 11,
   "metadata": {},
   "outputs": [],
   "source": [
    "# Map country_of_citizenship (Transfermarkt) to country codes (FM20)\n",
    "\n",
    "from utils import name_to_id\n",
    "\n",
    "fm20_name_nation_mapping = fm20_dataset.groupby('Nation').head()[['Name', 'Nation']]\n",
    "fm20_name_nation_mapping['Transfermarkt_Name'] = fm20_name_nation_mapping['Name'].apply(name_to_id).apply(lambda x: x.replace('-scaron-', 's'))\n",
    "\n",
    "transfermarkt_name_nation_mapping = transfermarkt_base_players_df[['name', 'country_of_citizenship']]\n",
    "\n",
    "player_nationalities_mapping = fm20_name_nation_mapping.merge(transfermarkt_name_nation_mapping, left_on='Transfermarkt_Name', right_on='name')\n",
    "player_nationalities_mapping.drop_duplicates(subset='Nation', inplace=True)\n",
    "\n",
    "fm20_base_players_df = fm20_base_players_df.merge(player_nationalities_mapping[['Nation', 'country_of_citizenship']], on='Nation')"
   ]
  },
  {
   "cell_type": "code",
   "execution_count": 12,
   "metadata": {},
   "outputs": [],
   "source": [
    "# Map position (Transfermarkt) to Best Pos (FM20)\n",
    "\n",
    "from utils import POSITION_MAPPING\n",
    "\n",
    "transfermarkt_base_players_df['FM_Pos'] = transfermarkt_base_players_df['position'].apply(lambda x: x[0])\n",
    "\n",
    "fm20_base_players_df['Transfermarkt_Pos'] = fm20_base_players_df['Best Pos'].map(POSITION_MAPPING)"
   ]
  },
  {
   "cell_type": "code",
   "execution_count": 13,
   "metadata": {},
   "outputs": [],
   "source": [
    "# Map name (Transfermarkt) to Name (FM20)\n",
    "\n",
    "fm20_base_players_df['Transfermarkt_Name'] = fm20_base_players_df['Name'].apply(name_to_id).apply(lambda x: x.replace('-scaron-', 's'))"
   ]
  },
  {
   "cell_type": "code",
   "execution_count": 19,
   "metadata": {},
   "outputs": [],
   "source": [
    "# Merge dataframes\n",
    "\n",
    "transfermarkt_fm20_merged_df = fm20_base_players_df.merge(transfermarkt_base_players_df, left_on=['Transfermarkt_Name', 'country_of_citizenship', 'Transfermarkt_Pos'], right_on=['name', 'country_of_citizenship', 'FM_Pos'])\n",
    "\n",
    "transfermarkt_fm20_merged_df.drop_duplicates(subset=['Transfermarkt_Name', 'country_of_citizenship', 'FM_Pos'], inplace=True)"
   ]
  },
  {
   "cell_type": "code",
   "execution_count": 20,
   "metadata": {},
   "outputs": [],
   "source": [
    "# Insert target values (valuation now vs valuations 2020)\n",
    "\n",
    "transfermarkt_fm20_merged_df['value_2022'] = transfermarkt_fm20_merged_df['market_value_in_gbp']\n",
    "\n",
    "player_values_2020 = transfermarkt_valuations_dataset.query(\"date >= '2019-07-01' & date <= '2020-12-31'\").sort_values(by='date', ascending=True).drop_duplicates(subset='player_id')\n",
    "\n",
    "player_values_2020['value_2020'] = player_values_2020['market_value']\n",
    "\n",
    "players_with_values = transfermarkt_fm20_merged_df.merge(player_values_2020, on='player_id')\n",
    "\n",
    "players_with_values['value_diff'] = players_with_values['value_2022'] - players_with_values['value_2020']"
   ]
  },
  {
   "cell_type": "code",
   "execution_count": 81,
   "metadata": {},
   "outputs": [
    {
     "data": {
      "text/plain": [
       "<AxesSubplot:>"
      ]
     },
     "execution_count": 81,
     "metadata": {},
     "output_type": "execute_result"
    },
    {
     "data": {
      "image/png": "[encoded data removed]",
      "text/plain": [
       "<Figure size 432x288 with 1 Axes>"
      ]
     },
     "metadata": {
      "needs_background": "light"
     },
     "output_type": "display_data"
    }
   ],
   "source": [
    "# Prepare df for stratify\n",
    "\n",
    "import numpy as np\n",
    "\n",
    "value_bins = [-np.inf, 0, 1000000, 2500000, 10000000, np.inf]\n",
    "\n",
    "players_with_values['value_cat'] = pd.cut(players_with_values[\"value_diff\"], bins=value_bins, labels=range(len(value_bins)-1))\n",
    "\n",
    "players_with_values['value_cat'].hist()"
   ]
  },
  {
   "cell_type": "code",
   "execution_count": 82,
   "metadata": {},
   "outputs": [],
   "source": [
    "# Create test set\n",
    "\n",
    "players_for_analysis = players_with_values[:]\n",
    "\n",
    "players_for_analysis.dropna(subset=['value_cat'], inplace=True)\n",
    "\n",
    "from sklearn.model_selection import train_test_split\n",
    "\n",
    "x_train, x_test, y_train, y_test = train_test_split(players_for_analysis, players_for_analysis['value_cat'], test_size=0.2, random_state=42, stratify=players_for_analysis['value_cat'])"
   ]
  },
  {
   "cell_type": "code",
   "execution_count": 83,
   "metadata": {},
   "outputs": [],
   "source": [
    "# Select features of the dataset we will work with\n",
    "\n",
    "from utils import PLAYER_ATTR\n",
    "\n",
    "features = PLAYER_ATTR + ['Age', 'Preferred Foot', 'Best Pos', 'Nation', 'Based']\n",
    "player_features = players_for_analysis[features]"
   ]
  },
  {
   "cell_type": "code",
   "execution_count": 84,
   "metadata": {},
   "outputs": [],
   "source": [
    "# Revert to clean training set\n",
    "\n",
    "players = x_train.drop('value_cat', axis=1)\n",
    "players_labels = x_train['value_cat'].copy()"
   ]
  },
  {
   "cell_type": "code",
   "execution_count": 85,
   "metadata": {},
   "outputs": [],
   "source": [
    "# Custom Nation transformer\n",
    "\n",
    "from sklearn.base import BaseEstimator, TransformerMixin\n",
    "\n",
    "class NationToRank(BaseEstimator, TransformerMixin):\n",
    "    def __init__(self):\n",
    "        pass\n",
    "    \n",
    "    def fit(self, X, y=None):\n",
    "        return self\n",
    "    \n",
    "    def transform(self, X):\n",
    "        fifa_wr = pd.read_csv(PROJECT_FOLDER + \"datasets/fifa_ranking-2021-05-27.csv\")\n",
    "        nation_encoder = fifa_wr.query('rank_date == \"2020-10-22\"')[['rank', 'country_abrv']]\n",
    "        max_rank = nation_encoder['rank'].max() + 1\n",
    "        X['Nation_rank'] = 1 - (X['Nation'].map(nation_encoder.set_index('country_abrv')['rank']).fillna(max_rank) / max_rank)\n",
    "        X.drop('Nation', axis=1, inplace=True)\n",
    "        return X"
   ]
  },
  {
   "cell_type": "code",
   "execution_count": 86,
   "metadata": {},
   "outputs": [],
   "source": [
    "# Custom Based transformer\n",
    "\n",
    "from sklearn.base import BaseEstimator, TransformerMixin\n",
    "\n",
    "class BasedToRank(BaseEstimator, TransformerMixin):\n",
    "    def __init__(self):\n",
    "        pass\n",
    "    \n",
    "    def fit(self, X, y=None):\n",
    "        return self\n",
    "    \n",
    "    def transform(self, X):\n",
    "        based_encoder = players_with_values.groupby('Based').sum().rank(ascending=True, method='first')\n",
    "        max_rank = based_encoder['value_2020'].max()\n",
    "        X['Based_rank'] = (X['Based'].map(based_encoder['value_2020']).fillna(max_rank) / max_rank)\n",
    "        X.drop('Based', axis=1, inplace=True)\n",
    "        return X"
   ]
  },
  {
   "cell_type": "code",
   "execution_count": 87,
   "metadata": {},
   "outputs": [],
   "source": [
    "# Using transformation pipelines\n",
    "\n",
    "from sklearn.compose import ColumnTransformer\n",
    "from sklearn.preprocessing import StandardScaler, OneHotEncoder\n",
    "from utils import PLAYER_ATTR, apply_mean_attribute_list\n",
    "\n",
    "players = x_train.drop('Value', axis=1)\n",
    "\n",
    "num_attribs = PLAYER_ATTR + ['Age', 'M+P']\n",
    "cat_attribs = ['Preferred Foot', 'Best Pos']\n",
    "\n",
    "apply_mean_attribute_list(players, 'PHY', ['Acc', 'Pac', 'Sta', 'Str', 'Agi', 'Bal', 'Jum', 'Nat'])\n",
    "apply_mean_attribute_list(players, 'MEN', ['Wor', 'Vis', 'Tea', 'Pos', 'OtB', 'Ldr', 'Fla', 'Det', 'Dec', 'Cnt', 'Cmp', 'Bra', 'Ant', 'Agg'])\n",
    "apply_mean_attribute_list(players, 'M+P', ['MEN', 'PHY'])\n",
    "\n",
    "full_pipeline = ColumnTransformer([\n",
    "    (\"num\", StandardScaler(), num_attribs),\n",
    "    (\"cat\", OneHotEncoder(), cat_attribs),\n",
    "    (\"nat\", NationToRank(), ['Nation']),\n",
    "    (\"bas\", BasedToRank(), ['Based'])\n",
    "])\n",
    "\n",
    "players_prepared = full_pipeline.fit_transform(players)"
   ]
  },
  {
   "cell_type": "code",
   "execution_count": 91,
   "metadata": {},
   "outputs": [
    {
     "data": {
      "text/plain": [
       "RandomForestClassifier(n_estimators=1000, random_state=42)"
      ]
     },
     "execution_count": 91,
     "metadata": {},
     "output_type": "execute_result"
    }
   ],
   "source": [
    "# Select and train model\n",
    "## RandomForestClassifier\n",
    "\n",
    "from sklearn.ensemble import RandomForestClassifier\n",
    "\n",
    "value_predictor = RandomForestClassifier(max_depth=None, n_estimators = 100, random_state = 42)\n",
    "value_predictor.fit(players_prepared, players_labels)"
   ]
  },
  {
   "cell_type": "code",
   "execution_count": 92,
   "metadata": {},
   "outputs": [],
   "source": [
    "# Error analysis\n",
    "\n",
    "from sklearn.model_selection import cross_val_predict\n",
    "\n",
    "value_predictions = cross_val_predict(value_predictor, players_prepared, players_labels, cv=5)"
   ]
  },
  {
   "cell_type": "code",
   "execution_count": 93,
   "metadata": {},
   "outputs": [
    {
     "data": {
      "text/plain": [
       "<AxesSubplot:>"
      ]
     },
     "execution_count": 93,
     "metadata": {},
     "output_type": "execute_result"
    },
    {
     "data": {
      "image/png": "[encoded data removed]",
      "text/plain": [
       "<Figure size 432x288 with 2 Axes>"
      ]
     },
     "metadata": {
      "needs_background": "light"
     },
     "output_type": "display_data"
    }
   ],
   "source": [
    "import seaborn as sns\n",
    "from sklearn.metrics import confusion_matrix\n",
    "\n",
    "conf_mx = confusion_matrix(players_labels, value_predictions)\n",
    "conf_mx = conf_mx.astype('float') / conf_mx.sum(axis=1)[:, np.newaxis]\n",
    "sns.heatmap(conf_mx, annot=True, fmt='.2f')"
   ]
  },
  {
   "cell_type": "code",
   "execution_count": 104,
   "metadata": {},
   "outputs": [
    {
     "data": {
      "text/plain": [
       "<BarContainer object of 58 artists>"
      ]
     },
     "execution_count": 104,
     "metadata": {},
     "output_type": "execute_result"
    },
    {
     "data": {
      "image/png": "[encoded data removed]",
      "text/plain": [
       "<Figure size 1800x1080 with 1 Axes>"
      ]
     },
     "metadata": {
      "needs_background": "light"
     },
     "output_type": "display_data"
    }
   ],
   "source": [
    "from matplotlib import pyplot as plt\n",
    "plt.rcParams[\"figure.figsize\"] = (25,15)\n",
    "\n",
    "new_features = PLAYER_ATTR + ['Age'] + [f'Foot {_}' for _ in range(5)] + [f'Pos {_}' for _ in range(14)] + ['Nation', 'Based']\n",
    "plt.bar(new_features, value_predictor.feature_importances_)"
   ]
  },
  {
   "cell_type": "code",
   "execution_count": 102,
   "metadata": {},
   "outputs": [],
   "source": [
    "evaluate_outliers = players[['Name', 'Division', 'Based']]\n",
    "evaluate_outliers['Value'] = players_df['Value']\n",
    "evaluate_outliers['Val_dif'] = value_predictions - players_labels.astype(np.int8)\n"
   ]
  }
 ],
 "metadata": {
  "kernelspec": {
   "display_name": "Python 3.9.12 ('base')",
   "language": "python",
   "name": "python3"
  },
  "language_info": {
   "codemirror_mode": {
    "name": "ipython",
    "version": 3
   },
   "file_extension": ".py",
   "mimetype": "text/x-python",
   "name": "python",
   "nbconvert_exporter": "python",
   "pygments_lexer": "ipython3",
   "version": "3.9.12"
  },
  "orig_nbformat": 4,
  "vscode": {
   "interpreter": {
    "hash": "abecc9efee1d216150679339f7cb39e17f2b3783b014e8db6aa18b4f299df678"
   }
  }
 },
 "nbformat": 4,
 "nbformat_minor": 2
}
