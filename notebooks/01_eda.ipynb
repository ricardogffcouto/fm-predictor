{
 "cells": [
  {
   "cell_type": "code",
   "execution_count": 1,
   "metadata": {},
   "outputs": [],
   "source": [
    "import pandas as pd\n",
    "import warnings\n",
    "import sys  \n",
    "\n",
    "PROJECT_FOLDER = '/home/ricardo/coding/data-science/projects/predict_value_change_from_fm_data/'\n",
    "\n",
    "sys.path.insert(0, PROJECT_FOLDER)\n",
    "warnings.filterwarnings('ignore')\n",
    "\n",
    "fm20_df = pd.read_csv(PROJECT_FOLDER + \"datasets/datafm20.csv\")\n",
    "fm17_df = pd.read_csv(PROJECT_FOLDER + \"datasets/datafm17.csv\")"
   ]
  },
  {
   "cell_type": "code",
   "execution_count": 25,
   "metadata": {},
   "outputs": [
    {
     "data": {
      "text/plain": [
       "<AxesSubplot:xlabel='Age'>"
      ]
     },
     "execution_count": 25,
     "metadata": {},
     "output_type": "execute_result"
    },
    {
     "data": {
      "image/png": "[encoded data removed]",
      "text/plain": [
       "<Figure size 600x400 with 1 Axes>"
      ]
     },
     "metadata": {},
     "output_type": "display_data"
    }
   ],
   "source": [
    "new_fm20_df = fm20_df[:]\n",
    "new_fm20_df['POT'] = new_fm20_df['PA'] - new_fm20_df['CA']\n",
    "new_fm20_df.groupby('Age')['Value'].mean().plot(kind='bar')"
   ]
  },
  {
   "cell_type": "code",
   "execution_count": 27,
   "metadata": {},
   "outputs": [
    {
     "data": {
      "text/plain": [
       "<AxesSubplot:>"
      ]
     },
     "execution_count": 27,
     "metadata": {},
     "output_type": "execute_result"
    },
    {
     "data": {
      "image/png": "[encoded data removed]",
      "text/plain": [
       "<Figure size 600x400 with 1 Axes>"
      ]
     },
     "metadata": {},
     "output_type": "display_data"
    }
   ],
   "source": [
    "import numpy as np\n",
    "\n",
    "new_fm20_df = fm20_df[:].query('Age <= 27 & `Best Pos` != \"GK\"')\n",
    "new_fm20_df['Val_cat'] = pd.cut(new_fm20_df[\"Value\"], bins=[-1, 0, 100000, 1000000, 2000000, 5000000, 10000000, np.inf], labels=[0, 1, 2, 3, 4, 5, 6])\n",
    "new_fm20_df['Val_cat'].hist()"
   ]
  },
  {
   "cell_type": "code",
   "execution_count": 38,
   "metadata": {},
   "outputs": [
    {
     "data": {
      "application/vnd.jupyter.widget-view+json": {
       "model_id": "ef73ee9887fd41f38d6af9631227eb7b",
       "version_major": 2,
       "version_minor": 0
      },
      "text/plain": [
       "                                             |          | [  0%]   00:00 -> (? left)"
      ]
     },
     "metadata": {},
     "output_type": "display_data"
    },
    {
     "name": "stdout",
     "output_type": "stream",
     "text": [
      "Report SWEETVIZ_REPORT.html was generated! NOTEBOOK/COLAB USERS: the web browser MAY not pop up, regardless, the report IS saved in your notebook/colab files.\n"
     ]
    }
   ],
   "source": [
    "import sweetviz as sv\n",
    "from utils import PLAYER_ATTR\n",
    "\n",
    "def attribute_combinations(df, new_attr, attr_list):\n",
    "    df[new_attr] = sum([df[attr] for attr in attr_list]) / len(attr_list)\n",
    "\n",
    "new_fm20_df = fm20_df[:].query('Age <= 27 & `Best Pos` != \"GK\"')\n",
    "\n",
    "attribute_combinations(new_fm20_df, 'PHY', ['Acc', 'Pac', 'Sta', 'Str', 'Agi', 'Bal', 'Jum', 'Nat'])\n",
    "attribute_combinations(new_fm20_df, 'MEN', ['Wor', 'Vis', 'Tea', 'Pos', 'OtB', 'Ldr', 'Fla', 'Det', 'Dec', 'Cnt', 'Cmp', 'Bra', 'Ant', 'Agg'])\n",
    "attribute_combinations(new_fm20_df, 'M+P', ['MEN', 'PHY'])\n",
    "attribute_combinations(new_fm20_df, 'ATTR', PLAYER_ATTR)\n",
    "\n",
    "\n",
    "report = sv.analyze(new_fm20_df)\n",
    "report.show_html()"
   ]
  },
  {
   "cell_type": "code",
   "execution_count": 39,
   "metadata": {},
   "outputs": [],
   "source": [
    "fifa_wr = pd.read_csv(PROJECT_FOLDER + \"datasets/fifa_ranking-2021-05-27.csv\")"
   ]
  },
  {
   "cell_type": "code",
   "execution_count": 42,
   "metadata": {},
   "outputs": [
    {
     "data": {
      "text/html": [
       "<div>\n",
       "<style scoped>\n",
       "    .dataframe tbody tr th:only-of-type {\n",
       "        vertical-align: middle;\n",
       "    }\n",
       "\n",
       "    .dataframe tbody tr th {\n",
       "        vertical-align: top;\n",
       "    }\n",
       "\n",
       "    .dataframe thead th {\n",
       "        text-align: right;\n",
       "    }\n",
       "</style>\n",
       "<table border=\"1\" class=\"dataframe\">\n",
       "  <thead>\n",
       "    <tr style=\"text-align: right;\">\n",
       "      <th></th>\n",
       "      <th>rank</th>\n",
       "      <th>country_abrv</th>\n",
       "    </tr>\n",
       "  </thead>\n",
       "  <tbody>\n",
       "    <tr>\n",
       "      <th>61794</th>\n",
       "      <td>68</td>\n",
       "      <td>SLV</td>\n",
       "    </tr>\n",
       "    <tr>\n",
       "      <th>61795</th>\n",
       "      <td>69</td>\n",
       "      <td>ALB</td>\n",
       "    </tr>\n",
       "    <tr>\n",
       "      <th>61796</th>\n",
       "      <td>70</td>\n",
       "      <td>IRQ</td>\n",
       "    </tr>\n",
       "    <tr>\n",
       "      <th>61797</th>\n",
       "      <td>71</td>\n",
       "      <td>GUI</td>\n",
       "    </tr>\n",
       "    <tr>\n",
       "      <th>61798</th>\n",
       "      <td>76</td>\n",
       "      <td>UGA</td>\n",
       "    </tr>\n",
       "    <tr>\n",
       "      <th>...</th>\n",
       "      <td>...</td>\n",
       "      <td>...</td>\n",
       "    </tr>\n",
       "    <tr>\n",
       "      <th>61999</th>\n",
       "      <td>136</td>\n",
       "      <td>TPE</td>\n",
       "    </tr>\n",
       "    <tr>\n",
       "      <th>62000</th>\n",
       "      <td>134</td>\n",
       "      <td>TAN</td>\n",
       "    </tr>\n",
       "    <tr>\n",
       "      <th>62001</th>\n",
       "      <td>134</td>\n",
       "      <td>MYA</td>\n",
       "    </tr>\n",
       "    <tr>\n",
       "      <th>62002</th>\n",
       "      <td>132</td>\n",
       "      <td>COM</td>\n",
       "    </tr>\n",
       "    <tr>\n",
       "      <th>62003</th>\n",
       "      <td>53</td>\n",
       "      <td>CMR</td>\n",
       "    </tr>\n",
       "  </tbody>\n",
       "</table>\n",
       "<p>210 rows × 2 columns</p>\n",
       "</div>"
      ],
      "text/plain": [
       "       rank country_abrv\n",
       "61794    68          SLV\n",
       "61795    69          ALB\n",
       "61796    70          IRQ\n",
       "61797    71          GUI\n",
       "61798    76          UGA\n",
       "...     ...          ...\n",
       "61999   136          TPE\n",
       "62000   134          TAN\n",
       "62001   134          MYA\n",
       "62002   132          COM\n",
       "62003    53          CMR\n",
       "\n",
       "[210 rows x 2 columns]"
      ]
     },
     "execution_count": 42,
     "metadata": {},
     "output_type": "execute_result"
    }
   ],
   "source": [
    "fifa_wr.query('rank_date == \"2020-10-22\"')[['rank', 'country_abrv']]"
   ]
  },
  {
   "cell_type": "code",
   "execution_count": 3,
   "metadata": {},
   "outputs": [],
   "source": [
    "transfermarkt_players = pd.read_csv(PROJECT_FOLDER + \"datasets/players.csv\")"
   ]
  },
  {
   "cell_type": "code",
   "execution_count": 15,
   "metadata": {},
   "outputs": [],
   "source": [
    "from utils import name_to_id\n",
    "\n",
    "name_nation_mapping = fm20_df.sort_values(by='Value', ascending=False).groupby('Nation').head()[['Name', 'Nation']]\n",
    "name_nation_mapping['name'] = name_nation_mapping['Name'].apply(name_to_id)\n",
    "nation_mapping = name_nation_mapping.merge(transfermarkt_players[['name', 'country_of_citizenship']], on='name')\n",
    "nation_mapping.drop_duplicates(subset='country_of_citizenship', inplace=True)\n",
    "nation_mapping = nation_mapping[['Nation', 'country_of_citizenship']]"
   ]
  },
  {
   "cell_type": "code",
   "execution_count": 5,
   "metadata": {},
   "outputs": [
    {
     "data": {
      "text/plain": [
       "array(['AM (R)', 'ST (C)', 'GK', 'AM (L)', 'M (C)', 'D (C)', 'M (R)',\n",
       "       'DM', 'AM (C)', 'M (L)', 'D (R)', 'D (L)', 'WB (R)', 'WB (L)'],\n",
       "      dtype=object)"
      ]
     },
     "execution_count": 5,
     "metadata": {},
     "output_type": "execute_result"
    }
   ],
   "source": [
    "fm20_df['Best Pos'].unique()"
   ]
  },
  {
   "cell_type": "code",
   "execution_count": 5,
   "metadata": {},
   "outputs": [],
   "source": [
    "import pandas as pd\n",
    "PROJECT_FOLDER = '/home/ricardo/coding/data-science/projects/predict_value_change_from_fm_data/'\n",
    "\n",
    "clubs = pd.read_csv(PROJECT_FOLDER + \"datasets/clubs.csv\")\n",
    "\n"
   ]
  }
 ],
 "metadata": {
  "kernelspec": {
   "display_name": "Python 3.9.12 ('base')",
   "language": "python",
   "name": "python3"
  },
  "language_info": {
   "codemirror_mode": {
    "name": "ipython",
    "version": 3
   },
   "file_extension": ".py",
   "mimetype": "text/x-python",
   "name": "python",
   "nbconvert_exporter": "python",
   "pygments_lexer": "ipython3",
   "version": "3.9.12"
  },
  "orig_nbformat": 4,
  "vscode": {
   "interpreter": {
    "hash": "abecc9efee1d216150679339f7cb39e17f2b3783b014e8db6aa18b4f299df678"
   }
  }
 },
 "nbformat": 4,
 "nbformat_minor": 2
}
