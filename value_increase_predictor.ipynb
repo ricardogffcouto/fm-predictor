{
 "cells": [
  {
   "cell_type": "markdown",
   "metadata": {},
   "source": [
    "# Predict if a football player will increase in valuation using Football Manager data\n",
    "\n",
    "The goal of this project is to be able to predict football players who will have an increase in their value in the future, using Football Manager (FM) data.\n",
    "\n",
    "FM is a cheap and easily accessible database of football players. By being able to predict which players would have an increase in their value using only this database would help football clubs decide better in which players to invest.\n",
    "\n",
    "There is not a lot of literature available for studies using FM data in this situation. However the following one was found:\n",
    "- [Predicting the Potential Ability of Football Players in the Football Manager Game](williamvanwijk.nl/wp-content/uploads/2022/07/Thesis_FM_Predict_potential_ability.pdf)\n",
    "    - This study concludes that it is possible to predict an increase in real-life value using publicly available FM data. However, the focus of this study was to predict not the value but an increase in PA such as this value would be above a certain threshold (130) which is given to high-potential players."
   ]
  },
  {
   "cell_type": "markdown",
   "metadata": {},
   "source": [
    "## Overview of the project and data\n",
    "\n",
    "I used the following datasets for this project:\n",
    "\n",
    "- FM20 dataset: https://www.kaggle.com/datasets/ktyptorio/football-manager-2020\n",
    "    - This dataset will be compared to the FM17 one, in order to evaluate the change in attributes / other features.\n",
    "- Transfermarkt: https://www.kaggle.com/datasets/davidcariboo/player-scores \n",
    "    - This dataset provides the player valuations from Transfermarkt, a well-known aggregator for player valuations."
   ]
  },
  {
   "cell_type": "markdown",
   "metadata": {},
   "source": [
    "## Requirements\n",
    "\n",
    "The following libraries are required:\n",
    "- pandas\n",
    "- numpy\n",
    "- seaborn\n",
    "- joblib\n",
    "- matplotlib"
   ]
  },
  {
   "cell_type": "markdown",
   "metadata": {},
   "source": [
    "## EDA\n",
    "\n",
    "First I wanted to explore the data which I am going to be using. For that I will\n",
    "- Load the FM20 dataset\n",
    "- "
   ]
  },
  {
   "cell_type": "code",
   "execution_count": 2,
   "metadata": {},
   "outputs": [],
   "source": [
    "from src.libs import *\n",
    "\n",
    "fm20_df = pd.read_csv(PROJECT_FOLDER + \"datasets/datafm20.csv\")\n",
    "\n"
   ]
  },
  {
   "cell_type": "code",
   "execution_count": null,
   "metadata": {},
   "outputs": [
    {
     "data": {
      "text/plain": [
       "<AxesSubplot:>"
      ]
     },
     "execution_count": 2,
     "metadata": {},
     "output_type": "execute_result"
    },
    {
     "data": {
      "image/png": "[encoded data removed]",
      "text/plain": [
       "<Figure size 1500x800 with 1 Axes>"
      ]
     },
     "metadata": {},
     "output_type": "display_data"
    }
   ],
   "source": [
    "base_players_dataset = pd.read_csv(PROJECT_FOLDER + 'assets/base_players_dataset.csv')\n",
    "\n",
    "value_bins = [-np.inf, 0, np.inf]\n",
    "\n",
    "base_players_dataset['value_cat'] = pd.cut(base_players_dataset[\"value_diff\"], bins=value_bins, labels=range(len(value_bins)-1))\n",
    "\n",
    "base_players_dataset['value_cat'].hist()"
   ]
  },
  {
   "cell_type": "code",
   "execution_count": null,
   "metadata": {},
   "outputs": [],
   "source": [
    "# Create test set\n",
    "\n",
    "from sklearn.model_selection import train_test_split\n",
    "\n",
    "players_for_analysis = base_players_dataset[:]\n",
    "\n",
    "players_for_analysis.dropna(subset=['value_cat'], inplace=True)\n",
    "\n",
    "x_train, x_test, y_train, y_test = train_test_split(players_for_analysis, players_for_analysis['value_cat'], test_size=0.2, random_state=42, stratify=players_for_analysis['value_cat'])"
   ]
  },
  {
   "cell_type": "code",
   "execution_count": null,
   "metadata": {},
   "outputs": [],
   "source": [
    "# Revert to clean training set\n",
    "\n",
    "players_v1 = x_train.drop('value_cat', axis=1)\n",
    "players_labels_v1 = x_train['value_cat'].copy()"
   ]
  },
  {
   "cell_type": "code",
   "execution_count": null,
   "metadata": {},
   "outputs": [
    {
     "data": {
      "text/html": [
       "<div>\n",
       "<style scoped>\n",
       "    .dataframe tbody tr th:only-of-type {\n",
       "        vertical-align: middle;\n",
       "    }\n",
       "\n",
       "    .dataframe tbody tr th {\n",
       "        vertical-align: top;\n",
       "    }\n",
       "\n",
       "    .dataframe thead th {\n",
       "        text-align: right;\n",
       "    }\n",
       "</style>\n",
       "<table border=\"1\" class=\"dataframe\">\n",
       "  <thead>\n",
       "    <tr style=\"text-align: right;\">\n",
       "      <th></th>\n",
       "      <th>Unnamed: 0.1</th>\n",
       "      <th>player_id</th>\n",
       "      <th>last_season</th>\n",
       "      <th>current_club_id</th>\n",
       "      <th>height_in_cm</th>\n",
       "      <th>market_value_in_gbp</th>\n",
       "      <th>highest_market_value_in_gbp</th>\n",
       "      <th>Age_2020</th>\n",
       "      <th>Position_2020</th>\n",
       "      <th>fm_player_index</th>\n",
       "      <th>...</th>\n",
       "      <th>Bal</th>\n",
       "      <th>Ant</th>\n",
       "      <th>Agi</th>\n",
       "      <th>Agg</th>\n",
       "      <th>Aer</th>\n",
       "      <th>Acc</th>\n",
       "      <th>value_2022</th>\n",
       "      <th>market_value</th>\n",
       "      <th>value_2020</th>\n",
       "      <th>value_diff</th>\n",
       "    </tr>\n",
       "  </thead>\n",
       "  <tbody>\n",
       "    <tr>\n",
       "      <th>count</th>\n",
       "      <td>2985.000000</td>\n",
       "      <td>2985.000000</td>\n",
       "      <td>2985.0</td>\n",
       "      <td>2985.000000</td>\n",
       "      <td>2985.000000</td>\n",
       "      <td>2.985000e+03</td>\n",
       "      <td>2.985000e+03</td>\n",
       "      <td>2985.000000</td>\n",
       "      <td>2985.000000</td>\n",
       "      <td>2985.000000</td>\n",
       "      <td>...</td>\n",
       "      <td>2985.000000</td>\n",
       "      <td>2985.000000</td>\n",
       "      <td>2985.000000</td>\n",
       "      <td>2985.000000</td>\n",
       "      <td>2985.000000</td>\n",
       "      <td>2985.000000</td>\n",
       "      <td>2.985000e+03</td>\n",
       "      <td>2.985000e+03</td>\n",
       "      <td>2.985000e+03</td>\n",
       "      <td>2.985000e+03</td>\n",
       "    </tr>\n",
       "    <tr>\n",
       "      <th>mean</th>\n",
       "      <td>1492.000000</td>\n",
       "      <td>261942.089447</td>\n",
       "      <td>2021.0</td>\n",
       "      <td>3711.395980</td>\n",
       "      <td>181.563484</td>\n",
       "      <td>5.658164e+06</td>\n",
       "      <td>9.987879e+06</td>\n",
       "      <td>24.363819</td>\n",
       "      <td>0.964824</td>\n",
       "      <td>40039.275042</td>\n",
       "      <td>...</td>\n",
       "      <td>12.200670</td>\n",
       "      <td>12.179564</td>\n",
       "      <td>12.523618</td>\n",
       "      <td>11.629481</td>\n",
       "      <td>2.105863</td>\n",
       "      <td>12.909213</td>\n",
       "      <td>5.658164e+06</td>\n",
       "      <td>6.880667e+06</td>\n",
       "      <td>6.880667e+06</td>\n",
       "      <td>-1.222502e+06</td>\n",
       "    </tr>\n",
       "    <tr>\n",
       "      <th>std</th>\n",
       "      <td>861.839602</td>\n",
       "      <td>144693.118259</td>\n",
       "      <td>0.0</td>\n",
       "      <td>9502.255354</td>\n",
       "      <td>8.613620</td>\n",
       "      <td>1.072793e+07</td>\n",
       "      <td>1.624561e+07</td>\n",
       "      <td>3.290294</td>\n",
       "      <td>0.868982</td>\n",
       "      <td>26272.548157</td>\n",
       "      <td>...</td>\n",
       "      <td>2.295584</td>\n",
       "      <td>1.970608</td>\n",
       "      <td>1.877675</td>\n",
       "      <td>2.983995</td>\n",
       "      <td>0.924160</td>\n",
       "      <td>1.887982</td>\n",
       "      <td>1.072793e+07</td>\n",
       "      <td>1.348570e+07</td>\n",
       "      <td>1.348570e+07</td>\n",
       "      <td>8.971583e+06</td>\n",
       "    </tr>\n",
       "    <tr>\n",
       "      <th>min</th>\n",
       "      <td>0.000000</td>\n",
       "      <td>5336.000000</td>\n",
       "      <td>2021.0</td>\n",
       "      <td>3.000000</td>\n",
       "      <td>0.000000</td>\n",
       "      <td>2.300000e+04</td>\n",
       "      <td>2.300000e+04</td>\n",
       "      <td>16.000000</td>\n",
       "      <td>0.000000</td>\n",
       "      <td>0.000000</td>\n",
       "      <td>...</td>\n",
       "      <td>2.000000</td>\n",
       "      <td>4.000000</td>\n",
       "      <td>5.000000</td>\n",
       "      <td>1.000000</td>\n",
       "      <td>1.000000</td>\n",
       "      <td>6.000000</td>\n",
       "      <td>2.300000e+04</td>\n",
       "      <td>2.300000e+04</td>\n",
       "      <td>2.300000e+04</td>\n",
       "      <td>-9.720000e+07</td>\n",
       "    </tr>\n",
       "    <tr>\n",
       "      <th>25%</th>\n",
       "      <td>746.000000</td>\n",
       "      <td>144583.000000</td>\n",
       "      <td>2021.0</td>\n",
       "      <td>317.000000</td>\n",
       "      <td>177.000000</td>\n",
       "      <td>5.400000e+05</td>\n",
       "      <td>1.080000e+06</td>\n",
       "      <td>22.000000</td>\n",
       "      <td>0.000000</td>\n",
       "      <td>19459.000000</td>\n",
       "      <td>...</td>\n",
       "      <td>11.000000</td>\n",
       "      <td>11.000000</td>\n",
       "      <td>11.000000</td>\n",
       "      <td>10.000000</td>\n",
       "      <td>1.000000</td>\n",
       "      <td>12.000000</td>\n",
       "      <td>5.400000e+05</td>\n",
       "      <td>5.400000e+05</td>\n",
       "      <td>5.400000e+05</td>\n",
       "      <td>-1.800000e+06</td>\n",
       "    </tr>\n",
       "    <tr>\n",
       "      <th>50%</th>\n",
       "      <td>1492.000000</td>\n",
       "      <td>247377.000000</td>\n",
       "      <td>2021.0</td>\n",
       "      <td>800.000000</td>\n",
       "      <td>182.000000</td>\n",
       "      <td>1.800000e+06</td>\n",
       "      <td>3.600000e+06</td>\n",
       "      <td>24.000000</td>\n",
       "      <td>1.000000</td>\n",
       "      <td>33638.000000</td>\n",
       "      <td>...</td>\n",
       "      <td>12.000000</td>\n",
       "      <td>12.000000</td>\n",
       "      <td>13.000000</td>\n",
       "      <td>12.000000</td>\n",
       "      <td>2.000000</td>\n",
       "      <td>13.000000</td>\n",
       "      <td>1.800000e+06</td>\n",
       "      <td>1.800000e+06</td>\n",
       "      <td>1.800000e+06</td>\n",
       "      <td>-9.000000e+04</td>\n",
       "    </tr>\n",
       "    <tr>\n",
       "      <th>75%</th>\n",
       "      <td>2238.000000</td>\n",
       "      <td>354340.000000</td>\n",
       "      <td>2021.0</td>\n",
       "      <td>2578.000000</td>\n",
       "      <td>186.000000</td>\n",
       "      <td>5.400000e+06</td>\n",
       "      <td>1.260000e+07</td>\n",
       "      <td>27.000000</td>\n",
       "      <td>2.000000</td>\n",
       "      <td>60043.000000</td>\n",
       "      <td>...</td>\n",
       "      <td>14.000000</td>\n",
       "      <td>13.000000</td>\n",
       "      <td>14.000000</td>\n",
       "      <td>14.000000</td>\n",
       "      <td>3.000000</td>\n",
       "      <td>14.000000</td>\n",
       "      <td>5.400000e+06</td>\n",
       "      <td>7.200000e+06</td>\n",
       "      <td>7.200000e+06</td>\n",
       "      <td>4.500000e+05</td>\n",
       "    </tr>\n",
       "    <tr>\n",
       "      <th>max</th>\n",
       "      <td>2984.000000</td>\n",
       "      <td>804708.000000</td>\n",
       "      <td>2021.0</td>\n",
       "      <td>61825.000000</td>\n",
       "      <td>200.000000</td>\n",
       "      <td>1.440000e+08</td>\n",
       "      <td>1.800000e+08</td>\n",
       "      <td>30.000000</td>\n",
       "      <td>2.000000</td>\n",
       "      <td>100142.000000</td>\n",
       "      <td>...</td>\n",
       "      <td>20.000000</td>\n",
       "      <td>19.000000</td>\n",
       "      <td>19.000000</td>\n",
       "      <td>20.000000</td>\n",
       "      <td>12.000000</td>\n",
       "      <td>20.000000</td>\n",
       "      <td>1.440000e+08</td>\n",
       "      <td>1.800000e+08</td>\n",
       "      <td>1.800000e+08</td>\n",
       "      <td>1.242000e+08</td>\n",
       "    </tr>\n",
       "  </tbody>\n",
       "</table>\n",
       "<p>8 rows × 69 columns</p>\n",
       "</div>"
      ],
      "text/plain": [
       "       Unnamed: 0.1      player_id  last_season  current_club_id  \\\n",
       "count   2985.000000    2985.000000       2985.0      2985.000000   \n",
       "mean    1492.000000  261942.089447       2021.0      3711.395980   \n",
       "std      861.839602  144693.118259          0.0      9502.255354   \n",
       "min        0.000000    5336.000000       2021.0         3.000000   \n",
       "25%      746.000000  144583.000000       2021.0       317.000000   \n",
       "50%     1492.000000  247377.000000       2021.0       800.000000   \n",
       "75%     2238.000000  354340.000000       2021.0      2578.000000   \n",
       "max     2984.000000  804708.000000       2021.0     61825.000000   \n",
       "\n",
       "       height_in_cm  market_value_in_gbp  highest_market_value_in_gbp  \\\n",
       "count   2985.000000         2.985000e+03                 2.985000e+03   \n",
       "mean     181.563484         5.658164e+06                 9.987879e+06   \n",
       "std        8.613620         1.072793e+07                 1.624561e+07   \n",
       "min        0.000000         2.300000e+04                 2.300000e+04   \n",
       "25%      177.000000         5.400000e+05                 1.080000e+06   \n",
       "50%      182.000000         1.800000e+06                 3.600000e+06   \n",
       "75%      186.000000         5.400000e+06                 1.260000e+07   \n",
       "max      200.000000         1.440000e+08                 1.800000e+08   \n",
       "\n",
       "          Age_2020  Position_2020  fm_player_index  ...          Bal  \\\n",
       "count  2985.000000    2985.000000      2985.000000  ...  2985.000000   \n",
       "mean     24.363819       0.964824     40039.275042  ...    12.200670   \n",
       "std       3.290294       0.868982     26272.548157  ...     2.295584   \n",
       "min      16.000000       0.000000         0.000000  ...     2.000000   \n",
       "25%      22.000000       0.000000     19459.000000  ...    11.000000   \n",
       "50%      24.000000       1.000000     33638.000000  ...    12.000000   \n",
       "75%      27.000000       2.000000     60043.000000  ...    14.000000   \n",
       "max      30.000000       2.000000    100142.000000  ...    20.000000   \n",
       "\n",
       "               Ant          Agi          Agg          Aer          Acc  \\\n",
       "count  2985.000000  2985.000000  2985.000000  2985.000000  2985.000000   \n",
       "mean     12.179564    12.523618    11.629481     2.105863    12.909213   \n",
       "std       1.970608     1.877675     2.983995     0.924160     1.887982   \n",
       "min       4.000000     5.000000     1.000000     1.000000     6.000000   \n",
       "25%      11.000000    11.000000    10.000000     1.000000    12.000000   \n",
       "50%      12.000000    13.000000    12.000000     2.000000    13.000000   \n",
       "75%      13.000000    14.000000    14.000000     3.000000    14.000000   \n",
       "max      19.000000    19.000000    20.000000    12.000000    20.000000   \n",
       "\n",
       "         value_2022  market_value    value_2020    value_diff  \n",
       "count  2.985000e+03  2.985000e+03  2.985000e+03  2.985000e+03  \n",
       "mean   5.658164e+06  6.880667e+06  6.880667e+06 -1.222502e+06  \n",
       "std    1.072793e+07  1.348570e+07  1.348570e+07  8.971583e+06  \n",
       "min    2.300000e+04  2.300000e+04  2.300000e+04 -9.720000e+07  \n",
       "25%    5.400000e+05  5.400000e+05  5.400000e+05 -1.800000e+06  \n",
       "50%    1.800000e+06  1.800000e+06  1.800000e+06 -9.000000e+04  \n",
       "75%    5.400000e+06  7.200000e+06  7.200000e+06  4.500000e+05  \n",
       "max    1.440000e+08  1.800000e+08  1.800000e+08  1.242000e+08  \n",
       "\n",
       "[8 rows x 69 columns]"
      ]
     },
     "execution_count": 24,
     "metadata": {},
     "output_type": "execute_result"
    }
   ],
   "source": [
    "# Check null values\n",
    "# Check outliers (3 std dev.) z-score > 3 or z-score < -3 ignore\n",
    "# Prove within notebook that it is clean\n",
    "# pd.describe()\n",
    "# Use seaborn for heatmap of correlations\n",
    "# Notebook with markdown and documentation\n",
    "\n",
    "base_players_dataset.describe()"
   ]
  },
  {
   "cell_type": "code",
   "execution_count": null,
   "metadata": {},
   "outputs": [],
   "source": [
    "# Custom Nation transformer\n",
    "\n",
    "from sklearn.base import BaseEstimator, TransformerMixin\n",
    "\n",
    "class NationToRank(BaseEstimator, TransformerMixin):\n",
    "    def __init__(self):\n",
    "        pass\n",
    "    \n",
    "    def fit(self, X, y=None):\n",
    "        return self\n",
    "    \n",
    "    def transform(self, X):\n",
    "        nation_encoder = base_players_dataset.groupby('Nation').sum().rank(ascending=True, method='first')\n",
    "        max_rank = nation_encoder['value_diff'].max()\n",
    "        temp = nation_encoder.copy()\n",
    "        temp.sort_values('value_diff', ascending=False, inplace=True)\n",
    "        temp['Nation'] = temp.index\n",
    "        temp.reset_index(drop=True, inplace=True)\n",
    "        temp['Nation_rank'] = 1 - (temp.index / temp.shape[0])\n",
    "        X['Nation_rank'] = X['Nation'].map(temp.set_index('Nation')['Nation_rank'])\n",
    "        X.drop('Nation', axis=1, inplace=True)\n",
    "        \n",
    "        # fifa_wr = pd.read_csv(PROJECT_FOLDER + \"datasets/fifa_ranking-2021-05-27.csv\")\n",
    "        # nation_encoder = fifa_wr.query('rank_date == \"2020-10-22\"')[['rank', 'country_abrv']]\n",
    "        # max_rank = nation_encoder['rank'].max() + 1\n",
    "        # X['Nation_rank'] = 1 - (X['Nation'].map(nation_encoder.set_index('country_abrv')['rank']).fillna(max_rank) / max_rank)\n",
    "        # X.drop('Nation', axis=1, inplace=True)\n",
    "        return X"
   ]
  },
  {
   "cell_type": "code",
   "execution_count": null,
   "metadata": {},
   "outputs": [],
   "source": [
    "# Custom Attributes transformer\n",
    "\n",
    "from sklearn.base import BaseEstimator, TransformerMixin\n",
    "from sklearn.preprocessing import StandardScaler\n",
    "from utils import apply_mean_attribute_list, PLAYER_ATTR\n",
    "\n",
    "class AttributeMerger(BaseEstimator, TransformerMixin):\n",
    "    def __init__(self):\n",
    "        pass\n",
    "    \n",
    "    def fit(self, X, y=None):\n",
    "        return self\n",
    "    \n",
    "    def transform(self, X):\n",
    "        physical_attr = ['Acc', 'Pac', 'Sta', 'Str', 'Agi', 'Bal', 'Jum', 'Nat']\n",
    "        mental_attr = ['Wor', 'Vis', 'Tea', 'Pos', 'OtB', 'Ldr', 'Fla', 'Det', 'Dec', 'Cnt', 'Cmp', 'Bra', 'Ant', 'Agg']\n",
    "        apply_mean_attribute_list(X, 'M+P', physical_attr + mental_attr)\n",
    "        X['M+P'] = X['M+P'] / 20\n",
    "        X.drop(PLAYER_ATTR, axis=1, inplace=True)\n",
    "        return X\n"
   ]
  },
  {
   "cell_type": "code",
   "execution_count": null,
   "metadata": {},
   "outputs": [],
   "source": [
    "# based_encoder = base_players_dataset.groupby('Based').sum().rank(ascending=True, method='first')\n",
    "# max_rank = based_encoder['value_diff'].max()\n",
    "# temp = based_encoder.copy()\n",
    "# temp.sort_values('value_diff', ascending=False, inplace=True)\n",
    "# temp['Based'] = temp.index\n",
    "# temp.reset_index(drop=True, inplace=True)\n",
    "# temp['Based_rank'] = pow(0.5, temp.index / 10)\n",
    "# temp.to_csv(PROJECT_FOLDER + 'assets/based_rank.csv', index=False)"
   ]
  },
  {
   "cell_type": "code",
   "execution_count": null,
   "metadata": {},
   "outputs": [],
   "source": [
    "# Custom Based transformer\n",
    "\n",
    "from sklearn.base import BaseEstimator, TransformerMixin\n",
    "\n",
    "class BasedToRank(BaseEstimator, TransformerMixin):\n",
    "    def __init__(self):\n",
    "        pass\n",
    "    \n",
    "    def fit(self, X, y=None):\n",
    "        return self\n",
    "    \n",
    "    def transform(self, X):\n",
    "        based_encoder = pd.read_csv(PROJECT_FOLDER + 'assets/based_rank.csv')\n",
    "        X['Based_rank'] = X['Based'].map(based_encoder.set_index('Based')['Based_rank'])\n",
    "        X['Based_rank'].fillna(0, inplace=True)\n",
    "        X.drop('Based', axis=1, inplace=True)\n",
    "        return X"
   ]
  },
  {
   "cell_type": "code",
   "execution_count": null,
   "metadata": {},
   "outputs": [],
   "source": [
    "# Custom Foot transformer\n",
    "\n",
    "from sklearn.base import BaseEstimator, TransformerMixin\n",
    "\n",
    "class FootToRank(BaseEstimator, TransformerMixin):\n",
    "    def __init__(self):\n",
    "        pass\n",
    "    \n",
    "    def fit(self, X, y=None):\n",
    "        return self\n",
    "    \n",
    "    def transform(self, X):\n",
    "        X['Foot_rank'] = X['Preferred Foot'].map(FOOTEDNESS_MAPPING)\n",
    "        X.drop('Preferred Foot', axis=1, inplace=True)\n",
    "        return X"
   ]
  },
  {
   "cell_type": "code",
   "execution_count": null,
   "metadata": {},
   "outputs": [],
   "source": [
    "# Using transformation pipelines\n",
    "\n",
    "from sklearn.compose import ColumnTransformer\n",
    "from sklearn.preprocessing import StandardScaler, OneHotEncoder\n",
    "from utils import PLAYER_ATTR\n",
    "\n",
    "players = x_train.drop('Value', axis=1)\n",
    "\n",
    "features_v1 = {\n",
    "    'att': (PLAYER_ATTR, ['M+P']),\n",
    "    'num': (PLAYER_ATTR + ['Age'], None),\n",
    "    # 'foo': (['Preferred Foot'], None),\n",
    "    'pos': (['Best Pos'], None),\n",
    "    #'nat': (['Nation'], None),\n",
    "    'bas': (['Based'], None)\n",
    "}\n",
    "\n",
    "feature_labels_v1 = list(np.concatenate([f[1] if f[1] is not None else f[0] for k, f in features_v1.items()]).flat)\n",
    "\n",
    "full_pipeline_v1 = ColumnTransformer([\n",
    "    (\"att\", AttributeMerger(), features_v1['att'][0]),\n",
    "    (\"num\", StandardScaler(), features_v1['num'][0]),\n",
    "    # (\"foo\", FootToRank(), features_v1['foo'][0]),\n",
    "    (\"pos\", OneHotEncoder(), features_v1['pos'][0]),\n",
    "    #(\"nat\", NationToRank(), features_v1['nat'][0]),\n",
    "    (\"bas\", BasedToRank(), features_v1['bas'][0])\n",
    "])\n",
    "\n",
    "players_prepared_v1 = full_pipeline_v1.fit_transform(players)"
   ]
  },
  {
   "cell_type": "code",
   "execution_count": null,
   "metadata": {},
   "outputs": [],
   "source": [
    "# Hyperparameter tuning\n",
    "\n",
    "import joblib\n",
    "from sklearn.model_selection import RandomizedSearchCV\n",
    "from sklearn.ensemble import RandomForestClassifier\n",
    "\n",
    "tune_hyperparameters = False\n",
    "\n",
    "if not tune_hyperparameters:\n",
    "    value_predictor_v1 = joblib.load(PROJECT_FOLDER + 'models/rf_value_predictor.pkl')\n",
    "else:\n",
    "    total_value_without_model = x_train['value_diff'].sum()\n",
    "\n",
    "    def predictor_performance(estimator, X, y):\n",
    "        y_pred = estimator.predict(X)\n",
    "        values = x_train[['value_diff']]\n",
    "        values['y_true'] = y\n",
    "        values.dropna(inplace=True)\n",
    "        values['pred'] = y_pred\n",
    "\n",
    "        total_value_without_model = values['value_diff'].sum()\n",
    "        total_value_with_model = values.query('pred == 1')['value_diff'].sum()\n",
    "\n",
    "        score = total_value_with_model / total_value_without_model\n",
    "        return score\n",
    "\n",
    "    rf_param_grid = {\n",
    "        'n_estimators': [int(x) for x in np.linspace(start = 100, stop = 500, num = 20)],\n",
    "        'max_depth': [int(x) for x in np.linspace(10, 100, num = 5)] + [None],\n",
    "        'bootstrap': [True, False],\n",
    "    }\n",
    "\n",
    "    value_predictor_v1 = RandomForestClassifier()\n",
    "    value_predictor_v1_grid_search = RandomizedSearchCV(value_predictor_v1, rf_param_grid, cv=10, scoring='accuracy', return_train_score=True, n_iter=10, error_score=\"raise\")\n",
    "\n",
    "    value_predictor_v1_grid_search.fit(players_prepared_v1, players_labels_v1)\n",
    "\n",
    "    value_predictor_v1 = value_predictor_v1_grid_search.best_estimator_\n",
    "\n",
    "    joblib.dump(value_predictor_v1, 'models/rf_value_predictor.pkl')\n",
    "\n",
    "    # Use XGBoost or Adaboost"
   ]
  },
  {
   "cell_type": "code",
   "execution_count": null,
   "metadata": {},
   "outputs": [
    {
     "data": {
      "text/html": [
       "<style>#sk-container-id-1 {color: black;background-color: white;}#sk-container-id-1 pre{padding: 0;}#sk-container-id-1 div.sk-toggleable {background-color: white;}#sk-container-id-1 label.sk-toggleable__label {cursor: pointer;display: block;width: 100%;margin-bottom: 0;padding: 0.3em;box-sizing: border-box;text-align: center;}#sk-container-id-1 label.sk-toggleable__label-arrow:before {content: \"▸\";float: left;margin-right: 0.25em;color: #696969;}#sk-container-id-1 label.sk-toggleable__label-arrow:hover:before {color: black;}#sk-container-id-1 div.sk-estimator:hover label.sk-toggleable__label-arrow:before {color: black;}#sk-container-id-1 div.sk-toggleable__content {max-height: 0;max-width: 0;overflow: hidden;text-align: left;background-color: #f0f8ff;}#sk-container-id-1 div.sk-toggleable__content pre {margin: 0.2em;color: black;border-radius: 0.25em;background-color: #f0f8ff;}#sk-container-id-1 input.sk-toggleable__control:checked~div.sk-toggleable__content {max-height: 200px;max-width: 100%;overflow: auto;}#sk-container-id-1 input.sk-toggleable__control:checked~label.sk-toggleable__label-arrow:before {content: \"▾\";}#sk-container-id-1 div.sk-estimator input.sk-toggleable__control:checked~label.sk-toggleable__label {background-color: #d4ebff;}#sk-container-id-1 div.sk-label input.sk-toggleable__control:checked~label.sk-toggleable__label {background-color: #d4ebff;}#sk-container-id-1 input.sk-hidden--visually {border: 0;clip: rect(1px 1px 1px 1px);clip: rect(1px, 1px, 1px, 1px);height: 1px;margin: -1px;overflow: hidden;padding: 0;position: absolute;width: 1px;}#sk-container-id-1 div.sk-estimator {font-family: monospace;background-color: #f0f8ff;border: 1px dotted black;border-radius: 0.25em;box-sizing: border-box;margin-bottom: 0.5em;}#sk-container-id-1 div.sk-estimator:hover {background-color: #d4ebff;}#sk-container-id-1 div.sk-parallel-item::after {content: \"\";width: 100%;border-bottom: 1px solid gray;flex-grow: 1;}#sk-container-id-1 div.sk-label:hover label.sk-toggleable__label {background-color: #d4ebff;}#sk-container-id-1 div.sk-serial::before {content: \"\";position: absolute;border-left: 1px solid gray;box-sizing: border-box;top: 0;bottom: 0;left: 50%;z-index: 0;}#sk-container-id-1 div.sk-serial {display: flex;flex-direction: column;align-items: center;background-color: white;padding-right: 0.2em;padding-left: 0.2em;position: relative;}#sk-container-id-1 div.sk-item {position: relative;z-index: 1;}#sk-container-id-1 div.sk-parallel {display: flex;align-items: stretch;justify-content: center;background-color: white;position: relative;}#sk-container-id-1 div.sk-item::before, #sk-container-id-1 div.sk-parallel-item::before {content: \"\";position: absolute;border-left: 1px solid gray;box-sizing: border-box;top: 0;bottom: 0;left: 50%;z-index: -1;}#sk-container-id-1 div.sk-parallel-item {display: flex;flex-direction: column;z-index: 1;position: relative;background-color: white;}#sk-container-id-1 div.sk-parallel-item:first-child::after {align-self: flex-end;width: 50%;}#sk-container-id-1 div.sk-parallel-item:last-child::after {align-self: flex-start;width: 50%;}#sk-container-id-1 div.sk-parallel-item:only-child::after {width: 0;}#sk-container-id-1 div.sk-dashed-wrapped {border: 1px dashed gray;margin: 0 0.4em 0.5em 0.4em;box-sizing: border-box;padding-bottom: 0.4em;background-color: white;}#sk-container-id-1 div.sk-label label {font-family: monospace;font-weight: bold;display: inline-block;line-height: 1.2em;}#sk-container-id-1 div.sk-label-container {text-align: center;}#sk-container-id-1 div.sk-container {/* jupyter's `normalize.less` sets `[hidden] { display: none; }` but bootstrap.min.css set `[hidden] { display: none !important; }` so we also need the `!important` here to be able to override the default hidden behavior on the sphinx rendered scikit-learn.org. See: https://github.com/scikit-learn/scikit-learn/issues/21755 */display: inline-block !important;position: relative;}#sk-container-id-1 div.sk-text-repr-fallback {display: none;}</style><div id=\"sk-container-id-1\" class=\"sk-top-container\"><div class=\"sk-text-repr-fallback\"><pre>RandomForestClassifier(bootstrap=False, max_depth=10, n_estimators=415)</pre><b>In a Jupyter environment, please rerun this cell to show the HTML representation or trust the notebook. <br />On GitHub, the HTML representation is unable to render, please try loading this page with nbviewer.org.</b></div><div class=\"sk-container\" hidden><div class=\"sk-item\"><div class=\"sk-estimator sk-toggleable\"><input class=\"sk-toggleable__control sk-hidden--visually\" id=\"sk-estimator-id-1\" type=\"checkbox\" checked><label for=\"sk-estimator-id-1\" class=\"sk-toggleable__label sk-toggleable__label-arrow\">RandomForestClassifier</label><div class=\"sk-toggleable__content\"><pre>RandomForestClassifier(bootstrap=False, max_depth=10, n_estimators=415)</pre></div></div></div></div></div>"
      ],
      "text/plain": [
       "RandomForestClassifier(bootstrap=False, max_depth=10, n_estimators=415)"
      ]
     },
     "execution_count": 12,
     "metadata": {},
     "output_type": "execute_result"
    }
   ],
   "source": [
    "# Select and train model\n",
    "## RandomForestClassifier\n",
    "\n",
    "value_predictor_v1.fit(players_prepared_v1, players_labels_v1)"
   ]
  },
  {
   "cell_type": "code",
   "execution_count": null,
   "metadata": {},
   "outputs": [
    {
     "data": {
      "text/plain": [
       "['models/rf_value_predictor.pkl']"
      ]
     },
     "execution_count": 14,
     "metadata": {},
     "output_type": "execute_result"
    }
   ],
   "source": [
    "import joblib\n",
    "\n",
    "joblib.dump(value_predictor_v1, 'models/rf_value_predictor.pkl')"
   ]
  },
  {
   "cell_type": "code",
   "execution_count": null,
   "metadata": {},
   "outputs": [
    {
     "name": "stdout",
     "output_type": "stream",
     "text": [
      "Perf: 3208689994.0\n",
      "Max Perf: 3275585994.0\n",
      "Thres: 0.43\n"
     ]
    }
   ],
   "source": [
    "# Test best threshold\n",
    "\n",
    "value_predictions_proba_v1 = value_predictor_v1.predict_proba(players_prepared_v1)\n",
    "\n",
    "total_value_without_model = x_train['value_diff'].sum()\n",
    "max_value_without_model = x_train.query('value_diff > 0')['value_diff'].sum()\n",
    "\n",
    "max_performance = max_value_without_model\n",
    "\n",
    "train_players = x_train[:]\n",
    "train_players['prob_1'] = value_predictions_proba_v1[:, 1]\n",
    "\n",
    "model_performance_max = 0\n",
    "ideal_threshold = 0\n",
    "total_value_with_model_max = 0\n",
    "\n",
    "for i in range(100):\n",
    "    threshold = i / 100\n",
    "    train_players['pred'] = value_predictions_proba_v1[:, 1] > threshold\n",
    "    total_value_with_model = train_players.query('pred == 1')['value_diff'].sum()\n",
    "    model_performance = total_value_with_model\n",
    "    if model_performance > model_performance_max:\n",
    "        model_performance_max = model_performance\n",
    "        ideal_threshold = threshold\n",
    "        total_value_with_model_max = total_value_with_model\n",
    "\n",
    "print(\"Perf:\", model_performance_max)\n",
    "print(\"Max Perf:\", max_performance)\n",
    "print(\"Thres:\", ideal_threshold)\n"
   ]
  },
  {
   "cell_type": "code",
   "execution_count": null,
   "metadata": {},
   "outputs": [
    {
     "data": {
      "text/plain": [
       "<AxesSubplot:>"
      ]
     },
     "execution_count": 16,
     "metadata": {},
     "output_type": "execute_result"
    },
    {
     "data": {
      "image/png": "[encoded data removed]",
      "text/plain": [
       "<Figure size 1500x800 with 2 Axes>"
      ]
     },
     "metadata": {},
     "output_type": "display_data"
    }
   ],
   "source": [
    "import seaborn as sns\n",
    "from sklearn.metrics import confusion_matrix\n",
    "\n",
    "conf_mx = confusion_matrix(players_labels_v1, value_predictions_proba_v1[:, 1] > ideal_threshold)\n",
    "conf_mx = conf_mx.astype('float') / conf_mx.sum(axis=1)[:, np.newaxis]\n",
    "sns.heatmap(conf_mx, annot=True, fmt='.2f')"
   ]
  },
  {
   "cell_type": "code",
   "execution_count": null,
   "metadata": {},
   "outputs": [],
   "source": [
    "from utils import same_sort\n",
    "\n",
    "#feature_importances_v1, feature_labels_v1 = same_sort(value_predictor_v1.feature_importances_, feature_labels_v1, reverse=True)\n",
    "\n",
    "#plt.bar(feature_labels_v1, value_predictor_v1.feature_importances_)"
   ]
  },
  {
   "cell_type": "code",
   "execution_count": null,
   "metadata": {},
   "outputs": [],
   "source": [
    "# Prepare test values for analysis\n",
    "\n",
    "test_players_prepared = full_pipeline_v1.fit_transform(x_test)\n",
    "test_players_labels = y_test"
   ]
  },
  {
   "cell_type": "code",
   "execution_count": null,
   "metadata": {},
   "outputs": [
    {
     "data": {
      "text/plain": [
       "<AxesSubplot:>"
      ]
     },
     "execution_count": 19,
     "metadata": {},
     "output_type": "execute_result"
    },
    {
     "data": {
      "image/png": "[encoded data removed]",
      "text/plain": [
       "<Figure size 1500x800 with 2 Axes>"
      ]
     },
     "metadata": {},
     "output_type": "display_data"
    }
   ],
   "source": [
    "# Test values confusion matrix\n",
    "\n",
    "test_value_predictions_proba_v1 = value_predictor_v1.predict_proba(test_players_prepared)\n",
    "\n",
    "conf_mx = confusion_matrix(test_players_labels, test_value_predictions_proba_v1[:, 1] > ideal_threshold)\n",
    "conf_mx = conf_mx.astype('float') / conf_mx.sum(axis=1)[:, np.newaxis]\n",
    "sns.heatmap(conf_mx, annot=True, fmt='.2f')"
   ]
  },
  {
   "cell_type": "code",
   "execution_count": null,
   "metadata": {},
   "outputs": [
    {
     "name": "stdout",
     "output_type": "stream",
     "text": [
      "Perf: 298540000.0\n",
      "Max Perf: 945697000.0\n",
      "Value diff from max: 647157000.0\n"
     ]
    }
   ],
   "source": [
    "# Try with test model\n",
    "\n",
    "test_value_predictions_proba_v1 = value_predictor_v1.predict_proba(test_players_prepared)\n",
    "\n",
    "test_players_v1 = x_test[['Name', 'Age', 'Position', 'Club', 'PA', 'value_diff']]\n",
    "test_players_v1['pred'] = test_value_predictions_proba_v1[:, 1] > ideal_threshold\n",
    "\n",
    "test_total_value_without_model = test_players_v1['value_diff'].sum()\n",
    "test_total_value_with_model = test_players_v1.query('pred == 1')['value_diff'].sum()\n",
    "test_max_value_without_model = test_players_v1.query('value_diff > 0')['value_diff'].sum()\n",
    "\n",
    "test_performance = test_total_value_with_model\n",
    "max_test_performance = test_max_value_without_model\n",
    "\n",
    "print(\"Perf:\", test_performance)\n",
    "print(\"Max Perf:\", max_test_performance)\n",
    "print(\"Value diff from max:\", test_max_value_without_model - test_total_value_with_model)"
   ]
  },
  {
   "cell_type": "code",
   "execution_count": null,
   "metadata": {},
   "outputs": [
    {
     "name": "stderr",
     "output_type": "stream",
     "text": [
      "Done! Use 'show' commands to display/save.   |██████████| [100%]   00:04 -> (00:00 left)"
     ]
    },
    {
     "name": "stdout",
     "output_type": "stream",
     "text": [
      "Report SWEETVIZ_REPORT.html was generated! NOTEBOOK/COLAB USERS: the web browser MAY not pop up, regardless, the report IS saved in your notebook/colab assets.\n"
     ]
    },
    {
     "name": "stderr",
     "output_type": "stream",
     "text": [
      "\n"
     ]
    }
   ],
   "source": [
    "import sweetviz as sv\n",
    "# report = sv.analyze(base_players_dataset)\n",
    "# report.show_html()\n",
    "\n",
    "test_players_errors = x_test.copy()\n",
    "test_players_errors['pred'] = test_value_predictions_proba_v1[:, 1] > ideal_threshold\n",
    "test_players_errors['real'] = test_players_errors['value_diff'] > 0\n",
    "test_players_false_pos = test_players_errors.query('pred == 1 & real == 0')\n",
    "test_players_false_neg = test_players_errors.query('pred == 0 & real == 1')\n",
    "\n",
    "# report = sv.analyze(test_players_false_pos)\n",
    "# report.show_html()\n",
    "\n",
    "report = sv.analyze(test_players_false_neg)\n",
    "report.show_html()"
   ]
  },
  {
   "cell_type": "markdown",
   "metadata": {},
   "source": [
    "## Future work\n",
    "\n",
    "There is still a lot to be done in terms of perfecting the results of the model\n",
    "\n",
    "### What is missing\n",
    "\n",
    "- A proper EDA. There was few explanation of the datasets I'm working and of the decisions took about which data was selected and used.\n",
    "\n",
    "### Some questions\n",
    "\n",
    "- How to better define performance metrics?\n",
    "    - What should define success in the model?\n",
    "        - In theory we want to increase the number of excellent investments in players, and find some \"hidden\" gems (e.g. not only the algorithm should predict already great players who obviously will increase in value, but also players who are not so obvious)\n",
    "\n",
    "- How to analyse the errors, and act upon that analysis?\n",
    "    - Right now the only analysis done points to a difficulty in evaluating players around 24-27 yo (late bloomers)\n",
    "        - How can we implement this analysis and improve the model for these players?\n",
    "    - How to better do error analysis?\n",
    "\n",
    "- How can we increase our base dataset?\n",
    "    - From more that 100k data points who are FM 20, we are reduced to only 2985.\n",
    "        - This is due to a lack of data in transfermarkt\n",
    "        - If we can find a strong correlation with some feature with an increase in value (e.g. if a player in 2020 has higher attributes than in 2017, then it has a higher value), can we extrapolate an increase in value without using exact data from Transfermarkt?\n",
    "        - So for instance we can use this to find a correlation in a sample of matching data between FM17, FM20 and Transfermarkt and then extrapolate.\n",
    "        \n",
    "- How can we properly add weights to more relevant increases/decreases in value?\n",
    "    - It is way more important for the model to be able to correctly predict big changes in value than small ones.\n",
    "    - Does it make sense dividing in 3 groups (big decrease, small change - positive or negative, big increase)\n",
    "    - How to incorporate big variations in price? E.g. players who even though the change is small - e.g. from 200k to 2M -, it varies a lot (positively or negatively)\n",
    "\n",
    "- How can we extract more relevant features?\n",
    "    - E.g. players tend to devalue if there are only 1 year left in their contract.\n",
    "\n",
    "- Is the current value of a player a proper evaluator of the \"real value\" of a player?\n",
    "    - Maybe the instantaneous value of a player in a given time is not really what we're looking for as a success measure.\n",
    "    - Looking in the eyes of an investor, why wouldn't I want to invest in a young player who devalued due to some unforeseen circumstances (a failed transfer, an injury, a coach who doesn't like him), even though my attributes actually increased and I am a better player?\n",
    "\n",
    "### Additional work\n",
    "- Create an api in which we can feed player attributes, and then tell the ML algorithm whether the player increased or not in value in the past 3 years\n",
    "- Create a simple front-end for this\n",
    "- Make the system work online (the model improves itself with the new information being given)"
   ]
  }
 ],
 "metadata": {
  "kernelspec": {
   "display_name": "Python 3.10.4 ('predict_value_change_from_fm_data-PiR6Skg_')",
   "language": "python",
   "name": "python3"
  },
  "language_info": {
   "codemirror_mode": {
    "name": "ipython",
    "version": 3
   },
   "file_extension": ".py",
   "mimetype": "text/x-python",
   "name": "python",
   "nbconvert_exporter": "python",
   "pygments_lexer": "ipython3",
   "version": "3.10.6"
  },
  "orig_nbformat": 4,
  "vscode": {
   "interpreter": {
    "hash": "ac233701de9f190529bd83c89bd46f761d315f19d370eb2b21951ef14e06a61f"
   }
  }
 },
 "nbformat": 4,
 "nbformat_minor": 2
}
