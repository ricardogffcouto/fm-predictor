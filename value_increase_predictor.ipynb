{
 "cells": [
  {
   "cell_type": "markdown",
   "metadata": {},
   "source": [
    "# Predict if a football player will increase in valuation using Football Manager data\n",
    "\n",
    "The goal of this project is to be able to predict football players who will have an increase in their value in the future, using Football Manager (FM) data.\n",
    "\n",
    "FM is a cheap and easily accessible database of football players. By being able to predict which players would have an increase in their value using only this database would help football clubs decide better in which players to invest.\n",
    "\n",
    "There is not a lot of literature available for studies using FM data in this situation. However the following one was found:\n",
    "- [Predicting the Potential Ability of Football Players in the Football Manager Game](williamvanwijk.nl/wp-content/uploads/2022/07/Thesis_FM_Predict_potential_ability.pdf)\n",
    "    - This study concludes that it is possible to predict an increase in real-life value using publicly available FM data. However, the focus of this study was to predict not the value but an increase in PA such as this value would be above a certain threshold (130) which is given to high-potential players."
   ]
  },
  {
   "cell_type": "markdown",
   "metadata": {},
   "source": [
    "## Overview of the project and data\n",
    "\n",
    "I used the following datasets for this project:\n",
    "\n",
    "- FM20 dataset: https://www.kaggle.com/datasets/ktyptorio/football-manager-2020\n",
    "    - This dataset will be used in order to evaluate whether the information we have in a given iteration of FM - not taking into account any history - is a good predictor of an increase in valuation.\n",
    "- Transfermarkt: https://www.kaggle.com/datasets/davidcariboo/player-scores \n",
    "    - This dataset provides the player valuations from Transfermarkt, a well-known aggregator for player valuations."
   ]
  },
  {
   "cell_type": "markdown",
   "metadata": {},
   "source": [
    "## Exploratory Data Analysis\n",
    "\n",
    "Here a very basic and superficial EDA was made.\n",
    "\n",
    "First I imported the libraries and the datasets (FM20, Transfermarkt Players and Transfermarkt valuations over time)."
   ]
  },
  {
   "cell_type": "code",
   "execution_count": 2,
   "metadata": {},
   "outputs": [],
   "source": [
    "from src.libs import *\n",
    "\n",
    "fm20_dataset = pd.read_csv(\"datasets/datafm20.csv\")\n",
    "transfermarkt_players_dataset = pd.read_csv(\"datasets/players.csv\")\n",
    "transfermarkt_valuations_dataset = pd.read_csv(\"datasets/player_valuations.csv\")"
   ]
  },
  {
   "cell_type": "markdown",
   "metadata": {},
   "source": [
    "Here I wanted to understand at what age do players have their peak, and when they devalue. As expected, this graph follows a normal distribution, with the peak being around 27/28 yo. There is a linear increase from 15-27, followed by a sharper decrease in value from 28-35 yo.\n",
    "\n",
    "Here I removed the Goalkeepers as they will not be the focus of our investigation (as they have very specific attributes)"
   ]
  },
  {
   "cell_type": "code",
   "execution_count": 3,
   "metadata": {},
   "outputs": [
    {
     "data": {
      "text/plain": [
       "<AxesSubplot:xlabel='Age'>"
      ]
     },
     "execution_count": 3,
     "metadata": {},
     "output_type": "execute_result"
    },
    {
     "data": {
      "image/png": "[encoded data removed]",
      "text/plain": [
       "<Figure size 800x400 with 1 Axes>"
      ]
     },
     "metadata": {},
     "output_type": "display_data"
    }
   ],
   "source": [
    "fm20_df_no_gk = fm20_dataset[:].query('`Best Pos` != \"GK\"')\n",
    "\n",
    "new_fm20_df = fm20_df_no_gk[:]\n",
    "new_fm20_df['POT'] = new_fm20_df['PA'] - new_fm20_df['CA']\n",
    "new_fm20_df.groupby('Age')['Value'].mean().plot(kind='bar')"
   ]
  },
  {
   "cell_type": "markdown",
   "metadata": {},
   "source": [
    "Here I want to add some attribute combinations as possible features, and also see if they correlate well with the player value."
   ]
  },
  {
   "cell_type": "code",
   "execution_count": 4,
   "metadata": {},
   "outputs": [],
   "source": [
    "new_fm20_df = fm20_df_no_gk[:][['Value', 'Age'] + PLAYER_ATTR]\n",
    "\n",
    "apply_mean_attribute_list(new_fm20_df, 'PHY', ['Acc', 'Pac', 'Sta', 'Str', 'Agi', 'Bal', 'Jum', 'Nat'])\n",
    "apply_mean_attribute_list(new_fm20_df, 'MEN', ['Wor', 'Vis', 'Tea', 'Pos', 'OtB', 'Ldr', 'Fla', 'Det', 'Dec', 'Cnt', 'Cmp', 'Bra', 'Ant', 'Agg'])\n",
    "apply_mean_attribute_list(new_fm20_df, 'M+P', ['MEN', 'PHY'])\n",
    "apply_mean_attribute_list(new_fm20_df, 'ATTR', PLAYER_ATTR)"
   ]
  },
  {
   "cell_type": "markdown",
   "metadata": {},
   "source": [
    "As we can see here, the attribute combinations correlate better with value than any individual attribute."
   ]
  },
  {
   "cell_type": "code",
   "execution_count": 5,
   "metadata": {},
   "outputs": [
    {
     "data": {
      "text/plain": [
       "Value    1.000000\n",
       "M+P      0.292927\n",
       "ATTR     0.277248\n",
       "MEN      0.268462\n",
       "PHY      0.266174\n",
       "Name: Value, dtype: float64"
      ]
     },
     "execution_count": 5,
     "metadata": {},
     "output_type": "execute_result"
    }
   ],
   "source": [
    "new_fm20_df.corr()['Value'].sort_values(ascending=False).head(5)"
   ]
  },
  {
   "cell_type": "markdown",
   "metadata": {},
   "source": [
    "As we can see here, age has a small positive correlation with the value, which was expected given that the peak of a player's valuation is more or less in the middle of his career."
   ]
  },
  {
   "cell_type": "code",
   "execution_count": 6,
   "metadata": {},
   "outputs": [
    {
     "data": {
      "text/plain": [
       "Age    0.038035\n",
       "Mar    0.067548\n",
       "Ldr    0.067727\n",
       "Agg    0.074689\n",
       "Nat    0.079667\n",
       "Name: Value, dtype: float64"
      ]
     },
     "execution_count": 6,
     "metadata": {},
     "output_type": "execute_result"
    }
   ],
   "source": [
    "new_fm20_df.corr()['Value'].sort_values(ascending=True).head(5)"
   ]
  },
  {
   "cell_type": "markdown",
   "metadata": {},
   "source": [
    "Here I want to analyse the FIFA World Rankings dataframe. I will use this data to transform each country of birth into a value (and see if there is any relevance to that data)"
   ]
  },
  {
   "cell_type": "code",
   "execution_count": 7,
   "metadata": {},
   "outputs": [
    {
     "data": {
      "text/plain": [
       "60744    2020-02-20\n",
       "60954    2020-04-09\n",
       "61164    2020-06-11\n",
       "61374    2020-07-16\n",
       "61584    2020-09-17\n",
       "61794    2020-10-22\n",
       "62004    2020-11-26\n",
       "62214    2020-12-10\n",
       "Name: rank_date, dtype: object"
      ]
     },
     "execution_count": 7,
     "metadata": {},
     "output_type": "execute_result"
    }
   ],
   "source": [
    "fifa_wr = pd.read_csv(\"datasets/fifa_ranking-2021-05-27.csv\")\n",
    "fifa_wr.columns\n",
    "fifa_wr['rank_date'].drop_duplicates()[fifa_wr['rank_date'].drop_duplicates().str.startswith('2020')].sort_values()"
   ]
  },
  {
   "cell_type": "markdown",
   "metadata": {},
   "source": [
    "My EDA was not finished here, however most of the code was unfortunately either removed or not documented.\n",
    "\n",
    "Some additional work that should have been done within the EDA:\n",
    "- Check null values\n",
    "- Check outliers (3 std dev.) z-score > 3 or z-score < -3 ignore\n",
    "- Prove within notebook that it is clean\n",
    "- pd.describe()\n",
    "- Use seaborn for heatmap of correlations"
   ]
  },
  {
   "cell_type": "markdown",
   "metadata": {},
   "source": [
    "## Data preparation\n",
    "\n",
    "I wanted to prepare the main dataset for usage in creating the model. This dataset will contain the matching players from FM20 and Transfermarkt, including their valuations and change in valuation from 2020 to 2022.\n",
    "\n",
    "For that, I prepared both datasets to be merged. \n",
    "\n",
    "I selected only players with less than 27 y.o. This decision was made so we can focus only on players with a high probability of increasing in value (we assume as players get older than this, the probability of a value increase is much smaller)."
   ]
  },
  {
   "cell_type": "code",
   "execution_count": 8,
   "metadata": {},
   "outputs": [],
   "source": [
    "transfermarkt_base_players_df = transfermarkt_players_dataset[:]\n",
    "transfermarkt_base_players_df.query(\"last_season >= 2021 & date_of_birth >= '1992-01-01' & position != 'Goalkeeper'\", inplace=True)\n",
    "transfermarkt_base_players_df.dropna(subset='market_value_in_gbp')\n",
    "\n",
    "fm20_base_players_df = fm20_dataset.query(\"Age <= 27 & `Best Pos` != 'GK'\")"
   ]
  },
  {
   "cell_type": "markdown",
   "metadata": {},
   "source": [
    "To merge both dataframes we need to figure out what will be the criteria for players to \"match\". We decided to use:\n",
    "- Player name and nation should always match\n",
    "- If the name and nation matches for more than one player, the player value will be the tiebreaker (so the highest valued match in one dataset will match in the other dataset) "
   ]
  },
  {
   "cell_type": "markdown",
   "metadata": {},
   "source": [
    "So first I ordered both datasets by value. Some players in the transfermarkt dataset didn't have value so I dropped those."
   ]
  },
  {
   "cell_type": "code",
   "execution_count": 9,
   "metadata": {},
   "outputs": [],
   "source": [
    "transfermarkt_base_players_df.dropna(subset='market_value_in_gbp')\n",
    "transfermarkt_base_players_df.sort_values(by='market_value_in_gbp', ascending=False, inplace=True)\n",
    "\n",
    "fm20_base_players_df.sort_values(by='Value', ascending=False, inplace=True)"
   ]
  },
  {
   "cell_type": "markdown",
   "metadata": {},
   "source": [
    "First I made a script which matched the name in FM with the name which appears as unique in Transfermarkt. This will be used to match players in FM and Transfermarkt."
   ]
  },
  {
   "cell_type": "code",
   "execution_count": 10,
   "metadata": {},
   "outputs": [],
   "source": [
    "fm20_base_players_df['Transfermarkt_Name'] = fm20_base_players_df['Name'].apply(name_char_replacer).apply(name_to_id)"
   ]
  },
  {
   "cell_type": "markdown",
   "metadata": {},
   "source": [
    "Then, I mapped the country of citizenship in Transfermarkt to the country codes in FM20. This was made by first capturing the 5 most valuable players of each nation, find what is the matching *country_of_citizenship* in Transfermarkt, and then match that to the FM20 *Nation* of those players."
   ]
  },
  {
   "cell_type": "code",
   "execution_count": 11,
   "metadata": {},
   "outputs": [],
   "source": [
    "fm20_name_nation_mapping = fm20_base_players_df.groupby('Nation').head(5)[['Transfermarkt_Name', 'Nation']]\n",
    "\n",
    "transfermarkt_name_nation_mapping = transfermarkt_players_dataset[['name', 'country_of_citizenship']]\n",
    "\n",
    "player_nationalities_mapping = fm20_name_nation_mapping.merge(transfermarkt_name_nation_mapping, left_on='Transfermarkt_Name', right_on='name')\n",
    "player_nationalities_mapping.drop_duplicates(subset='Nation', inplace=True)\n",
    "\n",
    "fm20_base_players_df = fm20_base_players_df.merge(player_nationalities_mapping[['Nation', 'country_of_citizenship']], on='Nation')"
   ]
  },
  {
   "cell_type": "markdown",
   "metadata": {},
   "source": [
    "Here I make my first attempt in merging both datasets, using only the name and country of citizenship. I create our **merged dataframe** called *transfermarkt_fm20_merged_df*."
   ]
  },
  {
   "cell_type": "code",
   "execution_count": 12,
   "metadata": {},
   "outputs": [],
   "source": [
    "transfermarkt_fm20_merged_df = fm20_base_players_df.merge(transfermarkt_base_players_df, left_on=['Transfermarkt_Name', 'country_of_citizenship'], right_on=['name', 'country_of_citizenship'])\n",
    "\n",
    "transfermarkt_fm20_merged_df.drop_duplicates(subset=['Transfermarkt_Name', 'country_of_citizenship'], inplace=True)"
   ]
  },
  {
   "cell_type": "markdown",
   "metadata": {},
   "source": [
    "Here I try to get more results than those I get previously.\n",
    "- I get all the merged players who are missing from *base_players_df*.\n",
    "- I sort them by market_value and then figure out their age in 2020 based on the *date_of_birth* (the data I have in Transfermarkt)\n",
    "    - I can't know an accurate DOB as I only have the age of the player in the FM20 dataframe, and I don't know exactly when the age was \"measured\"\n",
    "- Finally, I apply a function which is sort of a fuzzy search taking into account that the name, country, age and market value are within a certain range\n",
    "    - The name is fuzzy searched with difflib.get_close_matches\n",
    "    - The value in FM should be greater than or equal to 1/5 of the Transfermarkt value.\n",
    "    - The age on FM should be equal to the Transfermarkt age or equal to the Transfermarkt age - 1 (due to not knowing exactly if a player already had their birthday or not in FM, the approximate_age_2020 function rounded upwards)\n",
    "\n",
    "TODO: I would love some tips on performance on this fuzzy search"
   ]
  },
  {
   "cell_type": "code",
   "execution_count": 13,
   "metadata": {},
   "outputs": [
    {
     "data": {
      "text/plain": [
       "1268"
      ]
     },
     "execution_count": 13,
     "metadata": {},
     "output_type": "execute_result"
    }
   ],
   "source": [
    "missing = transfermarkt_base_players_df.merge(transfermarkt_fm20_merged_df, indicator='i', how='outer').query('i == \"left_only\"')[transfermarkt_base_players_df.columns]\n",
    "\n",
    "missing.sort_values(by='market_value_in_gbp', ascending=False, inplace=True)\n",
    "missing['Age_2020'] = missing['date_of_birth'].apply(approximate_age_2020)\n",
    "missing_fm = fm20_base_players_df[:]\n",
    "\n",
    "def find_match(player):\n",
    "    global missing_fm\n",
    "    country = player['country_of_citizenship']\n",
    "    age = player['Age_2020']\n",
    "    value = player['market_value_in_gbp'] / 5\n",
    "    age_minus = age - 1\n",
    "    potential_players = missing_fm.query('country_of_citizenship == @country and (Age == @age_minus or Age == @age) and Value >= @value')\n",
    "    player_name = next(iter(difflib.get_close_matches(player['name'], potential_players['Name'], cutoff=0.5)), None)\n",
    "    if player_name:\n",
    "        player_fm = potential_players.query('Name == @player_name').sort_values(by='Value', ascending=False).head(1)\n",
    "        missing_fm = missing_fm.drop(player_fm.index)\n",
    "        return player_fm.index\n",
    "    return None\n",
    "\n",
    "\n",
    "matches = missing.apply(find_match, axis=1)\n",
    "\n",
    "len(matches.index)\n"
   ]
  },
  {
   "cell_type": "markdown",
   "metadata": {},
   "source": [
    "Here I append the newly matched values from the missing dataframe values to our **merged dataframe**."
   ]
  },
  {
   "cell_type": "code",
   "execution_count": 14,
   "metadata": {},
   "outputs": [],
   "source": [
    "tfmk_missing = missing.merge(matches.to_frame('fm_player_index'), left_index=True, right_index=True).dropna()\n",
    "tfmk_missing['fm_player_index'] = tfmk_missing['fm_player_index'].apply(lambda x: x.tolist()[0])\n",
    "tfmk_missing = tfmk_missing.merge(fm20_base_players_df, left_on='fm_player_index', right_index=True)\n",
    "transfermarkt_fm20_merged_df = transfermarkt_fm20_merged_df.append(tfmk_missing)"
   ]
  },
  {
   "cell_type": "markdown",
   "metadata": {},
   "source": [
    "Here I insert the target values (valuation now vs valuations 2020) into the **merged dataframe**. This is made using the *transfermarkt_valuations_dataset* and finding the players' values in 2020, and comparing them with their value now using *market_value_in_gbp*. This creates the **final dataframe** called *players_with_values*."
   ]
  },
  {
   "cell_type": "code",
   "execution_count": 15,
   "metadata": {},
   "outputs": [],
   "source": [
    "\n",
    "transfermarkt_fm20_merged_df['value_2022'] = transfermarkt_fm20_merged_df['market_value_in_gbp']\n",
    "\n",
    "player_values_2020 = transfermarkt_valuations_dataset.query(\"date >= '2019-07-01' & date <= '2020-12-31'\").sort_values(by='date', ascending=True).drop_duplicates(subset='player_id')\n",
    "\n",
    "player_values_2020['value_2020'] = player_values_2020['market_value']\n",
    "\n",
    "players_with_values = transfermarkt_fm20_merged_df.merge(player_values_2020, on='player_id')\n",
    "\n",
    "players_with_values['value_diff'] = players_with_values['value_2022'] - players_with_values['value_2020']"
   ]
  },
  {
   "cell_type": "markdown",
   "metadata": {},
   "source": [
    "Having my **final dataframe**, I proceeded to evaluate if they were evenly distributed for a classifier, and if I needed to do any change to correct any imbalance."
   ]
  },
  {
   "cell_type": "code",
   "execution_count": 16,
   "metadata": {},
   "outputs": [
    {
     "data": {
      "text/plain": [
       "<AxesSubplot:>"
      ]
     },
     "execution_count": 16,
     "metadata": {},
     "output_type": "execute_result"
    },
    {
     "data": {
      "image/png": "[encoded data removed]",
      "text/plain": [
       "<Figure size 800x400 with 1 Axes>"
      ]
     },
     "metadata": {},
     "output_type": "display_data"
    }
   ],
   "source": [
    "value_bins = [-np.inf, 0, np.inf]\n",
    "\n",
    "base_players_dataset = players_with_values[:]\n",
    "\n",
    "base_players_dataset['value_cat'] = pd.cut(players_with_values[\"value_diff\"], bins=value_bins, labels=range(len(value_bins)-1))\n",
    "\n",
    "base_players_dataset['value_cat'].hist()"
   ]
  },
  {
   "cell_type": "markdown",
   "metadata": {},
   "source": [
    "Knowing that there is a very small imbalance, which is not meaningful, I proceed with creating the test and train sets, taking into account the player categories (to have representative test and train sets as well)"
   ]
  },
  {
   "cell_type": "code",
   "execution_count": 17,
   "metadata": {},
   "outputs": [],
   "source": [
    "from sklearn.model_selection import train_test_split\n",
    "\n",
    "players_for_analysis = base_players_dataset[:]\n",
    "\n",
    "players_for_analysis.dropna(subset=['value_cat'], inplace=True)\n",
    "\n",
    "x_train, x_test, y_train, y_test = train_test_split(players_for_analysis, players_for_analysis['value_cat'], test_size=0.2, random_state=42, stratify=players_for_analysis['value_cat'])\n",
    "\n",
    "players_v1 = x_train.drop('value_cat', axis=1)\n",
    "\n",
    "players_labels_v1 = x_train['value_cat'].copy()"
   ]
  },
  {
   "cell_type": "markdown",
   "metadata": {},
   "source": [
    "Here I handle text and categorical attributes. For this, I create a series of Custom Transformers which turn some attributes into relevant data:"
   ]
  },
  {
   "cell_type": "markdown",
   "metadata": {},
   "source": [
    "NationToRank transforms each nation into a numerical value between 0 and 1 according to their rank (1 the highest), according to the FIFA rankings in 2020."
   ]
  },
  {
   "cell_type": "code",
   "execution_count": 18,
   "metadata": {},
   "outputs": [],
   "source": [
    "\n",
    "from sklearn.base import BaseEstimator, TransformerMixin\n",
    "\n",
    "class NationToRank(BaseEstimator, TransformerMixin):\n",
    "    def __init__(self):\n",
    "        pass\n",
    "    \n",
    "    def fit(self, X, y=None):\n",
    "        return self\n",
    "    \n",
    "    def transform(self, X):\n",
    "        nation_encoder = base_players_dataset.groupby('Nation').sum().rank(ascending=True, method='first')\n",
    "        max_rank = nation_encoder['value_diff'].max()\n",
    "        temp = nation_encoder.copy()\n",
    "        temp.sort_values('value_diff', ascending=False, inplace=True)\n",
    "        temp['Nation'] = temp.index\n",
    "        temp.reset_index(drop=True, inplace=True)\n",
    "        temp['Nation_rank'] = 1 - (temp.index / temp.shape[0])\n",
    "        X['Nation_rank'] = X['Nation'].map(temp.set_index('Nation')['Nation_rank'])\n",
    "        X.drop('Nation', axis=1, inplace=True)\n",
    "        \n",
    "        # fifa_wr = pd.read_csv(\"datasets/fifa_ranking-2021-05-27.csv\")\n",
    "        # nation_encoder = fifa_wr.query('rank_date == \"2020-10-22\"')[['rank', 'country_abrv']]\n",
    "        # max_rank = nation_encoder['rank'].max() + 1\n",
    "        # X['Nation_rank'] = 1 - (X['Nation'].map(nation_encoder.set_index('country_abrv')['rank']).fillna(max_rank) / max_rank)\n",
    "        # X.drop('Nation', axis=1, inplace=True)\n",
    "        return X"
   ]
  },
  {
   "cell_type": "markdown",
   "metadata": {},
   "source": [
    "AttributeMerger merges groups of attributes together and returns a value between 0 and 1 for each group."
   ]
  },
  {
   "cell_type": "code",
   "execution_count": 23,
   "metadata": {},
   "outputs": [],
   "source": [
    "\n",
    "from sklearn.preprocessing import StandardScaler\n",
    "\n",
    "class AttributeMerger(BaseEstimator, TransformerMixin):\n",
    "    def __init__(self):\n",
    "        pass\n",
    "    \n",
    "    def fit(self, X, y=None):\n",
    "        return self\n",
    "    \n",
    "    def transform(self, X):\n",
    "        physical_attr = ['Acc', 'Pac', 'Sta', 'Str', 'Agi', 'Bal', 'Jum', 'Nat']\n",
    "        mental_attr = ['Wor', 'Vis', 'Tea', 'Pos', 'OtB', 'Ldr', 'Fla', 'Det', 'Dec', 'Cnt', 'Cmp', 'Bra', 'Ant', 'Agg']\n",
    "        apply_mean_attribute_list(X, 'M+P', physical_attr + mental_attr)\n",
    "        apply_mean_attribute_list(X, 'MEN', mental_attr)\n",
    "        apply_mean_attribute_list(X, 'PHY', physical_attr)\n",
    "        apply_mean_attribute_list(X, 'ATTR', PLAYER_ATTR)\n",
    "        X.drop(PLAYER_ATTR, axis=1, inplace=True)\n",
    "        return X\n"
   ]
  },
  {
   "cell_type": "markdown",
   "metadata": {},
   "source": [
    "BasedToRank transforms the championship where a player is playing into a value between 0 and 1, that was calculated taking into account the value generated in transfers by each championship. E.g. in this ranking the Portuguese Premier League is the league which increases the value of their players the most, so it gets the value of 1."
   ]
  },
  {
   "cell_type": "code",
   "execution_count": 20,
   "metadata": {},
   "outputs": [],
   "source": [
    "from sklearn.base import BaseEstimator, TransformerMixin\n",
    "\n",
    "class BasedToRank(BaseEstimator, TransformerMixin):\n",
    "    def __init__(self):\n",
    "        pass\n",
    "    \n",
    "    def fit(self, X, y=None):\n",
    "        return self\n",
    "    \n",
    "    def transform(self, X):\n",
    "        based_encoder = pd.read_csv('assets/based_rank.csv')\n",
    "        X['Based_rank'] = X['Based'].map(based_encoder.set_index('Based')['Based_rank'])\n",
    "        X['Based_rank'].fillna(0, inplace=True)\n",
    "        X.drop('Based', axis=1, inplace=True)\n",
    "        return X"
   ]
  },
  {
   "cell_type": "markdown",
   "metadata": {},
   "source": [
    "FootToRank transforms the footedness of the player (as indicated by FM) to a value between 0 and 1. In FM the technical attributes are affected by the footedness, and double footed players have a bit less technical attributes (but higher on both feet)."
   ]
  },
  {
   "cell_type": "code",
   "execution_count": 21,
   "metadata": {},
   "outputs": [],
   "source": [
    "from sklearn.base import BaseEstimator, TransformerMixin\n",
    "\n",
    "class FootToRank(BaseEstimator, TransformerMixin):\n",
    "    def __init__(self):\n",
    "        pass\n",
    "    \n",
    "    def fit(self, X, y=None):\n",
    "        return self\n",
    "    \n",
    "    def transform(self, X):\n",
    "        X['Foot_rank'] = X['Preferred Foot'].map(FOOTEDNESS_MAPPING)\n",
    "        X.drop('Preferred Foot', axis=1, inplace=True)\n",
    "        return X"
   ]
  },
  {
   "cell_type": "markdown",
   "metadata": {},
   "source": [
    "Here we apply all transformations. We apply an additional two transformations to the age and the preferred position of a player:\n",
    "- StandardScaler to standardize the age\n",
    "- OneHotEncoder to split the preferred positions in different columns"
   ]
  },
  {
   "cell_type": "code",
   "execution_count": 24,
   "metadata": {},
   "outputs": [],
   "source": [
    "from sklearn.compose import ColumnTransformer\n",
    "from sklearn.preprocessing import StandardScaler, OneHotEncoder\n",
    "\n",
    "players = x_train.drop('Value', axis=1)\n",
    "\n",
    "features_v1 = {\n",
    "    'att': (PLAYER_ATTR, ['M+P', 'MEN', 'PHY', 'ATTR']),\n",
    "    'num': (PLAYER_ATTR + ['Age'], None),\n",
    "    'foo': (['Preferred Foot'], None),\n",
    "    'pos': (['Best Pos'], None),\n",
    "    'nat': (['Nation'], None),\n",
    "    'bas': (['Based'], None)\n",
    "}\n",
    "\n",
    "feature_labels_v1 = list(np.concatenate([f[1] if f[1] is not None else f[0] for k, f in features_v1.items()]).flat)\n",
    "\n",
    "full_pipeline_v1 = ColumnTransformer([\n",
    "    (\"att\", AttributeMerger(), features_v1['att'][0]),\n",
    "    (\"num\", StandardScaler(), features_v1['num'][0]),\n",
    "    (\"foo\", FootToRank(), features_v1['foo'][0]),\n",
    "    (\"pos\", OneHotEncoder(), features_v1['pos'][0]),\n",
    "    (\"nat\", NationToRank(), features_v1['nat'][0]),\n",
    "    (\"bas\", BasedToRank(), features_v1['bas'][0])\n",
    "])\n",
    "\n",
    "players_prepared_v1 = full_pipeline_v1.fit_transform(players)"
   ]
  },
  {
   "cell_type": "markdown",
   "metadata": {},
   "source": [
    "## Model selection and training\n",
    "\n",
    "Here I decided to use a classifier, as I want to only classify the players in two categories (profit or not), and I opt to use a random forest for its ease of use and versatility.\n",
    "\n",
    "Below I try to find the best hyperparameters to maximize the increase in value difference using the method *predictor_performance*. What this does is:\n",
    "- Apply the model\n",
    "- Sum the *value_diff* where there was a positive prediction: this would be the value earned, and includes the value lost from bad predictions.\n",
    "- Sum the total positive *value_diff*: this would be the best prediction possible.\n",
    "- Divide the first by the second to get the score.\n",
    "\n",
    "After finding the best hyperparameters, I use the best estimator as my model and I save it.\n",
    "\n",
    "TODO: Use XGBoost or Adaboost to improve the tuning"
   ]
  },
  {
   "cell_type": "code",
   "execution_count": 28,
   "metadata": {},
   "outputs": [
    {
     "data": {
      "text/html": [
       "<style>#sk-container-id-1 {color: black;background-color: white;}#sk-container-id-1 pre{padding: 0;}#sk-container-id-1 div.sk-toggleable {background-color: white;}#sk-container-id-1 label.sk-toggleable__label {cursor: pointer;display: block;width: 100%;margin-bottom: 0;padding: 0.3em;box-sizing: border-box;text-align: center;}#sk-container-id-1 label.sk-toggleable__label-arrow:before {content: \"▸\";float: left;margin-right: 0.25em;color: #696969;}#sk-container-id-1 label.sk-toggleable__label-arrow:hover:before {color: black;}#sk-container-id-1 div.sk-estimator:hover label.sk-toggleable__label-arrow:before {color: black;}#sk-container-id-1 div.sk-toggleable__content {max-height: 0;max-width: 0;overflow: hidden;text-align: left;background-color: #f0f8ff;}#sk-container-id-1 div.sk-toggleable__content pre {margin: 0.2em;color: black;border-radius: 0.25em;background-color: #f0f8ff;}#sk-container-id-1 input.sk-toggleable__control:checked~div.sk-toggleable__content {max-height: 200px;max-width: 100%;overflow: auto;}#sk-container-id-1 input.sk-toggleable__control:checked~label.sk-toggleable__label-arrow:before {content: \"▾\";}#sk-container-id-1 div.sk-estimator input.sk-toggleable__control:checked~label.sk-toggleable__label {background-color: #d4ebff;}#sk-container-id-1 div.sk-label input.sk-toggleable__control:checked~label.sk-toggleable__label {background-color: #d4ebff;}#sk-container-id-1 input.sk-hidden--visually {border: 0;clip: rect(1px 1px 1px 1px);clip: rect(1px, 1px, 1px, 1px);height: 1px;margin: -1px;overflow: hidden;padding: 0;position: absolute;width: 1px;}#sk-container-id-1 div.sk-estimator {font-family: monospace;background-color: #f0f8ff;border: 1px dotted black;border-radius: 0.25em;box-sizing: border-box;margin-bottom: 0.5em;}#sk-container-id-1 div.sk-estimator:hover {background-color: #d4ebff;}#sk-container-id-1 div.sk-parallel-item::after {content: \"\";width: 100%;border-bottom: 1px solid gray;flex-grow: 1;}#sk-container-id-1 div.sk-label:hover label.sk-toggleable__label {background-color: #d4ebff;}#sk-container-id-1 div.sk-serial::before {content: \"\";position: absolute;border-left: 1px solid gray;box-sizing: border-box;top: 0;bottom: 0;left: 50%;z-index: 0;}#sk-container-id-1 div.sk-serial {display: flex;flex-direction: column;align-items: center;background-color: white;padding-right: 0.2em;padding-left: 0.2em;position: relative;}#sk-container-id-1 div.sk-item {position: relative;z-index: 1;}#sk-container-id-1 div.sk-parallel {display: flex;align-items: stretch;justify-content: center;background-color: white;position: relative;}#sk-container-id-1 div.sk-item::before, #sk-container-id-1 div.sk-parallel-item::before {content: \"\";position: absolute;border-left: 1px solid gray;box-sizing: border-box;top: 0;bottom: 0;left: 50%;z-index: -1;}#sk-container-id-1 div.sk-parallel-item {display: flex;flex-direction: column;z-index: 1;position: relative;background-color: white;}#sk-container-id-1 div.sk-parallel-item:first-child::after {align-self: flex-end;width: 50%;}#sk-container-id-1 div.sk-parallel-item:last-child::after {align-self: flex-start;width: 50%;}#sk-container-id-1 div.sk-parallel-item:only-child::after {width: 0;}#sk-container-id-1 div.sk-dashed-wrapped {border: 1px dashed gray;margin: 0 0.4em 0.5em 0.4em;box-sizing: border-box;padding-bottom: 0.4em;background-color: white;}#sk-container-id-1 div.sk-label label {font-family: monospace;font-weight: bold;display: inline-block;line-height: 1.2em;}#sk-container-id-1 div.sk-label-container {text-align: center;}#sk-container-id-1 div.sk-container {/* jupyter's `normalize.less` sets `[hidden] { display: none; }` but bootstrap.min.css set `[hidden] { display: none !important; }` so we also need the `!important` here to be able to override the default hidden behavior on the sphinx rendered scikit-learn.org. See: https://github.com/scikit-learn/scikit-learn/issues/21755 */display: inline-block !important;position: relative;}#sk-container-id-1 div.sk-text-repr-fallback {display: none;}</style><div id=\"sk-container-id-1\" class=\"sk-top-container\"><div class=\"sk-text-repr-fallback\"><pre>RandomForestClassifier(max_depth=10, n_estimators=352)</pre><b>In a Jupyter environment, please rerun this cell to show the HTML representation or trust the notebook. <br />On GitHub, the HTML representation is unable to render, please try loading this page with nbviewer.org.</b></div><div class=\"sk-container\" hidden><div class=\"sk-item\"><div class=\"sk-estimator sk-toggleable\"><input class=\"sk-toggleable__control sk-hidden--visually\" id=\"sk-estimator-id-1\" type=\"checkbox\" checked><label for=\"sk-estimator-id-1\" class=\"sk-toggleable__label sk-toggleable__label-arrow\">RandomForestClassifier</label><div class=\"sk-toggleable__content\"><pre>RandomForestClassifier(max_depth=10, n_estimators=352)</pre></div></div></div></div></div>"
      ],
      "text/plain": [
       "RandomForestClassifier(max_depth=10, n_estimators=352)"
      ]
     },
     "execution_count": 28,
     "metadata": {},
     "output_type": "execute_result"
    }
   ],
   "source": [
    "from sklearn.model_selection import RandomizedSearchCV\n",
    "from sklearn.ensemble import RandomForestClassifier\n",
    "\n",
    "tune_hyperparameters = True\n",
    "cross_validation = 10\n",
    "\n",
    "if not tune_hyperparameters:\n",
    "    value_predictor_v1 = joblib.load('models/rf_value_predictor.pkl')\n",
    "else:\n",
    "    def predictor_performance(estimator, X, y):\n",
    "        y_pred = estimator.predict(X)\n",
    "        values = x_train[['value_diff']]\n",
    "        values['y_true'] = y\n",
    "        values.dropna(inplace=True)\n",
    "        values['pred'] = y_pred\n",
    "\n",
    "        value_earned = values.query('pred == 1')['value_diff'].sum()\n",
    "        total_value = values.query('value_diff > 0')['value_diff'].sum()\n",
    "\n",
    "        return value_earned / total_value\n",
    "\n",
    "    rf_param_grid = {\n",
    "        'n_estimators': [int(x) for x in np.linspace(start = 100, stop = 500, num = 20)],\n",
    "        'max_depth': [int(x) for x in np.linspace(10, 100, num = 5)] + [None],\n",
    "        'bootstrap': [True, False],\n",
    "    }\n",
    "\n",
    "    value_predictor_v1 = RandomForestClassifier()\n",
    "    value_predictor_v1_grid_search = RandomizedSearchCV(value_predictor_v1, rf_param_grid, cv=cross_validation, scoring=predictor_performance, return_train_score=True, n_iter=10, error_score=\"raise\")\n",
    "\n",
    "    value_predictor_v1_grid_search.fit(players_prepared_v1, players_labels_v1)\n",
    "\n",
    "    value_predictor_v1 = value_predictor_v1_grid_search.best_estimator_\n",
    "\n",
    "    joblib.dump(value_predictor_v1, 'models/rf_value_predictor.pkl')\n",
    "\n",
    "value_predictor_v1"
   ]
  },
  {
   "cell_type": "markdown",
   "metadata": {},
   "source": [
    "In here I want to find the best threshold which maximizes the value earned. To do that I test 100 tresholds for the *predict_proba* function of the predictor and figure out which one is the best."
   ]
  },
  {
   "cell_type": "code",
   "execution_count": 29,
   "metadata": {},
   "outputs": [
    {
     "name": "stdout",
     "output_type": "stream",
     "text": [
      "Perf: 6457303993.0\n",
      "Max Perf: 6642244993.0\n",
      "Thres: 0.44\n"
     ]
    }
   ],
   "source": [
    "value_predictions_proba_v1 = value_predictor_v1.predict_proba(players_prepared_v1)\n",
    "\n",
    "total_value_without_model = x_train['value_diff'].sum()\n",
    "max_value_without_model = x_train.query('value_diff > 0')['value_diff'].sum()\n",
    "\n",
    "max_performance = max_value_without_model\n",
    "\n",
    "train_players = x_train[:]\n",
    "train_players['prob_1'] = value_predictions_proba_v1[:, 1]\n",
    "\n",
    "model_performance_max = 0\n",
    "ideal_threshold = 0\n",
    "total_value_with_model_max = 0\n",
    "\n",
    "for i in range(100):\n",
    "    threshold = i / 100\n",
    "    train_players['pred'] = value_predictions_proba_v1[:, 1] > threshold\n",
    "    total_value_with_model = train_players.query('pred == 1')['value_diff'].sum()\n",
    "    model_performance = total_value_with_model\n",
    "    if model_performance > model_performance_max:\n",
    "        model_performance_max = model_performance\n",
    "        ideal_threshold = threshold\n",
    "        total_value_with_model_max = total_value_with_model\n",
    "\n",
    "print(\"Perf:\", model_performance_max)\n",
    "print(\"Max Perf:\", max_performance)\n",
    "print(\"Thres:\", ideal_threshold)"
   ]
  },
  {
   "cell_type": "markdown",
   "metadata": {},
   "source": [
    "The confusion matrix shows a really good performance overall with the training set."
   ]
  },
  {
   "cell_type": "code",
   "execution_count": 30,
   "metadata": {},
   "outputs": [
    {
     "data": {
      "text/plain": [
       "<AxesSubplot:>"
      ]
     },
     "execution_count": 30,
     "metadata": {},
     "output_type": "execute_result"
    },
    {
     "data": {
      "image/png": "[encoded data removed]",
      "text/plain": [
       "<Figure size 800x400 with 2 Axes>"
      ]
     },
     "metadata": {},
     "output_type": "display_data"
    }
   ],
   "source": [
    "from sklearn.metrics import confusion_matrix\n",
    "\n",
    "conf_mx = confusion_matrix(players_labels_v1, value_predictions_proba_v1[:, 1] > ideal_threshold)\n",
    "conf_mx = conf_mx.astype('float') / conf_mx.sum(axis=1)[:, np.newaxis]\n",
    "sns.heatmap(conf_mx, annot=True, fmt='.2f')"
   ]
  },
  {
   "cell_type": "markdown",
   "metadata": {},
   "source": [
    "## Testing and Error Analysis\n",
    "\n",
    "Now the real deal. We prepare the test values and run the model with them."
   ]
  },
  {
   "cell_type": "code",
   "execution_count": 32,
   "metadata": {},
   "outputs": [],
   "source": [
    "test_players_prepared = full_pipeline_v1.fit_transform(x_test)\n",
    "test_players_labels = y_test\n",
    "test_value_predictions_proba_v1 = value_predictor_v1.predict_proba(test_players_prepared)"
   ]
  },
  {
   "cell_type": "markdown",
   "metadata": {},
   "source": [
    "The confusion matrix shows a way worse performance overall with the test set. Over/underfitting?"
   ]
  },
  {
   "cell_type": "code",
   "execution_count": 33,
   "metadata": {},
   "outputs": [
    {
     "data": {
      "text/plain": [
       "<AxesSubplot:>"
      ]
     },
     "execution_count": 33,
     "metadata": {},
     "output_type": "execute_result"
    },
    {
     "data": {
      "image/png": "[encoded data removed]",
      "text/plain": [
       "<Figure size 800x400 with 2 Axes>"
      ]
     },
     "metadata": {},
     "output_type": "display_data"
    }
   ],
   "source": [
    "# Test values confusion matrix\n",
    "conf_mx = confusion_matrix(test_players_labels, test_value_predictions_proba_v1[:, 1] > ideal_threshold)\n",
    "conf_mx = conf_mx.astype('float') / conf_mx.sum(axis=1)[:, np.newaxis]\n",
    "sns.heatmap(conf_mx, annot=True, fmt='.2f')"
   ]
  },
  {
   "cell_type": "markdown",
   "metadata": {},
   "source": [
    "Here I just want to understand how my model really performed, in terms of value earned. How does it compare with just buying all players? How does it compare to the maximum performance?"
   ]
  },
  {
   "cell_type": "code",
   "execution_count": 39,
   "metadata": {},
   "outputs": [
    {
     "name": "stdout",
     "output_type": "stream",
     "text": [
      "Perf: 0.59\n",
      "Min Perf: 0.24\n"
     ]
    }
   ],
   "source": [
    "def perf(minval, maxval):\n",
    "    return round(minval/maxval, 2)\n",
    "\n",
    "test_value_predictions_proba_v1 = value_predictor_v1.predict_proba(test_players_prepared)\n",
    "\n",
    "test_players_v1 = x_test[['Name', 'Age', 'Position', 'Club', 'PA', 'value_diff']]\n",
    "test_players_v1['pred'] = test_value_predictions_proba_v1[:, 1] > ideal_threshold\n",
    "\n",
    "test_total_value_without_model = test_players_v1['value_diff'].sum()\n",
    "test_total_value_with_model = test_players_v1.query('pred == 1')['value_diff'].sum()\n",
    "test_max_value_without_model = test_players_v1.query('value_diff > 0')['value_diff'].sum()\n",
    "\n",
    "test_performance = test_total_value_with_model\n",
    "max_test_performance = test_max_value_without_model\n",
    "\n",
    "print(\"Perf:\", perf(test_performance, max_test_performance))\n",
    "print(\"Min Perf:\", perf(test_total_value_without_model, max_test_performance))"
   ]
  },
  {
   "cell_type": "markdown",
   "metadata": {},
   "source": [
    "Finally, I just show some html reports trying to understand better the false positives and false negatives."
   ]
  },
  {
   "cell_type": "code",
   "execution_count": null,
   "metadata": {},
   "outputs": [
    {
     "name": "stderr",
     "output_type": "stream",
     "text": [
      "Done! Use 'show' commands to display/save.   |██████████| [100%]   00:04 -> (00:00 left)"
     ]
    },
    {
     "name": "stdout",
     "output_type": "stream",
     "text": [
      "Report SWEETVIZ_REPORT.html was generated! NOTEBOOK/COLAB USERS: the web browser MAY not pop up, regardless, the report IS saved in your notebook/colab assets.\n"
     ]
    },
    {
     "name": "stderr",
     "output_type": "stream",
     "text": [
      "\n"
     ]
    }
   ],
   "source": [
    "report = sv.analyze(base_players_dataset)\n",
    "report.show_html()\n",
    "\n",
    "test_players_errors = x_test.copy()\n",
    "test_players_errors['pred'] = test_value_predictions_proba_v1[:, 1] > ideal_threshold\n",
    "test_players_errors['real'] = test_players_errors['value_diff'] > 0\n",
    "test_players_false_pos = test_players_errors.query('pred == 1 & real == 0')\n",
    "test_players_false_neg = test_players_errors.query('pred == 0 & real == 1')\n",
    "\n",
    "report = sv.analyze(test_players_false_pos)\n",
    "report.show_html()\n",
    "\n",
    "report = sv.analyze(test_players_false_neg)\n",
    "report.show_html()"
   ]
  },
  {
   "cell_type": "markdown",
   "metadata": {},
   "source": [
    "## Future work\n",
    "\n",
    "There is still a lot to be done in terms of perfecting the results of the model\n",
    "\n",
    "### What is missing\n",
    "\n",
    "- A proper EDA. There was few explanation of the datasets I'm working and of the decisions took about which data was selected and used.\n",
    "\n",
    "### Some questions\n",
    "\n",
    "- How to better define performance metrics?\n",
    "    - What should define success in the model?\n",
    "        - In theory we want to increase the number of excellent investments in players, and find some \"hidden\" gems (e.g. not only the algorithm should predict already great players who obviously will increase in value, but also players who are not so obvious)\n",
    "\n",
    "- How to analyse the errors, and act upon that analysis?\n",
    "    - Right now the only analysis done points to a difficulty in evaluating players around 24-27 yo (late bloomers)\n",
    "        - How can we implement this analysis and improve the model for these players?\n",
    "        - Should I have added all players, and older ones (over 27 y.o), even if it caused an imbalance?\n",
    "    - How to better do error analysis?\n",
    "\n",
    "- How can we increase the quality and quantity of our base dataset?\n",
    "    - From more that 100k data points who are FM 20, we are reduced to only 2985.\n",
    "        - This is due to a lack of data in transfermarkt\n",
    "        - If we can find a strong correlation with some feature with an increase in value (e.g. if a player in 2020 has higher attributes than in 2017, then it has a higher value), can we extrapolate an increase in value without using exact data from Transfermarkt?\n",
    "        - So for instance we can use this to find a correlation in a sample of matching data between FM17, FM20 and Transfermarkt and then extrapolate.\n",
    "    - Can I better match the players in FM and Transfermarkt?\n",
    "        - Use the club which the players were? Can I use somehow a fuzzy match (as clubs have different denominations in different dataframes)?\n",
    "        - Use not only the transfermarkt country of citizenship but also country of birth somehow can improve matches where a player appears with his country of birth in FM?\n",
    "        - Use the same fuzzy matching I use with the missing players, but with all of them? \n",
    "        \n",
    "- How can we properly add weights to more relevant increases/decreases in value?\n",
    "    - It is way more important for the model to be able to correctly predict big changes in value than small ones.\n",
    "    - Does it make sense dividing in 3 groups (big decrease, small change - positive or negative, big increase)\n",
    "    - How to incorporate big variations in price? E.g. players who even though the change is small - e.g. from 200k to 2M -, it varies a lot (positively or negatively)\n",
    "\n",
    "- How can we extract more relevant features?\n",
    "    - E.g. players tend to devalue if there are only 1 year left in their contract.\n",
    "\n",
    "- Is the current value of a player a proper evaluator of the \"real value\" of a player?\n",
    "    - Maybe the instantaneous value of a player in a given time is not really what we're looking for as a success measure.\n",
    "    - Looking in the eyes of an investor, why wouldn't I want to invest in a young player who devalued due to some unforeseen circumstances (a failed transfer, an injury, a coach who doesn't like him), even though my attributes actually increased and I am a better player?\n",
    "\n",
    "- How to better improve documentation?\n",
    "    - I feel most of the questions and answered while I made this work were lost due to lack of documentation (which was made post work instead of during it). I would love to know how to properly document those questions, how I found the answers to them, why I decided on certain values, etc...\n",
    "\n",
    "### Additional work\n",
    "- Create an api in which we can feed player attributes, and then tell the ML algorithm whether the player increased or not in value in the past 3 years\n",
    "- Create a simple front-end for this\n",
    "- Make the system work online (the model improves itself with the new information being given)"
   ]
  }
 ],
 "metadata": {
  "kernelspec": {
   "display_name": "Python 3.9.12 ('base')",
   "language": "python",
   "name": "python3"
  },
  "language_info": {
   "codemirror_mode": {
    "name": "ipython",
    "version": 3
   },
   "file_extension": ".py",
   "mimetype": "text/x-python",
   "name": "python",
   "nbconvert_exporter": "python",
   "pygments_lexer": "ipython3",
   "version": "3.9.12"
  },
  "orig_nbformat": 4,
  "vscode": {
   "interpreter": {
    "hash": "abecc9efee1d216150679339f7cb39e17f2b3783b014e8db6aa18b4f299df678"
   }
  }
 },
 "nbformat": 4,
 "nbformat_minor": 2
}
