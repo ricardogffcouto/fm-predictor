{
 "cells": [
  {
   "cell_type": "code",
   "execution_count": 1,
   "metadata": {},
   "outputs": [],
   "source": [
    "# Imports & Setup\n",
    "\n",
    "from libs import *\n",
    "\n",
    "base_players_dataset = pd.read_csv(PROJECT_FOLDER + 'files/base_players_dataset.csv')"
   ]
  },
  {
   "cell_type": "code",
   "execution_count": 2,
   "metadata": {},
   "outputs": [
    {
     "data": {
      "text/plain": [
       "<AxesSubplot:>"
      ]
     },
     "execution_count": 2,
     "metadata": {},
     "output_type": "execute_result"
    },
    {
     "data": {
      "image/png": "[encoded data removed]",
      "text/plain": [
       "<Figure size 1500x800 with 1 Axes>"
      ]
     },
     "metadata": {},
     "output_type": "display_data"
    }
   ],
   "source": [
    "# Prepare df for stratify\n",
    "\n",
    "value_bins = [-np.inf, 0, np.inf]\n",
    "\n",
    "base_players_dataset['value_cat'] = pd.cut(base_players_dataset[\"value_diff\"], bins=value_bins, labels=range(len(value_bins)-1))\n",
    "\n",
    "base_players_dataset['value_cat'].hist()"
   ]
  },
  {
   "cell_type": "code",
   "execution_count": 3,
   "metadata": {},
   "outputs": [],
   "source": [
    "# Create test set\n",
    "\n",
    "from sklearn.model_selection import train_test_split\n",
    "\n",
    "players_for_analysis = base_players_dataset[:]\n",
    "\n",
    "players_for_analysis.dropna(subset=['value_cat'], inplace=True)\n",
    "\n",
    "x_train, x_test, y_train, y_test = train_test_split(players_for_analysis, players_for_analysis['value_cat'], test_size=0.2, random_state=42, stratify=players_for_analysis['value_cat'])"
   ]
  },
  {
   "cell_type": "code",
   "execution_count": 4,
   "metadata": {},
   "outputs": [],
   "source": [
    "# Revert to clean training set\n",
    "\n",
    "players_v1 = x_train.drop('value_cat', axis=1)\n",
    "players_labels_v1 = x_train['value_cat'].copy()"
   ]
  },
  {
   "cell_type": "code",
   "execution_count": 94,
   "metadata": {},
   "outputs": [],
   "source": [
    "# Custom Nation transformer\n",
    "\n",
    "from sklearn.base import BaseEstimator, TransformerMixin\n",
    "\n",
    "class NationToRank(BaseEstimator, TransformerMixin):\n",
    "    def __init__(self):\n",
    "        pass\n",
    "    \n",
    "    def fit(self, X, y=None):\n",
    "        return self\n",
    "    \n",
    "    def transform(self, X):\n",
    "        nation_encoder = base_players_dataset.groupby('Nation').sum().rank(ascending=True, method='first')\n",
    "        max_rank = nation_encoder['value_diff'].max()\n",
    "        temp = nation_encoder.copy()\n",
    "        temp.sort_values('value_diff', ascending=False, inplace=True)\n",
    "        temp['Nation'] = temp.index\n",
    "        temp.reset_index(drop=True, inplace=True)\n",
    "        temp['Nation_rank'] = 1 - (temp.index / temp.shape[0])\n",
    "        X['Nation_rank'] = X['Nation'].map(temp.set_index('Nation')['Nation_rank'])\n",
    "        X.drop('Nation', axis=1, inplace=True)\n",
    "        \n",
    "        # fifa_wr = pd.read_csv(PROJECT_FOLDER + \"datasets/fifa_ranking-2021-05-27.csv\")\n",
    "        # nation_encoder = fifa_wr.query('rank_date == \"2020-10-22\"')[['rank', 'country_abrv']]\n",
    "        # max_rank = nation_encoder['rank'].max() + 1\n",
    "        # X['Nation_rank'] = 1 - (X['Nation'].map(nation_encoder.set_index('country_abrv')['rank']).fillna(max_rank) / max_rank)\n",
    "        # X.drop('Nation', axis=1, inplace=True)\n",
    "        return X"
   ]
  },
  {
   "cell_type": "code",
   "execution_count": 135,
   "metadata": {},
   "outputs": [],
   "source": [
    "# Custom Attributes transformer\n",
    "\n",
    "from sklearn.base import BaseEstimator, TransformerMixin\n",
    "from sklearn.preprocessing import StandardScaler\n",
    "from utils import apply_mean_attribute_list, PLAYER_ATTR\n",
    "\n",
    "class AttributeMerger(BaseEstimator, TransformerMixin):\n",
    "    def __init__(self):\n",
    "        pass\n",
    "    \n",
    "    def fit(self, X, y=None):\n",
    "        return self\n",
    "    \n",
    "    def transform(self, X):\n",
    "        physical_attr = ['Acc', 'Pac', 'Sta', 'Str', 'Agi', 'Bal', 'Jum', 'Nat']\n",
    "        mental_attr = ['Wor', 'Vis', 'Tea', 'Pos', 'OtB', 'Ldr', 'Fla', 'Det', 'Dec', 'Cnt', 'Cmp', 'Bra', 'Ant', 'Agg']\n",
    "        apply_mean_attribute_list(X, 'M+P', physical_attr + mental_attr)\n",
    "        X['M+P'] = X['M+P'] / 20\n",
    "        X.drop(PLAYER_ATTR, axis=1, inplace=True)\n",
    "        return X\n"
   ]
  },
  {
   "cell_type": "code",
   "execution_count": 136,
   "metadata": {},
   "outputs": [],
   "source": [
    "# Custom Based transformer\n",
    "\n",
    "from sklearn.base import BaseEstimator, TransformerMixin\n",
    "\n",
    "class BasedToRank(BaseEstimator, TransformerMixin):\n",
    "    def __init__(self):\n",
    "        pass\n",
    "    \n",
    "    def fit(self, X, y=None):\n",
    "        return self\n",
    "    \n",
    "    def transform(self, X):\n",
    "        based_encoder = pd.read_csv(PROJECT_FOLDER + 'files/based_rank.csv')\n",
    "        X['Based_rank'] = X['Based'].map(based_encoder.set_index('Based')['Based_rank'])\n",
    "        X.drop('Based', axis=1, inplace=True)\n",
    "        return X"
   ]
  },
  {
   "cell_type": "code",
   "execution_count": 137,
   "metadata": {},
   "outputs": [],
   "source": [
    "# Custom Foot transformer\n",
    "\n",
    "from sklearn.base import BaseEstimator, TransformerMixin\n",
    "\n",
    "class FootToRank(BaseEstimator, TransformerMixin):\n",
    "    def __init__(self):\n",
    "        pass\n",
    "    \n",
    "    def fit(self, X, y=None):\n",
    "        return self\n",
    "    \n",
    "    def transform(self, X):\n",
    "        X['Foot_rank'] = X['Preferred Foot'].map(FOOTEDNESS_MAPPING)\n",
    "        X.drop('Preferred Foot', axis=1, inplace=True)\n",
    "        return X"
   ]
  },
  {
   "cell_type": "code",
   "execution_count": 138,
   "metadata": {},
   "outputs": [],
   "source": [
    "# Using transformation pipelines\n",
    "\n",
    "from sklearn.compose import ColumnTransformer\n",
    "from sklearn.preprocessing import StandardScaler, OneHotEncoder\n",
    "from utils import PLAYER_ATTR\n",
    "\n",
    "players = x_train.drop('Value', axis=1)\n",
    "\n",
    "features_v1 = {\n",
    "    'att': (PLAYER_ATTR, ['M+P']),\n",
    "    'num': (PLAYER_ATTR + ['Age'], None),\n",
    "    # 'foo': (['Preferred Foot'], None),\n",
    "    'pos': (['Best Pos'], None),\n",
    "    #'nat': (['Nation'], None),\n",
    "    'bas': (['Based'], None)\n",
    "}\n",
    "\n",
    "feature_labels_v1 = list(np.concatenate([f[1] if f[1] is not None else f[0] for k, f in features_v1.items()]).flat)\n",
    "\n",
    "full_pipeline_v1 = ColumnTransformer([\n",
    "    (\"att\", AttributeMerger(), features_v1['att'][0]),\n",
    "    (\"num\", StandardScaler(), features_v1['num'][0]),\n",
    "    # (\"foo\", FootToRank(), features_v1['foo'][0]),\n",
    "    (\"pos\", OneHotEncoder(), features_v1['pos'][0]),\n",
    "    #(\"nat\", NationToRank(), features_v1['nat'][0]),\n",
    "    (\"bas\", BasedToRank(), features_v1['bas'][0])\n",
    "])\n",
    "\n",
    "players_prepared_v1 = full_pipeline_v1.fit_transform(players)"
   ]
  },
  {
   "cell_type": "code",
   "execution_count": 139,
   "metadata": {},
   "outputs": [],
   "source": [
    "# Hyperparameter tuning\n",
    "\n",
    "import joblib\n",
    "from sklearn.model_selection import RandomizedSearchCV\n",
    "from sklearn.ensemble import RandomForestClassifier\n",
    "\n",
    "tune_hyperparameters = False\n",
    "\n",
    "if not tune_hyperparameters:\n",
    "    value_predictor_v1 = joblib.load(PROJECT_FOLDER + 'models/rf_value_predictor.pkl')\n",
    "else:\n",
    "    total_value_without_model = x_train['value_diff'].sum()\n",
    "\n",
    "    def predictor_performance(estimator, X, y):\n",
    "        y_pred = estimator.predict(X)\n",
    "        values = x_train[['value_diff']]\n",
    "        values['y_true'] = y\n",
    "        values.dropna(inplace=True)\n",
    "        values['pred'] = y_pred\n",
    "\n",
    "        total_value_without_model = values['value_diff'].sum()\n",
    "        total_value_with_model = values.query('pred == 1')['value_diff'].sum()\n",
    "\n",
    "        score = total_value_with_model / total_value_without_model\n",
    "        return score\n",
    "\n",
    "    rf_param_grid = {\n",
    "        'n_estimators': [int(x) for x in np.linspace(start = 100, stop = 500, num = 20)],\n",
    "        'max_depth': [int(x) for x in np.linspace(10, 100, num = 5)] + [None],\n",
    "        'bootstrap': [True, False],\n",
    "    }\n",
    "\n",
    "    value_predictor_v1 = RandomForestClassifier()\n",
    "    value_predictor_v1_grid_search = RandomizedSearchCV(value_predictor_v1, rf_param_grid, cv=10, scoring='accuracy', return_train_score=True, n_iter=10, error_score=\"raise\")\n",
    "\n",
    "    value_predictor_v1_grid_search.fit(players_prepared_v1, players_labels_v1)\n",
    "\n",
    "    value_predictor_v1 = value_predictor_v1_grid_search.best_estimator_\n",
    "\n",
    "    joblib.dump(value_predictor_v1, 'models/rf_value_predictor.pkl')\n"
   ]
  },
  {
   "cell_type": "code",
   "execution_count": 140,
   "metadata": {},
   "outputs": [
    {
     "data": {
      "text/html": [
       "<style>#sk-container-id-6 {color: black;background-color: white;}#sk-container-id-6 pre{padding: 0;}#sk-container-id-6 div.sk-toggleable {background-color: white;}#sk-container-id-6 label.sk-toggleable__label {cursor: pointer;display: block;width: 100%;margin-bottom: 0;padding: 0.3em;box-sizing: border-box;text-align: center;}#sk-container-id-6 label.sk-toggleable__label-arrow:before {content: \"▸\";float: left;margin-right: 0.25em;color: #696969;}#sk-container-id-6 label.sk-toggleable__label-arrow:hover:before {color: black;}#sk-container-id-6 div.sk-estimator:hover label.sk-toggleable__label-arrow:before {color: black;}#sk-container-id-6 div.sk-toggleable__content {max-height: 0;max-width: 0;overflow: hidden;text-align: left;background-color: #f0f8ff;}#sk-container-id-6 div.sk-toggleable__content pre {margin: 0.2em;color: black;border-radius: 0.25em;background-color: #f0f8ff;}#sk-container-id-6 input.sk-toggleable__control:checked~div.sk-toggleable__content {max-height: 200px;max-width: 100%;overflow: auto;}#sk-container-id-6 input.sk-toggleable__control:checked~label.sk-toggleable__label-arrow:before {content: \"▾\";}#sk-container-id-6 div.sk-estimator input.sk-toggleable__control:checked~label.sk-toggleable__label {background-color: #d4ebff;}#sk-container-id-6 div.sk-label input.sk-toggleable__control:checked~label.sk-toggleable__label {background-color: #d4ebff;}#sk-container-id-6 input.sk-hidden--visually {border: 0;clip: rect(1px 1px 1px 1px);clip: rect(1px, 1px, 1px, 1px);height: 1px;margin: -1px;overflow: hidden;padding: 0;position: absolute;width: 1px;}#sk-container-id-6 div.sk-estimator {font-family: monospace;background-color: #f0f8ff;border: 1px dotted black;border-radius: 0.25em;box-sizing: border-box;margin-bottom: 0.5em;}#sk-container-id-6 div.sk-estimator:hover {background-color: #d4ebff;}#sk-container-id-6 div.sk-parallel-item::after {content: \"\";width: 100%;border-bottom: 1px solid gray;flex-grow: 1;}#sk-container-id-6 div.sk-label:hover label.sk-toggleable__label {background-color: #d4ebff;}#sk-container-id-6 div.sk-serial::before {content: \"\";position: absolute;border-left: 1px solid gray;box-sizing: border-box;top: 0;bottom: 0;left: 50%;z-index: 0;}#sk-container-id-6 div.sk-serial {display: flex;flex-direction: column;align-items: center;background-color: white;padding-right: 0.2em;padding-left: 0.2em;position: relative;}#sk-container-id-6 div.sk-item {position: relative;z-index: 1;}#sk-container-id-6 div.sk-parallel {display: flex;align-items: stretch;justify-content: center;background-color: white;position: relative;}#sk-container-id-6 div.sk-item::before, #sk-container-id-6 div.sk-parallel-item::before {content: \"\";position: absolute;border-left: 1px solid gray;box-sizing: border-box;top: 0;bottom: 0;left: 50%;z-index: -1;}#sk-container-id-6 div.sk-parallel-item {display: flex;flex-direction: column;z-index: 1;position: relative;background-color: white;}#sk-container-id-6 div.sk-parallel-item:first-child::after {align-self: flex-end;width: 50%;}#sk-container-id-6 div.sk-parallel-item:last-child::after {align-self: flex-start;width: 50%;}#sk-container-id-6 div.sk-parallel-item:only-child::after {width: 0;}#sk-container-id-6 div.sk-dashed-wrapped {border: 1px dashed gray;margin: 0 0.4em 0.5em 0.4em;box-sizing: border-box;padding-bottom: 0.4em;background-color: white;}#sk-container-id-6 div.sk-label label {font-family: monospace;font-weight: bold;display: inline-block;line-height: 1.2em;}#sk-container-id-6 div.sk-label-container {text-align: center;}#sk-container-id-6 div.sk-container {/* jupyter's `normalize.less` sets `[hidden] { display: none; }` but bootstrap.min.css set `[hidden] { display: none !important; }` so we also need the `!important` here to be able to override the default hidden behavior on the sphinx rendered scikit-learn.org. See: https://github.com/scikit-learn/scikit-learn/issues/21755 */display: inline-block !important;position: relative;}#sk-container-id-6 div.sk-text-repr-fallback {display: none;}</style><div id=\"sk-container-id-6\" class=\"sk-top-container\"><div class=\"sk-text-repr-fallback\"><pre>RandomForestClassifier(bootstrap=False, max_depth=10, n_estimators=415)</pre><b>In a Jupyter environment, please rerun this cell to show the HTML representation or trust the notebook. <br />On GitHub, the HTML representation is unable to render, please try loading this page with nbviewer.org.</b></div><div class=\"sk-container\" hidden><div class=\"sk-item\"><div class=\"sk-estimator sk-toggleable\"><input class=\"sk-toggleable__control sk-hidden--visually\" id=\"sk-estimator-id-6\" type=\"checkbox\" checked><label for=\"sk-estimator-id-6\" class=\"sk-toggleable__label sk-toggleable__label-arrow\">RandomForestClassifier</label><div class=\"sk-toggleable__content\"><pre>RandomForestClassifier(bootstrap=False, max_depth=10, n_estimators=415)</pre></div></div></div></div></div>"
      ],
      "text/plain": [
       "RandomForestClassifier(bootstrap=False, max_depth=10, n_estimators=415)"
      ]
     },
     "execution_count": 140,
     "metadata": {},
     "output_type": "execute_result"
    }
   ],
   "source": [
    "# Select and train model\n",
    "## RandomForestClassifier\n",
    "\n",
    "value_predictor_v1.fit(players_prepared_v1, players_labels_v1)"
   ]
  },
  {
   "cell_type": "code",
   "execution_count": 141,
   "metadata": {},
   "outputs": [
    {
     "data": {
      "text/plain": [
       "['models/rf_value_predictor.pkl']"
      ]
     },
     "execution_count": 141,
     "metadata": {},
     "output_type": "execute_result"
    }
   ],
   "source": [
    "import joblib\n",
    "\n",
    "joblib.dump(value_predictor_v1, 'models/rf_value_predictor.pkl')"
   ]
  },
  {
   "cell_type": "code",
   "execution_count": 142,
   "metadata": {},
   "outputs": [
    {
     "name": "stdout",
     "output_type": "stream",
     "text": [
      "Perf: 2.3180045541184047\n",
      "Max Perf: 2.35818234107604\n",
      "Thres: 0.49\n"
     ]
    }
   ],
   "source": [
    "# Test best threshold\n",
    "\n",
    "value_predictions_proba_v1 = value_predictor_v1.predict_proba(players_prepared_v1)\n",
    "\n",
    "total_value_without_model = x_train['value_diff'].sum()\n",
    "max_value_without_model = x_train.query('value_diff > 0')['value_diff'].sum()\n",
    "max_performance = (max_value_without_model - total_value_without_model) / total_value_without_model\n",
    "\n",
    "train_players = x_train[:]\n",
    "train_players['prob_1'] = value_predictions_proba_v1[:, 1]\n",
    "\n",
    "model_performance_max = 0\n",
    "ideal_threshold = 0\n",
    "total_value_with_model_max = 0\n",
    "\n",
    "for i in range(100):\n",
    "    threshold = i / 100\n",
    "    train_players['pred'] = value_predictions_proba_v1[:, 1] > threshold\n",
    "    total_value_with_model = train_players.query('pred == 1')['value_diff'].sum()\n",
    "    model_performance = (total_value_with_model - total_value_without_model) / total_value_without_model\n",
    "    if model_performance > model_performance_max:\n",
    "        model_performance_max = model_performance\n",
    "        ideal_threshold = threshold\n",
    "        total_value_with_model_max = total_value_with_model\n",
    "\n",
    "print(\"Perf:\", model_performance_max)\n",
    "print(\"Max Perf:\", max_performance)\n",
    "print(\"Thres:\", ideal_threshold)\n"
   ]
  },
  {
   "cell_type": "code",
   "execution_count": 143,
   "metadata": {},
   "outputs": [
    {
     "data": {
      "text/plain": [
       "<AxesSubplot:>"
      ]
     },
     "execution_count": 143,
     "metadata": {},
     "output_type": "execute_result"
    },
    {
     "data": {
      "image/png": "[encoded data removed]",
      "text/plain": [
       "<Figure size 1500x800 with 2 Axes>"
      ]
     },
     "metadata": {},
     "output_type": "display_data"
    }
   ],
   "source": [
    "import seaborn as sns\n",
    "from sklearn.metrics import confusion_matrix\n",
    "\n",
    "conf_mx = confusion_matrix(players_labels_v1, value_predictions_proba_v1[:, 1] > ideal_threshold)\n",
    "conf_mx = conf_mx.astype('float') / conf_mx.sum(axis=1)[:, np.newaxis]\n",
    "sns.heatmap(conf_mx, annot=True, fmt='.2f')"
   ]
  },
  {
   "cell_type": "code",
   "execution_count": 144,
   "metadata": {},
   "outputs": [],
   "source": [
    "from utils import same_sort\n",
    "\n",
    "#feature_importances_v1, feature_labels_v1 = same_sort(value_predictor_v1.feature_importances_, feature_labels_v1, reverse=True)\n",
    "\n",
    "#plt.bar(feature_labels_v1, value_predictor_v1.feature_importances_)"
   ]
  },
  {
   "cell_type": "code",
   "execution_count": 145,
   "metadata": {},
   "outputs": [],
   "source": [
    "# Prepare test values for analysis\n",
    "\n",
    "test_players_prepared = full_pipeline_v1.fit_transform(x_test)\n",
    "test_players_labels = y_test"
   ]
  },
  {
   "cell_type": "code",
   "execution_count": 146,
   "metadata": {},
   "outputs": [
    {
     "data": {
      "text/plain": [
       "<AxesSubplot:>"
      ]
     },
     "execution_count": 146,
     "metadata": {},
     "output_type": "execute_result"
    },
    {
     "data": {
      "image/png": "[encoded data removed]",
      "text/plain": [
       "<Figure size 1500x800 with 2 Axes>"
      ]
     },
     "metadata": {},
     "output_type": "display_data"
    }
   ],
   "source": [
    "# Test values confusion matrix\n",
    "\n",
    "test_value_predictions_proba_v1 = value_predictor_v1.predict_proba(test_players_prepared)\n",
    "\n",
    "conf_mx = confusion_matrix(test_players_labels, test_value_predictions_proba_v1[:, 1] > ideal_threshold)\n",
    "conf_mx = conf_mx.astype('float') / conf_mx.sum(axis=1)[:, np.newaxis]\n",
    "sns.heatmap(conf_mx, annot=True, fmt='.2f')"
   ]
  },
  {
   "cell_type": "code",
   "execution_count": 147,
   "metadata": {},
   "outputs": [
    {
     "name": "stdout",
     "output_type": "stream",
     "text": [
      "Perf: 2.4022275133857063\n",
      "Max Perf: 4.091133891666384\n",
      "Value diff from max: 506019999.0\n"
     ]
    }
   ],
   "source": [
    "# Try with test model\n",
    "\n",
    "test_value_predictions_proba_v1 = value_predictor_v1.predict_proba(test_players_prepared)\n",
    "\n",
    "test_players_v1 = x_test[['Name', 'Age', 'Position', 'Club', 'PA', 'value_diff']]\n",
    "test_players_v1['pred'] = test_value_predictions_proba_v1[:, 1] > ideal_threshold\n",
    "\n",
    "test_total_value_without_model = test_players_v1['value_diff'].sum()\n",
    "test_total_value_with_model = test_players_v1.query('pred == 1')['value_diff'].sum()\n",
    "test_max_value_without_model = test_players_v1.query('value_diff > 0')['value_diff'].sum()\n",
    "\n",
    "test_performance = (test_total_value_with_model - test_total_value_without_model) / test_total_value_without_model\n",
    "max_test_performance = (test_max_value_without_model - test_total_value_without_model) / test_total_value_without_model\n",
    "\n",
    "print(\"Perf:\", test_performance)\n",
    "print(\"Max Perf:\", max_test_performance)\n",
    "print(\"Value diff from max:\", test_max_value_without_model - test_total_value_with_model)"
   ]
  },
  {
   "cell_type": "code",
   "execution_count": 149,
   "metadata": {},
   "outputs": [
    {
     "name": "stderr",
     "output_type": "stream",
     "text": [
      "Done! Use 'show' commands to display/save.   |██████████| [100%]   00:04 -> (00:00 left)\n"
     ]
    },
    {
     "name": "stdout",
     "output_type": "stream",
     "text": [
      "Report SWEETVIZ_REPORT.html was generated! NOTEBOOK/COLAB USERS: the web browser MAY not pop up, regardless, the report IS saved in your notebook/colab files.\n"
     ]
    },
    {
     "name": "stderr",
     "output_type": "stream",
     "text": [
      "Done! Use 'show' commands to display/save.   |██████████| [100%]   00:04 -> (00:00 left)"
     ]
    },
    {
     "name": "stdout",
     "output_type": "stream",
     "text": [
      "Report SWEETVIZ_REPORT.html was generated! NOTEBOOK/COLAB USERS: the web browser MAY not pop up, regardless, the report IS saved in your notebook/colab files.\n"
     ]
    },
    {
     "name": "stderr",
     "output_type": "stream",
     "text": [
      "\n"
     ]
    }
   ],
   "source": [
    "import sweetviz as sv\n",
    "report = sv.analyze(base_players_dataset)\n",
    "report.show_html()\n",
    "\n",
    "test_players_errors = x_test.copy()\n",
    "test_players_errors['pred'] = test_value_predictions_proba_v1[:, 1] > ideal_threshold\n",
    "test_players_errors['real'] = test_players_errors['value_diff'] > 0\n",
    "test_players_false_pos = test_players_errors.query('pred == 1 & real == 0')\n",
    "test_players_false_neg = test_players_errors.query('pred == 0 & real == 1')\n",
    "\n",
    "# report = sv.analyze(test_players_false_pos)\n",
    "# report.show_html()\n",
    "\n",
    "report = sv.analyze(test_players_false_neg)\n",
    "report.show_html()"
   ]
  }
 ],
 "metadata": {
  "kernelspec": {
   "display_name": "Python 3.10.4 ('predict_value_change_from_fm_data-PiR6Skg_')",
   "language": "python",
   "name": "python3"
  },
  "language_info": {
   "codemirror_mode": {
    "name": "ipython",
    "version": 3
   },
   "file_extension": ".py",
   "mimetype": "text/x-python",
   "name": "python",
   "nbconvert_exporter": "python",
   "pygments_lexer": "ipython3",
   "version": "3.10.4"
  },
  "orig_nbformat": 4,
  "vscode": {
   "interpreter": {
    "hash": "ac233701de9f190529bd83c89bd46f761d315f19d370eb2b21951ef14e06a61f"
   }
  }
 },
 "nbformat": 4,
 "nbformat_minor": 2
}
