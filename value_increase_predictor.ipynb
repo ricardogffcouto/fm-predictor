{
 "cells": [
  {
   "cell_type": "markdown",
   "metadata": {},
   "source": [
    "# Predict if a football player will increase in valuation using Football Manager data\n",
    "\n",
    "The goal of this project is to be able to predict football players who will have an increase in their value in the future, using Football Manager (FM) data.\n",
    "\n",
    "FM is a cheap and easily accessible database of football players. By being able to predict which players would have an increase in their value using only this database would help football clubs decide better in which players to invest.\n",
    "\n",
    "There is not a lot of literature available for studies using FM data in this situation. However the following one was found:\n",
    "- [Predicting the Potential Ability of Football Players in the Football Manager Game](williamvanwijk.nl/wp-content/uploads/2022/07/Thesis_FM_Predict_potential_ability.pdf)\n",
    "    - This study concludes that it is possible to predict an increase in real-life value using publicly available FM data. However, the focus of this study was to predict not the value but an increase in PA such as this value would be above a certain threshold (130) which is given to high-potential players."
   ]
  },
  {
   "cell_type": "markdown",
   "metadata": {},
   "source": [
    "## Overview of the project and data\n",
    "\n",
    "I used the following datasets for this project:\n",
    "\n",
    "- FM20 dataset: https://www.kaggle.com/datasets/ktyptorio/football-manager-2020\n",
    "    - This dataset will be used in order to evaluate whether the information we have in a given iteration of FM - not taking into account any history - is a good predictor of an increase in valuation.\n",
    "- Transfermarkt: https://www.kaggle.com/datasets/davidcariboo/player-scores \n",
    "    - This dataset provides the player valuations from Transfermarkt, a well-known aggregator for player valuations."
   ]
  },
  {
   "cell_type": "markdown",
   "metadata": {},
   "source": [
    "## Exploratory Data Analysis\n",
    "\n",
    "Here a very basic and superficial EDA was made.\n",
    "\n",
    "First I imported the libraries and the datasets (FM20, Transfermarkt Players and Transfermarkt valuations over time)."
   ]
  },
  {
   "cell_type": "code",
   "execution_count": 2,
   "metadata": {},
   "outputs": [],
   "source": [
    "from src.libs import *\n",
    "\n",
    "fm20_dataset = pd.read_csv(\"datasets/datafm20.csv\")\n",
    "transfermarkt_players_dataset = pd.read_csv(\"datasets/players.csv\")\n",
    "transfermarkt_valuations_dataset = pd.read_csv(\"datasets/player_valuations.csv\")"
   ]
  },
  {
   "cell_type": "markdown",
   "metadata": {},
   "source": [
    "Here I wanted to understand at what age do players have their peak, and when they devalue. As expected, this graph follows a normal distribution, with the peak being around 27/28 yo. There is a linear increase from 15-27, followed by a sharper decrease in value from 28-35 yo.\n",
    "\n",
    "Here I removed the Goalkeepers as they will not be the focus of our investigation (as they have very specific attributes)"
   ]
  },
  {
   "cell_type": "code",
   "execution_count": 3,
   "metadata": {},
   "outputs": [
    {
     "data": {
      "text/plain": [
       "<AxesSubplot:xlabel='Age'>"
      ]
     },
     "execution_count": 3,
     "metadata": {},
     "output_type": "execute_result"
    },
    {
     "data": {
      "image/png": "[encoded data removed]",
      "text/plain": [
       "<Figure size 800x400 with 1 Axes>"
      ]
     },
     "metadata": {},
     "output_type": "display_data"
    }
   ],
   "source": [
    "fm20_df_no_gk = fm20_dataset[:].query('`Best Pos` != \"GK\"')\n",
    "\n",
    "new_fm20_df = fm20_df_no_gk[:]\n",
    "new_fm20_df['POT'] = new_fm20_df['PA'] - new_fm20_df['CA']\n",
    "new_fm20_df.groupby('Age')['Value'].mean().plot(kind='bar')"
   ]
  },
  {
   "cell_type": "markdown",
   "metadata": {},
   "source": [
    "Here I want to add some attribute combinations as possible features, and also see if they correlate well with the player value."
   ]
  },
  {
   "cell_type": "code",
   "execution_count": 4,
   "metadata": {},
   "outputs": [],
   "source": [
    "new_fm20_df = fm20_df_no_gk[:][['Value', 'Age'] + PLAYER_ATTR]\n",
    "\n",
    "apply_mean_attribute_list(new_fm20_df, 'PHY', ['Acc', 'Pac', 'Sta', 'Str', 'Agi', 'Bal', 'Jum', 'Nat'])\n",
    "apply_mean_attribute_list(new_fm20_df, 'MEN', ['Wor', 'Vis', 'Tea', 'Pos', 'OtB', 'Ldr', 'Fla', 'Det', 'Dec', 'Cnt', 'Cmp', 'Bra', 'Ant', 'Agg'])\n",
    "apply_mean_attribute_list(new_fm20_df, 'M+P', ['MEN', 'PHY'])\n",
    "apply_mean_attribute_list(new_fm20_df, 'ATTR', PLAYER_ATTR)"
   ]
  },
  {
   "cell_type": "markdown",
   "metadata": {},
   "source": [
    "As we can see here, the attribute combinations correlate better with value than any individual attribute."
   ]
  },
  {
   "cell_type": "code",
   "execution_count": 5,
   "metadata": {},
   "outputs": [
    {
     "data": {
      "text/plain": [
       "Value    1.000000\n",
       "M+P      0.292927\n",
       "ATTR     0.277248\n",
       "MEN      0.268462\n",
       "PHY      0.266174\n",
       "Name: Value, dtype: float64"
      ]
     },
     "execution_count": 5,
     "metadata": {},
     "output_type": "execute_result"
    }
   ],
   "source": [
    "new_fm20_df.corr()['Value'].sort_values(ascending=False).head(5)"
   ]
  },
  {
   "cell_type": "markdown",
   "metadata": {},
   "source": [
    "As we can see here, age has a small positive correlation with the value, which was expected given that the peak of a player's valuation is more or less in the middle of his career."
   ]
  },
  {
   "cell_type": "code",
   "execution_count": 6,
   "metadata": {},
   "outputs": [
    {
     "data": {
      "text/plain": [
       "Age    0.038035\n",
       "Mar    0.067548\n",
       "Ldr    0.067727\n",
       "Agg    0.074689\n",
       "Nat    0.079667\n",
       "Name: Value, dtype: float64"
      ]
     },
     "execution_count": 6,
     "metadata": {},
     "output_type": "execute_result"
    }
   ],
   "source": [
    "new_fm20_df.corr()['Value'].sort_values(ascending=True).head(5)"
   ]
  },
  {
   "cell_type": "markdown",
   "metadata": {},
   "source": [
    "Here I want to analyse the FIFA World Rankings dataframe. I will use this data to transform each country of birth into a value (and see if there is any relevance to that data)"
   ]
  },
  {
   "cell_type": "code",
   "execution_count": 7,
   "metadata": {},
   "outputs": [
    {
     "data": {
      "text/plain": [
       "60744    2020-02-20\n",
       "60954    2020-04-09\n",
       "61164    2020-06-11\n",
       "61374    2020-07-16\n",
       "61584    2020-09-17\n",
       "61794    2020-10-22\n",
       "62004    2020-11-26\n",
       "62214    2020-12-10\n",
       "Name: rank_date, dtype: object"
      ]
     },
     "execution_count": 7,
     "metadata": {},
     "output_type": "execute_result"
    }
   ],
   "source": [
    "fifa_wr = pd.read_csv(\"datasets/fifa_ranking-2021-05-27.csv\")\n",
    "fifa_wr.columns\n",
    "fifa_wr['rank_date'].drop_duplicates()[fifa_wr['rank_date'].drop_duplicates().str.startswith('2020')].sort_values()"
   ]
  },
  {
   "cell_type": "markdown",
   "metadata": {},
   "source": [
    "My EDA was not finished here, however most of the code was unfortunately either removed or not documented.\n",
    "\n",
    "Some additional work that should have been done within the EDA:\n",
    "- Check null values\n",
    "- Check outliers (3 std dev.) z-score > 3 or z-score < -3 ignore\n",
    "- Prove within notebook that it is clean\n",
    "- pd.describe()\n",
    "- Use seaborn for heatmap of correlations"
   ]
  },
  {
   "cell_type": "markdown",
   "metadata": {},
   "source": [
    "## Data preparation\n",
    "\n",
    "I wanted to prepare the main dataset for usage in creating the model. This dataset will contain the matching players from FM20 and Transfermarkt, including their valuations and change in valuation from 2020 to 2022.\n",
    "\n",
    "For that, I prepared both datasets to be merged. \n",
    "\n",
    "I selected only players with less than 27 y.o. This decision was made so we can focus only on players with a high probability of increasing in value (we assume as players get older than this, the probability of a value increase is much smaller)."
   ]
  },
  {
   "cell_type": "code",
   "execution_count": 8,
   "metadata": {},
   "outputs": [],
   "source": [
    "transfermarkt_base_players_df = transfermarkt_players_dataset[:]\n",
    "transfermarkt_base_players_df.query(\"last_season >= 2021 & date_of_birth >= '1992-01-01' & position != 'Goalkeeper'\", inplace=True)\n",
    "transfermarkt_base_players_df.dropna(subset='market_value_in_gbp')\n",
    "\n",
    "fm20_base_players_df = fm20_dataset.query(\"Age <= 27 & `Best Pos` != 'GK'\")"
   ]
  },
  {
   "cell_type": "markdown",
   "metadata": {},
   "source": [
    "To merge both dataframes we need to figure out what will be the criteria for players to \"match\". We decided to use:\n",
    "- Player name and nation should always match\n",
    "- If the name and nation matches for more than one player, the player value will be the tiebreaker (so the highest valued match in one dataset will match in the other dataset) "
   ]
  },
  {
   "cell_type": "markdown",
   "metadata": {},
   "source": [
    "So first I ordered both datasets by value. Some players in the transfermarkt dataset didn't have value so I dropped those."
   ]
  },
  {
   "cell_type": "code",
   "execution_count": 9,
   "metadata": {},
   "outputs": [],
   "source": [
    "transfermarkt_base_players_df.dropna(subset='market_value_in_gbp')\n",
    "transfermarkt_base_players_df.sort_values(by='market_value_in_gbp', ascending=False, inplace=True)\n",
    "\n",
    "fm20_base_players_df.sort_values(by='Value', ascending=False, inplace=True)"
   ]
  },
  {
   "cell_type": "markdown",
   "metadata": {},
   "source": [
    "First I made a script which matched the name in FM with the name which appears as unique in Transfermarkt. This will be used to match players in FM and Transfermarkt."
   ]
  },
  {
   "cell_type": "code",
   "execution_count": 10,
   "metadata": {},
   "outputs": [],
   "source": [
    "fm20_base_players_df['Transfermarkt_Name'] = fm20_base_players_df['Name'].apply(name_char_replacer).apply(name_to_id)"
   ]
  },
  {
   "cell_type": "markdown",
   "metadata": {},
   "source": [
    "Then, I mapped the country of citizenship in Transfermarkt to the country codes in FM20. This was made by first capturing the 5 most valuable players of each nation, find what is the matching *country_of_citizenship* in Transfermarkt, and then match that to the FM20 *Nation* of those players."
   ]
  },
  {
   "cell_type": "code",
   "execution_count": 11,
   "metadata": {},
   "outputs": [],
   "source": [
    "fm20_name_nation_mapping = fm20_base_players_df.groupby('Nation').head(5)[['Transfermarkt_Name', 'Nation']]\n",
    "\n",
    "transfermarkt_name_nation_mapping = transfermarkt_players_dataset[['name', 'country_of_citizenship']]\n",
    "\n",
    "player_nationalities_mapping = fm20_name_nation_mapping.merge(transfermarkt_name_nation_mapping, left_on='Transfermarkt_Name', right_on='name')\n",
    "player_nationalities_mapping.drop_duplicates(subset='Nation', inplace=True)\n",
    "\n",
    "fm20_base_players_df = fm20_base_players_df.merge(player_nationalities_mapping[['Nation', 'country_of_citizenship']], on='Nation')"
   ]
  },
  {
   "cell_type": "markdown",
   "metadata": {},
   "source": [
    "Here I make my first attempt in merging both datasets, using only the name and country of citizenship. I create our **merged dataframe** called *transfermarkt_fm20_merged_df*."
   ]
  },
  {
   "cell_type": "code",
   "execution_count": 12,
   "metadata": {},
   "outputs": [],
   "source": [
    "transfermarkt_fm20_merged_df = fm20_base_players_df.merge(transfermarkt_base_players_df, left_on=['Transfermarkt_Name', 'country_of_citizenship'], right_on=['name', 'country_of_citizenship'])\n",
    "\n",
    "transfermarkt_fm20_merged_df.drop_duplicates(subset=['Transfermarkt_Name', 'country_of_citizenship'], inplace=True)"
   ]
  },
  {
   "cell_type": "markdown",
   "metadata": {},
   "source": [
    "Here I try to get more results than those I get previously.\n",
    "- I get all the merged players who are missing from *base_players_df*.\n",
    "- I sort them by market_value and then figure out their age in 2020 based on the *date_of_birth* (the data I have in Transfermarkt)\n",
    "    - I can't know an accurate DOB as I only have the age of the player in the FM20 dataframe, and I don't know exactly when the age was \"measured\"\n",
    "- Finally, I apply a function which is sort of a fuzzy search taking into account that the name, country, age and market value are within a certain range\n",
    "    - The name is fuzzy searched with difflib.get_close_matches\n",
    "    - The value in FM should be greater than or equal to 1/5 of the Transfermarkt value.\n",
    "    - The age on FM should be equal to the Transfermarkt age or equal to the Transfermarkt age - 1 (due to not knowing exactly if a player already had their birthday or not in FM, the approximate_age_2020 function rounded upwards)\n",
    "\n",
    "TODO: I would love some tips on performance on this fuzzy search"
   ]
  },
  {
   "cell_type": "code",
   "execution_count": 13,
   "metadata": {},
   "outputs": [
    {
     "name": "stdout",
     "output_type": "stream",
     "text": [
      "Newly matched players: 1268\n"
     ]
    }
   ],
   "source": [
    "missing = transfermarkt_base_players_df.merge(transfermarkt_fm20_merged_df, indicator='i', how='outer').query('i == \"left_only\"')[transfermarkt_base_players_df.columns]\n",
    "\n",
    "missing.sort_values(by='market_value_in_gbp', ascending=False, inplace=True)\n",
    "missing['Age_2020'] = missing['date_of_birth'].apply(approximate_age_2020)\n",
    "missing_fm = fm20_base_players_df[:]\n",
    "\n",
    "def find_match(player):\n",
    "    global missing_fm\n",
    "    country = player['country_of_citizenship']\n",
    "    age = player['Age_2020']\n",
    "    value = player['market_value_in_gbp'] / 5\n",
    "    age_minus = age - 1\n",
    "    potential_players = missing_fm.query('country_of_citizenship == @country and (Age == @age_minus or Age == @age) and Value >= @value')\n",
    "    player_name = next(iter(difflib.get_close_matches(player['name'], potential_players['Name'], cutoff=0.5)), None)\n",
    "    if player_name:\n",
    "        player_fm = potential_players.query('Name == @player_name').sort_values(by='Value', ascending=False).head(1)\n",
    "        missing_fm = missing_fm.drop(player_fm.index)\n",
    "        return player_fm.index\n",
    "    return None\n",
    "\n",
    "\n",
    "matches = missing.apply(find_match, axis=1)\n",
    "\n",
    "print(f\"Newly matched players: {len(matches.index)}\")"
   ]
  },
  {
   "cell_type": "markdown",
   "metadata": {},
   "source": [
    "Here I append the newly matched values from the missing dataframe values to our **merged dataframe**."
   ]
  },
  {
   "cell_type": "code",
   "execution_count": 14,
   "metadata": {},
   "outputs": [],
   "source": [
    "tfmk_missing = missing.merge(matches.to_frame('fm_player_index'), left_index=True, right_index=True).dropna()\n",
    "tfmk_missing['fm_player_index'] = tfmk_missing['fm_player_index'].apply(lambda x: x.tolist()[0])\n",
    "tfmk_missing = tfmk_missing.merge(fm20_base_players_df, left_on='fm_player_index', right_index=True)\n",
    "transfermarkt_fm20_merged_df = transfermarkt_fm20_merged_df.append(tfmk_missing)"
   ]
  },
  {
   "cell_type": "markdown",
   "metadata": {},
   "source": [
    "Here I insert the target values (valuation now vs valuations 2020) into the **merged dataframe**. This is made using the *transfermarkt_valuations_dataset* and finding the players' values in 2020, and comparing them with their value now using *market_value_in_gbp*. This creates the **final dataframe** called *players_with_values*."
   ]
  },
  {
   "cell_type": "code",
   "execution_count": 15,
   "metadata": {},
   "outputs": [],
   "source": [
    "\n",
    "transfermarkt_fm20_merged_df['value_2022'] = transfermarkt_fm20_merged_df['market_value_in_gbp']\n",
    "\n",
    "player_values_2020 = transfermarkt_valuations_dataset.query(\"date >= '2019-07-01' & date <= '2020-12-31'\").sort_values(by='date', ascending=True).drop_duplicates(subset='player_id')\n",
    "\n",
    "player_values_2020['value_2020'] = player_values_2020['market_value']\n",
    "\n",
    "players_with_values = transfermarkt_fm20_merged_df.merge(player_values_2020, on='player_id')\n",
    "\n",
    "players_with_values['value_diff'] = players_with_values['value_2022'] - players_with_values['value_2020']\n",
    "\n",
    "players_with_values.to_csv('assets/base_players_dataset.csv', index=False)"
   ]
  },
  {
   "cell_type": "markdown",
   "metadata": {},
   "source": [
    "Having my **final dataframe**, I proceeded to evaluate if they were evenly distributed for a classifier, and if I needed to do any change to correct any imbalance."
   ]
  },
  {
   "cell_type": "code",
   "execution_count": 16,
   "metadata": {},
   "outputs": [
    {
     "data": {
      "text/plain": [
       "<AxesSubplot:>"
      ]
     },
     "execution_count": 16,
     "metadata": {},
     "output_type": "execute_result"
    },
    {
     "data": {
      "image/png": "[encoded data removed]",
      "text/plain": [
       "<Figure size 800x400 with 1 Axes>"
      ]
     },
     "metadata": {},
     "output_type": "display_data"
    }
   ],
   "source": [
    "value_bins = [-np.inf, 0, np.inf]\n",
    "\n",
    "base_players_dataset = players_with_values[:]\n",
    "\n",
    "base_players_dataset['value_cat'] = pd.cut(players_with_values[\"value_diff\"], bins=value_bins, labels=range(len(value_bins)-1))\n",
    "\n",
    "base_players_dataset['value_cat'].hist()"
   ]
  },
  {
   "cell_type": "markdown",
   "metadata": {},
   "source": [
    "Knowing that there is a very small imbalance, which is not meaningful, I proceed with creating the test and train sets, taking into account the player categories (to have representative test and train sets as well)"
   ]
  },
  {
   "cell_type": "code",
   "execution_count": 17,
   "metadata": {},
   "outputs": [],
   "source": [
    "from sklearn.model_selection import train_test_split\n",
    "\n",
    "players_for_analysis = base_players_dataset[:]\n",
    "\n",
    "players_for_analysis.dropna(subset=['value_cat'], inplace=True)\n",
    "\n",
    "x_train, x_test, y_train, y_test = train_test_split(players_for_analysis, players_for_analysis['value_cat'], test_size=0.2, random_state=42, stratify=players_for_analysis['value_cat'])\n",
    "\n",
    "players_v1 = x_train.drop('value_cat', axis=1)\n",
    "\n",
    "players_labels_v1 = x_train['value_cat'].copy()"
   ]
  },
  {
   "cell_type": "markdown",
   "metadata": {},
   "source": [
    "Here I handle text and categorical attributes. For this, I create a series of Custom Transformers which turn some attributes into relevant data:"
   ]
  },
  {
   "cell_type": "markdown",
   "metadata": {},
   "source": [
    "NationToRank transforms each nation into a numerical value between 0 and 1 according to their rank (1 the highest), according to the FIFA rankings in 2020."
   ]
  },
  {
   "cell_type": "code",
   "execution_count": 18,
   "metadata": {},
   "outputs": [],
   "source": [
    "\n",
    "from sklearn.base import BaseEstimator, TransformerMixin\n",
    "\n",
    "class NationToRank(BaseEstimator, TransformerMixin):\n",
    "    def __init__(self):\n",
    "        pass\n",
    "    \n",
    "    def fit(self, X, y=None):\n",
    "        return self\n",
    "    \n",
    "    def transform(self, X):\n",
    "        nation_encoder = base_players_dataset.groupby('Nation').sum().rank(ascending=True, method='first')\n",
    "        max_rank = nation_encoder['value_diff'].max()\n",
    "        temp = nation_encoder.copy()\n",
    "        temp.sort_values('value_diff', ascending=False, inplace=True)\n",
    "        temp['Nation'] = temp.index\n",
    "        temp.reset_index(drop=True, inplace=True)\n",
    "        temp['Nation_rank'] = 1 - (temp.index / temp.shape[0])\n",
    "        X['Nation_rank'] = X['Nation'].map(temp.set_index('Nation')['Nation_rank'])\n",
    "        X.drop('Nation', axis=1, inplace=True)\n",
    "        \n",
    "        # fifa_wr = pd.read_csv(\"datasets/fifa_ranking-2021-05-27.csv\")\n",
    "        # nation_encoder = fifa_wr.query('rank_date == \"2020-10-22\"')[['rank', 'country_abrv']]\n",
    "        # max_rank = nation_encoder['rank'].max() + 1\n",
    "        # X['Nation_rank'] = 1 - (X['Nation'].map(nation_encoder.set_index('country_abrv')['rank']).fillna(max_rank) / max_rank)\n",
    "        # X.drop('Nation', axis=1, inplace=True)\n",
    "        return X"
   ]
  },
  {
   "cell_type": "markdown",
   "metadata": {},
   "source": [
    "AttributeMerger merges groups of attributes together and returns a value between 0 and 1 for each group."
   ]
  },
  {
   "cell_type": "code",
   "execution_count": 19,
   "metadata": {},
   "outputs": [],
   "source": [
    "\n",
    "from sklearn.preprocessing import StandardScaler\n",
    "\n",
    "class AttributeMerger(BaseEstimator, TransformerMixin):\n",
    "    def __init__(self):\n",
    "        pass\n",
    "    \n",
    "    def fit(self, X, y=None):\n",
    "        return self\n",
    "    \n",
    "    def transform(self, X):\n",
    "        physical_attr = ['Acc', 'Pac', 'Sta', 'Str', 'Agi', 'Bal', 'Jum', 'Nat']\n",
    "        mental_attr = ['Wor', 'Vis', 'Tea', 'Pos', 'OtB', 'Ldr', 'Fla', 'Det', 'Dec', 'Cnt', 'Cmp', 'Bra', 'Ant', 'Agg']\n",
    "        apply_mean_attribute_list(X, 'M+P', physical_attr + mental_attr)\n",
    "        apply_mean_attribute_list(X, 'MEN', mental_attr)\n",
    "        apply_mean_attribute_list(X, 'PHY', physical_attr)\n",
    "        apply_mean_attribute_list(X, 'ATTR', PLAYER_ATTR)\n",
    "        X.drop(PLAYER_ATTR, axis=1, inplace=True)\n",
    "        return X\n"
   ]
  },
  {
   "cell_type": "markdown",
   "metadata": {},
   "source": [
    "BasedToRank transforms the championship where a player is playing into a value between 0 and 1, that was calculated taking into account the value generated in transfers by each championship. E.g. in this ranking the Portuguese Premier League is the league which increases the value of their players the most, so it gets the value of 1."
   ]
  },
  {
   "cell_type": "code",
   "execution_count": 20,
   "metadata": {},
   "outputs": [],
   "source": [
    "from sklearn.base import BaseEstimator, TransformerMixin\n",
    "\n",
    "class BasedToRank(BaseEstimator, TransformerMixin):\n",
    "    def __init__(self):\n",
    "        pass\n",
    "    \n",
    "    def fit(self, X, y=None):\n",
    "        return self\n",
    "    \n",
    "    def transform(self, X):\n",
    "        based_encoder = pd.read_csv('assets/based_rank.csv')\n",
    "        X['Based_rank'] = X['Based'].map(based_encoder.set_index('Based')['Based_rank'])\n",
    "        X['Based_rank'].fillna(0, inplace=True)\n",
    "        X.drop('Based', axis=1, inplace=True)\n",
    "        return X"
   ]
  },
  {
   "cell_type": "markdown",
   "metadata": {},
   "source": [
    "FootToRank transforms the footedness of the player (as indicated by FM) to a value between 0 and 1. In FM the technical attributes are affected by the footedness, and double footed players have a bit less technical attributes (but higher on both feet)."
   ]
  },
  {
   "cell_type": "code",
   "execution_count": 21,
   "metadata": {},
   "outputs": [],
   "source": [
    "from sklearn.base import BaseEstimator, TransformerMixin\n",
    "\n",
    "class FootToRank(BaseEstimator, TransformerMixin):\n",
    "    def __init__(self):\n",
    "        pass\n",
    "    \n",
    "    def fit(self, X, y=None):\n",
    "        return self\n",
    "    \n",
    "    def transform(self, X):\n",
    "        X['Foot_rank'] = X['Preferred Foot'].map(FOOTEDNESS_MAPPING)\n",
    "        X.drop('Preferred Foot', axis=1, inplace=True)\n",
    "        return X"
   ]
  },
  {
   "cell_type": "markdown",
   "metadata": {},
   "source": [
    "Here we apply all transformations. We apply an additional two transformations to the age and the preferred position of a player:\n",
    "- StandardScaler to standardize the age\n",
    "- OneHotEncoder to split the preferred positions in different columns"
   ]
  },
  {
   "cell_type": "code",
   "execution_count": 22,
   "metadata": {},
   "outputs": [],
   "source": [
    "from sklearn.compose import ColumnTransformer\n",
    "from sklearn.preprocessing import StandardScaler, OneHotEncoder\n",
    "\n",
    "players = x_train.drop('Value', axis=1)\n",
    "\n",
    "features_v1 = {\n",
    "    'att': (PLAYER_ATTR, ['M+P', 'MEN', 'PHY', 'ATTR']),\n",
    "    'num': (PLAYER_ATTR + ['Age'], None),\n",
    "    'foo': (['Preferred Foot'], None),\n",
    "    'pos': (['Best Pos'], None),\n",
    "    'nat': (['Nation'], None),\n",
    "    'bas': (['Based'], None)\n",
    "}\n",
    "\n",
    "feature_labels_v1 = list(np.concatenate([f[1] if f[1] is not None else f[0] for k, f in features_v1.items()]).flat)\n",
    "\n",
    "full_pipeline_v1 = ColumnTransformer([\n",
    "    (\"att\", AttributeMerger(), features_v1['att'][0]),\n",
    "    (\"num\", StandardScaler(), features_v1['num'][0]),\n",
    "    (\"foo\", FootToRank(), features_v1['foo'][0]),\n",
    "    (\"pos\", OneHotEncoder(), features_v1['pos'][0]),\n",
    "    (\"nat\", NationToRank(), features_v1['nat'][0]),\n",
    "    (\"bas\", BasedToRank(), features_v1['bas'][0])\n",
    "])\n",
    "\n",
    "players_prepared_v1 = full_pipeline_v1.fit_transform(players)"
   ]
  },
  {
   "cell_type": "markdown",
   "metadata": {},
   "source": [
    "## Model selection and training\n",
    "\n",
    "Here I decided to use a classifier, as I want to only classify the players in two categories (profit or not), and I opt to use a random forest for its ease of use and versatility.\n",
    "\n",
    "Below I try to find the best hyperparameters to maximize the increase in value difference using the method *predictor_performance*. What this does is:\n",
    "- Apply the model\n",
    "- Sum the *value_diff* where there was a positive prediction: this would be the value earned, and includes the value lost from bad predictions.\n",
    "- Sum the total positive *value_diff*: this would be the best prediction possible.\n",
    "- Divide the first by the second to get the score.\n",
    "\n",
    "After finding the best hyperparameters, I use the best estimator as my model and I save it.\n",
    "\n",
    "TODO: Use XGBoost or Adaboost to improve the tuning"
   ]
  },
  {
   "cell_type": "code",
   "execution_count": 23,
   "metadata": {},
   "outputs": [
    {
     "data": {
      "text/html": [
       "<style>#sk-container-id-1 {color: black;background-color: white;}#sk-container-id-1 pre{padding: 0;}#sk-container-id-1 div.sk-toggleable {background-color: white;}#sk-container-id-1 label.sk-toggleable__label {cursor: pointer;display: block;width: 100%;margin-bottom: 0;padding: 0.3em;box-sizing: border-box;text-align: center;}#sk-container-id-1 label.sk-toggleable__label-arrow:before {content: \"▸\";float: left;margin-right: 0.25em;color: #696969;}#sk-container-id-1 label.sk-toggleable__label-arrow:hover:before {color: black;}#sk-container-id-1 div.sk-estimator:hover label.sk-toggleable__label-arrow:before {color: black;}#sk-container-id-1 div.sk-toggleable__content {max-height: 0;max-width: 0;overflow: hidden;text-align: left;background-color: #f0f8ff;}#sk-container-id-1 div.sk-toggleable__content pre {margin: 0.2em;color: black;border-radius: 0.25em;background-color: #f0f8ff;}#sk-container-id-1 input.sk-toggleable__control:checked~div.sk-toggleable__content {max-height: 200px;max-width: 100%;overflow: auto;}#sk-container-id-1 input.sk-toggleable__control:checked~label.sk-toggleable__label-arrow:before {content: \"▾\";}#sk-container-id-1 div.sk-estimator input.sk-toggleable__control:checked~label.sk-toggleable__label {background-color: #d4ebff;}#sk-container-id-1 div.sk-label input.sk-toggleable__control:checked~label.sk-toggleable__label {background-color: #d4ebff;}#sk-container-id-1 input.sk-hidden--visually {border: 0;clip: rect(1px 1px 1px 1px);clip: rect(1px, 1px, 1px, 1px);height: 1px;margin: -1px;overflow: hidden;padding: 0;position: absolute;width: 1px;}#sk-container-id-1 div.sk-estimator {font-family: monospace;background-color: #f0f8ff;border: 1px dotted black;border-radius: 0.25em;box-sizing: border-box;margin-bottom: 0.5em;}#sk-container-id-1 div.sk-estimator:hover {background-color: #d4ebff;}#sk-container-id-1 div.sk-parallel-item::after {content: \"\";width: 100%;border-bottom: 1px solid gray;flex-grow: 1;}#sk-container-id-1 div.sk-label:hover label.sk-toggleable__label {background-color: #d4ebff;}#sk-container-id-1 div.sk-serial::before {content: \"\";position: absolute;border-left: 1px solid gray;box-sizing: border-box;top: 0;bottom: 0;left: 50%;z-index: 0;}#sk-container-id-1 div.sk-serial {display: flex;flex-direction: column;align-items: center;background-color: white;padding-right: 0.2em;padding-left: 0.2em;position: relative;}#sk-container-id-1 div.sk-item {position: relative;z-index: 1;}#sk-container-id-1 div.sk-parallel {display: flex;align-items: stretch;justify-content: center;background-color: white;position: relative;}#sk-container-id-1 div.sk-item::before, #sk-container-id-1 div.sk-parallel-item::before {content: \"\";position: absolute;border-left: 1px solid gray;box-sizing: border-box;top: 0;bottom: 0;left: 50%;z-index: -1;}#sk-container-id-1 div.sk-parallel-item {display: flex;flex-direction: column;z-index: 1;position: relative;background-color: white;}#sk-container-id-1 div.sk-parallel-item:first-child::after {align-self: flex-end;width: 50%;}#sk-container-id-1 div.sk-parallel-item:last-child::after {align-self: flex-start;width: 50%;}#sk-container-id-1 div.sk-parallel-item:only-child::after {width: 0;}#sk-container-id-1 div.sk-dashed-wrapped {border: 1px dashed gray;margin: 0 0.4em 0.5em 0.4em;box-sizing: border-box;padding-bottom: 0.4em;background-color: white;}#sk-container-id-1 div.sk-label label {font-family: monospace;font-weight: bold;display: inline-block;line-height: 1.2em;}#sk-container-id-1 div.sk-label-container {text-align: center;}#sk-container-id-1 div.sk-container {/* jupyter's `normalize.less` sets `[hidden] { display: none; }` but bootstrap.min.css set `[hidden] { display: none !important; }` so we also need the `!important` here to be able to override the default hidden behavior on the sphinx rendered scikit-learn.org. See: https://github.com/scikit-learn/scikit-learn/issues/21755 */display: inline-block !important;position: relative;}#sk-container-id-1 div.sk-text-repr-fallback {display: none;}</style><div id=\"sk-container-id-1\" class=\"sk-top-container\"><div class=\"sk-text-repr-fallback\"><pre>RandomForestClassifier(bootstrap=False, max_depth=10, n_estimators=352)</pre><b>In a Jupyter environment, please rerun this cell to show the HTML representation or trust the notebook. <br />On GitHub, the HTML representation is unable to render, please try loading this page with nbviewer.org.</b></div><div class=\"sk-container\" hidden><div class=\"sk-item\"><div class=\"sk-estimator sk-toggleable\"><input class=\"sk-toggleable__control sk-hidden--visually\" id=\"sk-estimator-id-1\" type=\"checkbox\" checked><label for=\"sk-estimator-id-1\" class=\"sk-toggleable__label sk-toggleable__label-arrow\">RandomForestClassifier</label><div class=\"sk-toggleable__content\"><pre>RandomForestClassifier(bootstrap=False, max_depth=10, n_estimators=352)</pre></div></div></div></div></div>"
      ],
      "text/plain": [
       "RandomForestClassifier(bootstrap=False, max_depth=10, n_estimators=352)"
      ]
     },
     "execution_count": 23,
     "metadata": {},
     "output_type": "execute_result"
    }
   ],
   "source": [
    "from sklearn.model_selection import RandomizedSearchCV\n",
    "from sklearn.ensemble import RandomForestClassifier\n",
    "\n",
    "tune_hyperparameters = True\n",
    "cross_validation = 10\n",
    "\n",
    "if not tune_hyperparameters:\n",
    "    value_predictor_v1 = joblib.load('models/rf_value_predictor.pkl')\n",
    "else:\n",
    "    def predictor_performance(estimator, X, y):\n",
    "        y_pred = estimator.predict(X)\n",
    "        values = x_train[['value_diff']]\n",
    "        values['y_true'] = y\n",
    "        values.dropna(inplace=True)\n",
    "        values['pred'] = y_pred\n",
    "\n",
    "        value_earned = values.query('pred == 1')['value_diff'].sum()\n",
    "        total_value = values.query('value_diff > 0')['value_diff'].sum()\n",
    "\n",
    "        return value_earned / total_value\n",
    "\n",
    "    rf_param_grid = {\n",
    "        'n_estimators': [int(x) for x in np.linspace(start = 100, stop = 500, num = 20)],\n",
    "        'max_depth': [int(x) for x in np.linspace(10, 100, num = 5)] + [None],\n",
    "        'bootstrap': [True, False],\n",
    "    }\n",
    "\n",
    "    value_predictor_v1 = RandomForestClassifier()\n",
    "    value_predictor_v1_grid_search = RandomizedSearchCV(value_predictor_v1, rf_param_grid, cv=cross_validation, scoring=predictor_performance, return_train_score=True, n_iter=10, error_score=\"raise\")\n",
    "\n",
    "    value_predictor_v1_grid_search.fit(players_prepared_v1, players_labels_v1)\n",
    "\n",
    "    value_predictor_v1 = value_predictor_v1_grid_search.best_estimator_\n",
    "\n",
    "    joblib.dump(value_predictor_v1, 'models/rf_value_predictor.pkl')\n",
    "\n",
    "value_predictor_v1"
   ]
  },
  {
   "cell_type": "markdown",
   "metadata": {},
   "source": [
    "In here I want to find the best threshold which maximizes the value earned. To do that I test 100 tresholds for the *predict_proba* function of the predictor and figure out which one is the best."
   ]
  },
  {
   "cell_type": "code",
   "execution_count": 24,
   "metadata": {},
   "outputs": [
    {
     "name": "stdout",
     "output_type": "stream",
     "text": [
      "Perf: 6584072993.0\n",
      "Max Perf: 6642244993.0\n",
      "Thres: 0.47\n"
     ]
    }
   ],
   "source": [
    "value_predictions_proba_v1 = value_predictor_v1.predict_proba(players_prepared_v1)\n",
    "\n",
    "total_value_without_model = x_train['value_diff'].sum()\n",
    "max_value_without_model = x_train.query('value_diff > 0')['value_diff'].sum()\n",
    "\n",
    "max_performance = max_value_without_model\n",
    "\n",
    "train_players = x_train[:]\n",
    "train_players['prob_1'] = value_predictions_proba_v1[:, 1]\n",
    "\n",
    "model_performance_max = 0\n",
    "ideal_threshold = 0\n",
    "total_value_with_model_max = 0\n",
    "\n",
    "for i in range(100):\n",
    "    threshold = i / 100\n",
    "    train_players['pred'] = value_predictions_proba_v1[:, 1] > threshold\n",
    "    total_value_with_model = train_players.query('pred == 1')['value_diff'].sum()\n",
    "    model_performance = total_value_with_model\n",
    "    if model_performance > model_performance_max:\n",
    "        model_performance_max = model_performance\n",
    "        ideal_threshold = threshold\n",
    "        total_value_with_model_max = total_value_with_model\n",
    "\n",
    "print(\"Perf:\", model_performance_max)\n",
    "print(\"Max Perf:\", max_performance)\n",
    "print(\"Thres:\", ideal_threshold)"
   ]
  },
  {
   "cell_type": "markdown",
   "metadata": {},
   "source": [
    "The confusion matrix shows a really good performance overall with the training set."
   ]
  },
  {
   "cell_type": "code",
   "execution_count": 25,
   "metadata": {},
   "outputs": [
    {
     "data": {
      "text/plain": [
       "<AxesSubplot:>"
      ]
     },
     "execution_count": 25,
     "metadata": {},
     "output_type": "execute_result"
    },
    {
     "data": {
      "image/png": "[encoded data removed]",
      "text/plain": [
       "<Figure size 800x400 with 2 Axes>"
      ]
     },
     "metadata": {},
     "output_type": "display_data"
    }
   ],
   "source": [
    "from sklearn.metrics import confusion_matrix\n",
    "\n",
    "conf_mx = confusion_matrix(players_labels_v1, value_predictions_proba_v1[:, 1] > ideal_threshold)\n",
    "conf_mx = conf_mx.astype('float') / conf_mx.sum(axis=1)[:, np.newaxis]\n",
    "sns.heatmap(conf_mx, annot=True, fmt='.2f')"
   ]
  },
  {
   "cell_type": "markdown",
   "metadata": {},
   "source": [
    "## Testing and Error Analysis\n",
    "\n",
    "Now the real deal. We prepare the test values and run the model with them."
   ]
  },
  {
   "cell_type": "code",
   "execution_count": 26,
   "metadata": {},
   "outputs": [],
   "source": [
    "test_players_prepared = full_pipeline_v1.fit_transform(x_test)\n",
    "test_players_labels = y_test\n",
    "test_value_predictions_proba_v1 = value_predictor_v1.predict_proba(test_players_prepared)"
   ]
  },
  {
   "cell_type": "markdown",
   "metadata": {},
   "source": [
    "The confusion matrix shows a way worse performance overall with the test set. Overfitting?"
   ]
  },
  {
   "cell_type": "code",
   "execution_count": 27,
   "metadata": {},
   "outputs": [
    {
     "data": {
      "text/plain": [
       "<AxesSubplot:>"
      ]
     },
     "execution_count": 27,
     "metadata": {},
     "output_type": "execute_result"
    },
    {
     "data": {
      "image/png": "[encoded data removed]",
      "text/plain": [
       "<Figure size 800x400 with 2 Axes>"
      ]
     },
     "metadata": {},
     "output_type": "display_data"
    }
   ],
   "source": [
    "# Test values confusion matrix\n",
    "conf_mx = confusion_matrix(test_players_labels, test_value_predictions_proba_v1[:, 1] > ideal_threshold)\n",
    "conf_mx = conf_mx.astype('float') / conf_mx.sum(axis=1)[:, np.newaxis]\n",
    "sns.heatmap(conf_mx, annot=True, fmt='.2f')"
   ]
  },
  {
   "cell_type": "markdown",
   "metadata": {},
   "source": [
    "Here I just want to understand how my model really performed, in terms of value earned. How does it compare with just buying all players? How does it compare to the maximum performance?"
   ]
  },
  {
   "cell_type": "code",
   "execution_count": 33,
   "metadata": {},
   "outputs": [
    {
     "name": "stdout",
     "output_type": "stream",
     "text": [
      "Perf: 0.58\n",
      "Min Perf: 0.24\n"
     ]
    }
   ],
   "source": [
    "def perf(minval, maxval):\n",
    "    return round(minval/maxval, 2)\n",
    "\n",
    "test_value_predictions_proba_v1 = value_predictor_v1.predict_proba(test_players_prepared)\n",
    "\n",
    "test_players_v1 = x_test[['Name', 'Age', 'Position', 'Club', 'PA', 'value_diff', 'value_2020']]\n",
    "test_players_v1['pred'] = test_value_predictions_proba_v1[:, 1] > ideal_threshold\n",
    "\n",
    "test_total_value_without_model = test_players_v1['value_diff'].sum()\n",
    "test_total_value_with_model = test_players_v1.query('pred == 1')['value_diff'].sum()\n",
    "test_max_value_without_model = test_players_v1.query('value_diff > 0')['value_diff'].sum()\n",
    "\n",
    "test_performance = test_total_value_with_model\n",
    "max_test_performance = test_max_value_without_model\n",
    "\n",
    "print(\"Perf:\", perf(test_performance, max_test_performance))\n",
    "print(\"Min Perf:\", perf(test_total_value_without_model, max_test_performance))"
   ]
  },
  {
   "cell_type": "markdown",
   "metadata": {},
   "source": [
    "## Results\n",
    "\n",
    "Finally, I just want to see some of the most meaningful results.\n",
    "\n",
    "### Successful"
   ]
  },
  {
   "cell_type": "markdown",
   "metadata": {},
   "source": [
    "- 10 best value increase true predictions.\n",
    "    - Most players predicted have less than or equal to 20 years old\n",
    "    "
   ]
  },
  {
   "cell_type": "code",
   "execution_count": 30,
   "metadata": {},
   "outputs": [
    {
     "data": {
      "text/html": [
       "<div>\n",
       "<style scoped>\n",
       "    .dataframe tbody tr th:only-of-type {\n",
       "        vertical-align: middle;\n",
       "    }\n",
       "\n",
       "    .dataframe tbody tr th {\n",
       "        vertical-align: top;\n",
       "    }\n",
       "\n",
       "    .dataframe thead th {\n",
       "        text-align: right;\n",
       "    }\n",
       "</style>\n",
       "<table border=\"1\" class=\"dataframe\">\n",
       "  <thead>\n",
       "    <tr style=\"text-align: right;\">\n",
       "      <th></th>\n",
       "      <th>Name</th>\n",
       "      <th>Age</th>\n",
       "      <th>Position</th>\n",
       "      <th>Club</th>\n",
       "      <th>PA</th>\n",
       "      <th>value_diff</th>\n",
       "      <th>pred</th>\n",
       "    </tr>\n",
       "  </thead>\n",
       "  <tbody>\n",
       "    <tr>\n",
       "      <th>3026</th>\n",
       "      <td>Alphonso Davies</td>\n",
       "      <td>18</td>\n",
       "      <td>D/WB (L), M/AM (RL)</td>\n",
       "      <td>FC Bayern</td>\n",
       "      <td>168</td>\n",
       "      <td>49500000.0</td>\n",
       "      <td>True</td>\n",
       "    </tr>\n",
       "    <tr>\n",
       "      <th>419</th>\n",
       "      <td>Amine Gouiri</td>\n",
       "      <td>19</td>\n",
       "      <td>AM (L), ST (C)</td>\n",
       "      <td>OGC Nice</td>\n",
       "      <td>154</td>\n",
       "      <td>33750000.0</td>\n",
       "      <td>True</td>\n",
       "    </tr>\n",
       "    <tr>\n",
       "      <th>1888</th>\n",
       "      <td>Alessandro Bastoni</td>\n",
       "      <td>20</td>\n",
       "      <td>D (C)</td>\n",
       "      <td>Inter</td>\n",
       "      <td>169</td>\n",
       "      <td>33300000.0</td>\n",
       "      <td>True</td>\n",
       "    </tr>\n",
       "    <tr>\n",
       "      <th>335</th>\n",
       "      <td>Wesley Fofana</td>\n",
       "      <td>18</td>\n",
       "      <td>D (C), DM</td>\n",
       "      <td>Leicester</td>\n",
       "      <td>165</td>\n",
       "      <td>32400000.0</td>\n",
       "      <td>True</td>\n",
       "    </tr>\n",
       "    <tr>\n",
       "      <th>1157</th>\n",
       "      <td>Ryan Gravenberch</td>\n",
       "      <td>17</td>\n",
       "      <td>DM, M (C), AM (LC)</td>\n",
       "      <td>Ajax</td>\n",
       "      <td>175</td>\n",
       "      <td>27000000.0</td>\n",
       "      <td>True</td>\n",
       "    </tr>\n",
       "    <tr>\n",
       "      <th>613</th>\n",
       "      <td>Declan Rice</td>\n",
       "      <td>20</td>\n",
       "      <td>D (C), DM, M (C)</td>\n",
       "      <td>West Ham</td>\n",
       "      <td>180</td>\n",
       "      <td>27000000.0</td>\n",
       "      <td>True</td>\n",
       "    </tr>\n",
       "    <tr>\n",
       "      <th>1244</th>\n",
       "      <td>Sven Botman</td>\n",
       "      <td>19</td>\n",
       "      <td>D (LC)</td>\n",
       "      <td>LOSC</td>\n",
       "      <td>119</td>\n",
       "      <td>26730000.0</td>\n",
       "      <td>True</td>\n",
       "    </tr>\n",
       "    <tr>\n",
       "      <th>1009</th>\n",
       "      <td>Pedro Goncalves</td>\n",
       "      <td>20</td>\n",
       "      <td>M/AM (C)</td>\n",
       "      <td>FamalicÃ£o</td>\n",
       "      <td>125</td>\n",
       "      <td>26280000.0</td>\n",
       "      <td>True</td>\n",
       "    </tr>\n",
       "    <tr>\n",
       "      <th>633</th>\n",
       "      <td>Curtis Jones</td>\n",
       "      <td>18</td>\n",
       "      <td>M (C), AM (RLC)</td>\n",
       "      <td>Liverpool</td>\n",
       "      <td>150</td>\n",
       "      <td>23850000.0</td>\n",
       "      <td>True</td>\n",
       "    </tr>\n",
       "    <tr>\n",
       "      <th>382</th>\n",
       "      <td>Robin Le Normand</td>\n",
       "      <td>22</td>\n",
       "      <td>D (C)</td>\n",
       "      <td>Real Sociedad</td>\n",
       "      <td>143</td>\n",
       "      <td>22500000.0</td>\n",
       "      <td>True</td>\n",
       "    </tr>\n",
       "  </tbody>\n",
       "</table>\n",
       "</div>"
      ],
      "text/plain": [
       "                    Name  Age             Position           Club   PA  \\\n",
       "3026     Alphonso Davies   18  D/WB (L), M/AM (RL)      FC Bayern  168   \n",
       "419         Amine Gouiri   19       AM (L), ST (C)       OGC Nice  154   \n",
       "1888  Alessandro Bastoni   20                D (C)          Inter  169   \n",
       "335        Wesley Fofana   18            D (C), DM      Leicester  165   \n",
       "1157    Ryan Gravenberch   17   DM, M (C), AM (LC)           Ajax  175   \n",
       "613          Declan Rice   20     D (C), DM, M (C)       West Ham  180   \n",
       "1244         Sven Botman   19               D (LC)           LOSC  119   \n",
       "1009     Pedro Goncalves   20             M/AM (C)     FamalicÃ£o  125   \n",
       "633         Curtis Jones   18      M (C), AM (RLC)      Liverpool  150   \n",
       "382     Robin Le Normand   22                D (C)  Real Sociedad  143   \n",
       "\n",
       "      value_diff  pred  \n",
       "3026  49500000.0  True  \n",
       "419   33750000.0  True  \n",
       "1888  33300000.0  True  \n",
       "335   32400000.0  True  \n",
       "1157  27000000.0  True  \n",
       "613   27000000.0  True  \n",
       "1244  26730000.0  True  \n",
       "1009  26280000.0  True  \n",
       "633   23850000.0  True  \n",
       "382   22500000.0  True  "
      ]
     },
     "execution_count": 30,
     "metadata": {},
     "output_type": "execute_result"
    }
   ],
   "source": [
    "test_players_v1.query('pred == 1').sort_values('value_diff', ascending=False).head(10)"
   ]
  },
  {
   "cell_type": "markdown",
   "metadata": {},
   "source": [
    "- 10 best value increase true predictions for players with low potential (so they are players which would be \"under the radar\" of big clubs)\n",
    "    - Most players predicted come from lower leagues (which can indicate that this is an important factor)"
   ]
  },
  {
   "cell_type": "code",
   "execution_count": 31,
   "metadata": {},
   "outputs": [
    {
     "data": {
      "text/html": [
       "<div>\n",
       "<style scoped>\n",
       "    .dataframe tbody tr th:only-of-type {\n",
       "        vertical-align: middle;\n",
       "    }\n",
       "\n",
       "    .dataframe tbody tr th {\n",
       "        vertical-align: top;\n",
       "    }\n",
       "\n",
       "    .dataframe thead th {\n",
       "        text-align: right;\n",
       "    }\n",
       "</style>\n",
       "<table border=\"1\" class=\"dataframe\">\n",
       "  <thead>\n",
       "    <tr style=\"text-align: right;\">\n",
       "      <th></th>\n",
       "      <th>Name</th>\n",
       "      <th>Age</th>\n",
       "      <th>Position</th>\n",
       "      <th>Club</th>\n",
       "      <th>PA</th>\n",
       "      <th>value_diff</th>\n",
       "      <th>pred</th>\n",
       "    </tr>\n",
       "  </thead>\n",
       "  <tbody>\n",
       "    <tr>\n",
       "      <th>1244</th>\n",
       "      <td>Sven Botman</td>\n",
       "      <td>19</td>\n",
       "      <td>D (LC)</td>\n",
       "      <td>LOSC</td>\n",
       "      <td>119</td>\n",
       "      <td>26730000.0</td>\n",
       "      <td>True</td>\n",
       "    </tr>\n",
       "    <tr>\n",
       "      <th>1009</th>\n",
       "      <td>Pedro Goncalves</td>\n",
       "      <td>20</td>\n",
       "      <td>M/AM (C)</td>\n",
       "      <td>FamalicÃ£o</td>\n",
       "      <td>125</td>\n",
       "      <td>26280000.0</td>\n",
       "      <td>True</td>\n",
       "    </tr>\n",
       "    <tr>\n",
       "      <th>1387</th>\n",
       "      <td>Lucas BoyÃ©</td>\n",
       "      <td>23</td>\n",
       "      <td>AM (RLC), ST (C)</td>\n",
       "      <td>Elche</td>\n",
       "      <td>125</td>\n",
       "      <td>12420000.0</td>\n",
       "      <td>True</td>\n",
       "    </tr>\n",
       "    <tr>\n",
       "      <th>1644</th>\n",
       "      <td>Manu SÃ¡nchez</td>\n",
       "      <td>23</td>\n",
       "      <td>D/WB/M/AM (R)</td>\n",
       "      <td>R. Majadahonda</td>\n",
       "      <td>120</td>\n",
       "      <td>8550000.0</td>\n",
       "      <td>True</td>\n",
       "    </tr>\n",
       "    <tr>\n",
       "      <th>1967</th>\n",
       "      <td>Simone Bastoni</td>\n",
       "      <td>22</td>\n",
       "      <td>D/WB (L), M (LC)</td>\n",
       "      <td>Spezia</td>\n",
       "      <td>123</td>\n",
       "      <td>6570000.0</td>\n",
       "      <td>True</td>\n",
       "    </tr>\n",
       "    <tr>\n",
       "      <th>2879</th>\n",
       "      <td>Tarik Tissoudali</td>\n",
       "      <td>26</td>\n",
       "      <td>M/AM (RL), ST (C)</td>\n",
       "      <td>Beerschot VA</td>\n",
       "      <td>107</td>\n",
       "      <td>6210000.0</td>\n",
       "      <td>True</td>\n",
       "    </tr>\n",
       "    <tr>\n",
       "      <th>812</th>\n",
       "      <td>Ismail Jakobs</td>\n",
       "      <td>19</td>\n",
       "      <td>D/WB/M/AM (L)</td>\n",
       "      <td>1. FC KÃ¶ln</td>\n",
       "      <td>125</td>\n",
       "      <td>6210000.0</td>\n",
       "      <td>True</td>\n",
       "    </tr>\n",
       "    <tr>\n",
       "      <th>2725</th>\n",
       "      <td>Konstantin Tyukavin</td>\n",
       "      <td>17</td>\n",
       "      <td>ST (C)</td>\n",
       "      <td>Dinamo Moscow</td>\n",
       "      <td>103</td>\n",
       "      <td>6187000.0</td>\n",
       "      <td>True</td>\n",
       "    </tr>\n",
       "    <tr>\n",
       "      <th>1988</th>\n",
       "      <td>Mattia Viti</td>\n",
       "      <td>17</td>\n",
       "      <td>D (C)</td>\n",
       "      <td>Empoli</td>\n",
       "      <td>100</td>\n",
       "      <td>6075000.0</td>\n",
       "      <td>True</td>\n",
       "    </tr>\n",
       "    <tr>\n",
       "      <th>1974</th>\n",
       "      <td>Andrea Cambiaso</td>\n",
       "      <td>19</td>\n",
       "      <td>WB (R), M (RC)</td>\n",
       "      <td>Genoa</td>\n",
       "      <td>123</td>\n",
       "      <td>4342000.0</td>\n",
       "      <td>True</td>\n",
       "    </tr>\n",
       "  </tbody>\n",
       "</table>\n",
       "</div>"
      ],
      "text/plain": [
       "                     Name  Age           Position            Club   PA  \\\n",
       "1244          Sven Botman   19             D (LC)            LOSC  119   \n",
       "1009      Pedro Goncalves   20           M/AM (C)      FamalicÃ£o  125   \n",
       "1387          Lucas BoyÃ©   23   AM (RLC), ST (C)           Elche  125   \n",
       "1644        Manu SÃ¡nchez   23      D/WB/M/AM (R)  R. Majadahonda  120   \n",
       "1967       Simone Bastoni   22   D/WB (L), M (LC)          Spezia  123   \n",
       "2879     Tarik Tissoudali   26  M/AM (RL), ST (C)    Beerschot VA  107   \n",
       "812         Ismail Jakobs   19      D/WB/M/AM (L)     1. FC KÃ¶ln  125   \n",
       "2725  Konstantin Tyukavin   17             ST (C)   Dinamo Moscow  103   \n",
       "1988          Mattia Viti   17              D (C)          Empoli  100   \n",
       "1974      Andrea Cambiaso   19     WB (R), M (RC)           Genoa  123   \n",
       "\n",
       "      value_diff  pred  \n",
       "1244  26730000.0  True  \n",
       "1009  26280000.0  True  \n",
       "1387  12420000.0  True  \n",
       "1644   8550000.0  True  \n",
       "1967   6570000.0  True  \n",
       "2879   6210000.0  True  \n",
       "812    6210000.0  True  \n",
       "2725   6187000.0  True  \n",
       "1988   6075000.0  True  \n",
       "1974   4342000.0  True  "
      ]
     },
     "execution_count": 31,
     "metadata": {},
     "output_type": "execute_result"
    }
   ],
   "source": [
    "test_players_v1.query('pred == 1 and PA < 130').sort_values('value_diff', ascending=False).head(10)"
   ]
  },
  {
   "cell_type": "markdown",
   "metadata": {},
   "source": [
    "- 10 players with a big increase in valuation, comparing with 2020\n",
    "    - Again most players have less than or equal to 20 years old"
   ]
  },
  {
   "cell_type": "code",
   "execution_count": 34,
   "metadata": {},
   "outputs": [
    {
     "data": {
      "text/html": [
       "<div>\n",
       "<style scoped>\n",
       "    .dataframe tbody tr th:only-of-type {\n",
       "        vertical-align: middle;\n",
       "    }\n",
       "\n",
       "    .dataframe tbody tr th {\n",
       "        vertical-align: top;\n",
       "    }\n",
       "\n",
       "    .dataframe thead th {\n",
       "        text-align: right;\n",
       "    }\n",
       "</style>\n",
       "<table border=\"1\" class=\"dataframe\">\n",
       "  <thead>\n",
       "    <tr style=\"text-align: right;\">\n",
       "      <th></th>\n",
       "      <th>Name</th>\n",
       "      <th>Age</th>\n",
       "      <th>Position</th>\n",
       "      <th>Club</th>\n",
       "      <th>PA</th>\n",
       "      <th>value_diff</th>\n",
       "      <th>value_2020</th>\n",
       "      <th>pred</th>\n",
       "    </tr>\n",
       "  </thead>\n",
       "  <tbody>\n",
       "    <tr>\n",
       "      <th>1244</th>\n",
       "      <td>Sven Botman</td>\n",
       "      <td>19</td>\n",
       "      <td>D (LC)</td>\n",
       "      <td>LOSC</td>\n",
       "      <td>119</td>\n",
       "      <td>26730000.0</td>\n",
       "      <td>270000</td>\n",
       "      <td>True</td>\n",
       "    </tr>\n",
       "    <tr>\n",
       "      <th>1009</th>\n",
       "      <td>Pedro Goncalves</td>\n",
       "      <td>20</td>\n",
       "      <td>M/AM (C)</td>\n",
       "      <td>FamalicÃ£o</td>\n",
       "      <td>125</td>\n",
       "      <td>26280000.0</td>\n",
       "      <td>720000</td>\n",
       "      <td>True</td>\n",
       "    </tr>\n",
       "    <tr>\n",
       "      <th>1021</th>\n",
       "      <td>FÃ¡bio Vieira</td>\n",
       "      <td>19</td>\n",
       "      <td>M (C), AM (LC)</td>\n",
       "      <td>FCP</td>\n",
       "      <td>155</td>\n",
       "      <td>21870000.0</td>\n",
       "      <td>630000</td>\n",
       "      <td>True</td>\n",
       "    </tr>\n",
       "    <tr>\n",
       "      <th>722</th>\n",
       "      <td>Noni Madueke</td>\n",
       "      <td>17</td>\n",
       "      <td>M (RL), AM (RLC)</td>\n",
       "      <td>PSV</td>\n",
       "      <td>148</td>\n",
       "      <td>15660000.0</td>\n",
       "      <td>540000</td>\n",
       "      <td>True</td>\n",
       "    </tr>\n",
       "    <tr>\n",
       "      <th>525</th>\n",
       "      <td>Georginio Rutter</td>\n",
       "      <td>17</td>\n",
       "      <td>AM (RL), ST (C)</td>\n",
       "      <td>TSG Hoffenheim</td>\n",
       "      <td>156</td>\n",
       "      <td>13950000.0</td>\n",
       "      <td>450000</td>\n",
       "      <td>True</td>\n",
       "    </tr>\n",
       "    <tr>\n",
       "      <th>1611</th>\n",
       "      <td>Nico Williams</td>\n",
       "      <td>16</td>\n",
       "      <td>D (C), M/AM (RL)</td>\n",
       "      <td>A. Bilbao</td>\n",
       "      <td>148</td>\n",
       "      <td>9900000.0</td>\n",
       "      <td>900000</td>\n",
       "      <td>True</td>\n",
       "    </tr>\n",
       "    <tr>\n",
       "      <th>864</th>\n",
       "      <td>Ansgar Knauff</td>\n",
       "      <td>17</td>\n",
       "      <td>D/M/AM (R)</td>\n",
       "      <td>Borussia Dortmund</td>\n",
       "      <td>138</td>\n",
       "      <td>8865000.0</td>\n",
       "      <td>135000</td>\n",
       "      <td>True</td>\n",
       "    </tr>\n",
       "    <tr>\n",
       "      <th>1644</th>\n",
       "      <td>Manu SÃ¡nchez</td>\n",
       "      <td>23</td>\n",
       "      <td>D/WB/M/AM (R)</td>\n",
       "      <td>R. Majadahonda</td>\n",
       "      <td>120</td>\n",
       "      <td>8550000.0</td>\n",
       "      <td>450000</td>\n",
       "      <td>True</td>\n",
       "    </tr>\n",
       "    <tr>\n",
       "      <th>708</th>\n",
       "      <td>Stephy Mavididi</td>\n",
       "      <td>21</td>\n",
       "      <td>ST (C)</td>\n",
       "      <td>Montpellier</td>\n",
       "      <td>135</td>\n",
       "      <td>8100000.0</td>\n",
       "      <td>900000</td>\n",
       "      <td>True</td>\n",
       "    </tr>\n",
       "    <tr>\n",
       "      <th>2278</th>\n",
       "      <td>Mykhaylo Mudryk</td>\n",
       "      <td>18</td>\n",
       "      <td>AM (RLC)</td>\n",
       "      <td>Shakhtar</td>\n",
       "      <td>138</td>\n",
       "      <td>7920000.0</td>\n",
       "      <td>180000</td>\n",
       "      <td>True</td>\n",
       "    </tr>\n",
       "  </tbody>\n",
       "</table>\n",
       "</div>"
      ],
      "text/plain": [
       "                  Name  Age          Position               Club   PA  \\\n",
       "1244       Sven Botman   19            D (LC)               LOSC  119   \n",
       "1009   Pedro Goncalves   20          M/AM (C)         FamalicÃ£o  125   \n",
       "1021     FÃ¡bio Vieira   19    M (C), AM (LC)                FCP  155   \n",
       "722       Noni Madueke   17  M (RL), AM (RLC)                PSV  148   \n",
       "525   Georginio Rutter   17   AM (RL), ST (C)     TSG Hoffenheim  156   \n",
       "1611     Nico Williams   16  D (C), M/AM (RL)          A. Bilbao  148   \n",
       "864      Ansgar Knauff   17        D/M/AM (R)  Borussia Dortmund  138   \n",
       "1644     Manu SÃ¡nchez   23     D/WB/M/AM (R)     R. Majadahonda  120   \n",
       "708    Stephy Mavididi   21            ST (C)        Montpellier  135   \n",
       "2278   Mykhaylo Mudryk   18          AM (RLC)           Shakhtar  138   \n",
       "\n",
       "      value_diff  value_2020  pred  \n",
       "1244  26730000.0      270000  True  \n",
       "1009  26280000.0      720000  True  \n",
       "1021  21870000.0      630000  True  \n",
       "722   15660000.0      540000  True  \n",
       "525   13950000.0      450000  True  \n",
       "1611   9900000.0      900000  True  \n",
       "864    8865000.0      135000  True  \n",
       "1644   8550000.0      450000  True  \n",
       "708    8100000.0      900000  True  \n",
       "2278   7920000.0      180000  True  "
      ]
     },
     "execution_count": 34,
     "metadata": {},
     "output_type": "execute_result"
    }
   ],
   "source": [
    "test_players_v1.query('pred == 1 and value_2020 <= 1000000').sort_values('value_diff', ascending=False).head(10)"
   ]
  },
  {
   "cell_type": "markdown",
   "metadata": {},
   "source": [
    "- 10 players who devalued the most and the model predicted successfully\n",
    "    - Most players are older than 23 yo\n",
    "    - All players come from big leagues (again reinforcing the importance of the league a player is)"
   ]
  },
  {
   "cell_type": "code",
   "execution_count": 38,
   "metadata": {},
   "outputs": [
    {
     "data": {
      "text/html": [
       "<div>\n",
       "<style scoped>\n",
       "    .dataframe tbody tr th:only-of-type {\n",
       "        vertical-align: middle;\n",
       "    }\n",
       "\n",
       "    .dataframe tbody tr th {\n",
       "        vertical-align: top;\n",
       "    }\n",
       "\n",
       "    .dataframe thead th {\n",
       "        text-align: right;\n",
       "    }\n",
       "</style>\n",
       "<table border=\"1\" class=\"dataframe\">\n",
       "  <thead>\n",
       "    <tr style=\"text-align: right;\">\n",
       "      <th></th>\n",
       "      <th>Name</th>\n",
       "      <th>Age</th>\n",
       "      <th>Position</th>\n",
       "      <th>Club</th>\n",
       "      <th>PA</th>\n",
       "      <th>value_diff</th>\n",
       "      <th>value_2020</th>\n",
       "      <th>pred</th>\n",
       "    </tr>\n",
       "  </thead>\n",
       "  <tbody>\n",
       "    <tr>\n",
       "      <th>1347</th>\n",
       "      <td>Mauro Icardi</td>\n",
       "      <td>26</td>\n",
       "      <td>ST (C)</td>\n",
       "      <td>Paris SG</td>\n",
       "      <td>174</td>\n",
       "      <td>-47700000.0</td>\n",
       "      <td>67500000</td>\n",
       "      <td>False</td>\n",
       "    </tr>\n",
       "    <tr>\n",
       "      <th>1</th>\n",
       "      <td>Philippe Coutinho</td>\n",
       "      <td>27</td>\n",
       "      <td>M/AM (LC)</td>\n",
       "      <td>Barcelona</td>\n",
       "      <td>172</td>\n",
       "      <td>-45000000.0</td>\n",
       "      <td>63000000</td>\n",
       "      <td>False</td>\n",
       "    </tr>\n",
       "    <tr>\n",
       "      <th>1998</th>\n",
       "      <td>Nicolas PÃ©pÃ©</td>\n",
       "      <td>24</td>\n",
       "      <td>AM (R), ST (C)</td>\n",
       "      <td>Arsenal</td>\n",
       "      <td>159</td>\n",
       "      <td>-45000000.0</td>\n",
       "      <td>67500000</td>\n",
       "      <td>False</td>\n",
       "    </tr>\n",
       "    <tr>\n",
       "      <th>312</th>\n",
       "      <td>Anthony Martial</td>\n",
       "      <td>23</td>\n",
       "      <td>AM (L), ST (C)</td>\n",
       "      <td>Man Utd</td>\n",
       "      <td>170</td>\n",
       "      <td>-39600000.0</td>\n",
       "      <td>54000000</td>\n",
       "      <td>False</td>\n",
       "    </tr>\n",
       "    <tr>\n",
       "      <th>304</th>\n",
       "      <td>Kylian MbappÃ©</td>\n",
       "      <td>20</td>\n",
       "      <td>AM (RL), ST (C)</td>\n",
       "      <td>Paris SG</td>\n",
       "      <td>196</td>\n",
       "      <td>-36000000.0</td>\n",
       "      <td>180000000</td>\n",
       "      <td>False</td>\n",
       "    </tr>\n",
       "    <tr>\n",
       "      <th>9</th>\n",
       "      <td>Felipe Anderson</td>\n",
       "      <td>26</td>\n",
       "      <td>M (RL), AM (RLC)</td>\n",
       "      <td>FCP</td>\n",
       "      <td>159</td>\n",
       "      <td>-28800000.0</td>\n",
       "      <td>40500000</td>\n",
       "      <td>False</td>\n",
       "    </tr>\n",
       "    <tr>\n",
       "      <th>1876</th>\n",
       "      <td>Federico Bernardeschi</td>\n",
       "      <td>25</td>\n",
       "      <td>M (R), AM (RLC)</td>\n",
       "      <td>Juventus</td>\n",
       "      <td>167</td>\n",
       "      <td>-27000000.0</td>\n",
       "      <td>36000000</td>\n",
       "      <td>False</td>\n",
       "    </tr>\n",
       "    <tr>\n",
       "      <th>1134</th>\n",
       "      <td>Frenkie de Jong</td>\n",
       "      <td>22</td>\n",
       "      <td>D (C), DM, M (C)</td>\n",
       "      <td>Barcelona</td>\n",
       "      <td>183</td>\n",
       "      <td>-27000000.0</td>\n",
       "      <td>81000000</td>\n",
       "      <td>False</td>\n",
       "    </tr>\n",
       "    <tr>\n",
       "      <th>923</th>\n",
       "      <td>JoÃ£o FÃ©lix</td>\n",
       "      <td>19</td>\n",
       "      <td>AM (RLC), ST (C)</td>\n",
       "      <td>A. Madrid</td>\n",
       "      <td>175</td>\n",
       "      <td>-27000000.0</td>\n",
       "      <td>90000000</td>\n",
       "      <td>False</td>\n",
       "    </tr>\n",
       "    <tr>\n",
       "      <th>3168</th>\n",
       "      <td>Ãlvaro Morata</td>\n",
       "      <td>26</td>\n",
       "      <td>ST (C)</td>\n",
       "      <td>Juventus</td>\n",
       "      <td>170</td>\n",
       "      <td>-22500000.0</td>\n",
       "      <td>45000000</td>\n",
       "      <td>False</td>\n",
       "    </tr>\n",
       "  </tbody>\n",
       "</table>\n",
       "</div>"
      ],
      "text/plain": [
       "                       Name  Age          Position       Club   PA  \\\n",
       "1347           Mauro Icardi   26            ST (C)   Paris SG  174   \n",
       "1         Philippe Coutinho   27         M/AM (LC)  Barcelona  172   \n",
       "1998         Nicolas PÃ©pÃ©   24    AM (R), ST (C)    Arsenal  159   \n",
       "312         Anthony Martial   23    AM (L), ST (C)    Man Utd  170   \n",
       "304          Kylian MbappÃ©   20   AM (RL), ST (C)   Paris SG  196   \n",
       "9           Felipe Anderson   26  M (RL), AM (RLC)        FCP  159   \n",
       "1876  Federico Bernardeschi   25   M (R), AM (RLC)   Juventus  167   \n",
       "1134        Frenkie de Jong   22  D (C), DM, M (C)  Barcelona  183   \n",
       "923            JoÃ£o FÃ©lix   19  AM (RLC), ST (C)  A. Madrid  175   \n",
       "3168         Ãlvaro Morata   26            ST (C)   Juventus  170   \n",
       "\n",
       "      value_diff  value_2020   pred  \n",
       "1347 -47700000.0    67500000  False  \n",
       "1    -45000000.0    63000000  False  \n",
       "1998 -45000000.0    67500000  False  \n",
       "312  -39600000.0    54000000  False  \n",
       "304  -36000000.0   180000000  False  \n",
       "9    -28800000.0    40500000  False  \n",
       "1876 -27000000.0    36000000  False  \n",
       "1134 -27000000.0    81000000  False  \n",
       "923  -27000000.0    90000000  False  \n",
       "3168 -22500000.0    45000000  False  "
      ]
     },
     "execution_count": 38,
     "metadata": {},
     "output_type": "execute_result"
    }
   ],
   "source": [
    "test_players_v1.query('pred == 0').sort_values('value_diff', ascending=True).head(10)"
   ]
  },
  {
   "cell_type": "markdown",
   "metadata": {},
   "source": [
    "### Unsuccessful\n",
    "\n",
    "- 10 players who were not predicted as having a big increase in valuation and had\n",
    "    - Most players are above 22 yo\n",
    "    - The most valuable player is the youngest at 16\n",
    "        - Maybe if the value in 2020 is small enough and the age is small (16-19), the model can be more permissive as most young players are expected to value a lot\n",
    "    - 4 players are from the German league (is it undervalued?)"
   ]
  },
  {
   "cell_type": "code",
   "execution_count": 40,
   "metadata": {},
   "outputs": [
    {
     "data": {
      "text/html": [
       "<div>\n",
       "<style scoped>\n",
       "    .dataframe tbody tr th:only-of-type {\n",
       "        vertical-align: middle;\n",
       "    }\n",
       "\n",
       "    .dataframe tbody tr th {\n",
       "        vertical-align: top;\n",
       "    }\n",
       "\n",
       "    .dataframe thead th {\n",
       "        text-align: right;\n",
       "    }\n",
       "</style>\n",
       "<table border=\"1\" class=\"dataframe\">\n",
       "  <thead>\n",
       "    <tr style=\"text-align: right;\">\n",
       "      <th></th>\n",
       "      <th>Name</th>\n",
       "      <th>Age</th>\n",
       "      <th>Position</th>\n",
       "      <th>Club</th>\n",
       "      <th>PA</th>\n",
       "      <th>value_diff</th>\n",
       "      <th>value_2020</th>\n",
       "      <th>pred</th>\n",
       "    </tr>\n",
       "  </thead>\n",
       "  <tbody>\n",
       "    <tr>\n",
       "      <th>1566</th>\n",
       "      <td>Pedri</td>\n",
       "      <td>16</td>\n",
       "      <td>M (C), AM (RLC)</td>\n",
       "      <td>Barcelona</td>\n",
       "      <td>160</td>\n",
       "      <td>67500000.0</td>\n",
       "      <td>4500000</td>\n",
       "      <td>False</td>\n",
       "    </tr>\n",
       "    <tr>\n",
       "      <th>2590</th>\n",
       "      <td>Patrik Schick</td>\n",
       "      <td>23</td>\n",
       "      <td>ST (C)</td>\n",
       "      <td>Bayer 04</td>\n",
       "      <td>168</td>\n",
       "      <td>31500000.0</td>\n",
       "      <td>13500000</td>\n",
       "      <td>False</td>\n",
       "    </tr>\n",
       "    <tr>\n",
       "      <th>10</th>\n",
       "      <td>Raphinha</td>\n",
       "      <td>22</td>\n",
       "      <td>AM (RL)</td>\n",
       "      <td>Leeds</td>\n",
       "      <td>157</td>\n",
       "      <td>27900000.0</td>\n",
       "      <td>12600000</td>\n",
       "      <td>False</td>\n",
       "    </tr>\n",
       "    <tr>\n",
       "      <th>3169</th>\n",
       "      <td>Guido RodrÃ­guez</td>\n",
       "      <td>25</td>\n",
       "      <td>DM, M (C)</td>\n",
       "      <td>Real Betis</td>\n",
       "      <td>147</td>\n",
       "      <td>13500000.0</td>\n",
       "      <td>9000000</td>\n",
       "      <td>False</td>\n",
       "    </tr>\n",
       "    <tr>\n",
       "      <th>1351</th>\n",
       "      <td>Rodrigo De Paul</td>\n",
       "      <td>25</td>\n",
       "      <td>M (C), AM (RLC), ST (C)</td>\n",
       "      <td>Udinese</td>\n",
       "      <td>155</td>\n",
       "      <td>13500000.0</td>\n",
       "      <td>22500000</td>\n",
       "      <td>False</td>\n",
       "    </tr>\n",
       "    <tr>\n",
       "      <th>758</th>\n",
       "      <td>Leon Goretzka</td>\n",
       "      <td>24</td>\n",
       "      <td>DM, M/AM (C)</td>\n",
       "      <td>FC Bayern</td>\n",
       "      <td>173</td>\n",
       "      <td>13500000.0</td>\n",
       "      <td>45000000</td>\n",
       "      <td>False</td>\n",
       "    </tr>\n",
       "    <tr>\n",
       "      <th>402</th>\n",
       "      <td>Jonathan Clauss</td>\n",
       "      <td>26</td>\n",
       "      <td>D/WB/M/AM (R)</td>\n",
       "      <td>RC Lens</td>\n",
       "      <td>122</td>\n",
       "      <td>12825000.0</td>\n",
       "      <td>675000</td>\n",
       "      <td>False</td>\n",
       "    </tr>\n",
       "    <tr>\n",
       "      <th>2538</th>\n",
       "      <td>Daichi Kamada</td>\n",
       "      <td>22</td>\n",
       "      <td>M/AM (C), ST (C)</td>\n",
       "      <td>Eintracht Frankfurt</td>\n",
       "      <td>134</td>\n",
       "      <td>11700000.0</td>\n",
       "      <td>8100000</td>\n",
       "      <td>False</td>\n",
       "    </tr>\n",
       "    <tr>\n",
       "      <th>815</th>\n",
       "      <td>Robert Andrich</td>\n",
       "      <td>24</td>\n",
       "      <td>DM, M (C)</td>\n",
       "      <td>Union Berlin</td>\n",
       "      <td>131</td>\n",
       "      <td>10800000.0</td>\n",
       "      <td>900000</td>\n",
       "      <td>False</td>\n",
       "    </tr>\n",
       "    <tr>\n",
       "      <th>3186</th>\n",
       "      <td>Kostas Tsimikas</td>\n",
       "      <td>23</td>\n",
       "      <td>D/WB (L)</td>\n",
       "      <td>Liverpool</td>\n",
       "      <td>150</td>\n",
       "      <td>10350000.0</td>\n",
       "      <td>3150000</td>\n",
       "      <td>False</td>\n",
       "    </tr>\n",
       "  </tbody>\n",
       "</table>\n",
       "</div>"
      ],
      "text/plain": [
       "                  Name  Age                 Position                 Club  \\\n",
       "1566             Pedri   16          M (C), AM (RLC)            Barcelona   \n",
       "2590     Patrik Schick   23                   ST (C)             Bayer 04   \n",
       "10            Raphinha   22                  AM (RL)                Leeds   \n",
       "3169  Guido RodrÃ­guez   25                DM, M (C)           Real Betis   \n",
       "1351   Rodrigo De Paul   25  M (C), AM (RLC), ST (C)              Udinese   \n",
       "758      Leon Goretzka   24             DM, M/AM (C)            FC Bayern   \n",
       "402    Jonathan Clauss   26            D/WB/M/AM (R)              RC Lens   \n",
       "2538     Daichi Kamada   22         M/AM (C), ST (C)  Eintracht Frankfurt   \n",
       "815     Robert Andrich   24                DM, M (C)         Union Berlin   \n",
       "3186   Kostas Tsimikas   23                 D/WB (L)            Liverpool   \n",
       "\n",
       "       PA  value_diff  value_2020   pred  \n",
       "1566  160  67500000.0     4500000  False  \n",
       "2590  168  31500000.0    13500000  False  \n",
       "10    157  27900000.0    12600000  False  \n",
       "3169  147  13500000.0     9000000  False  \n",
       "1351  155  13500000.0    22500000  False  \n",
       "758   173  13500000.0    45000000  False  \n",
       "402   122  12825000.0      675000  False  \n",
       "2538  134  11700000.0     8100000  False  \n",
       "815   131  10800000.0      900000  False  \n",
       "3186  150  10350000.0     3150000  False  "
      ]
     },
     "execution_count": 40,
     "metadata": {},
     "output_type": "execute_result"
    }
   ],
   "source": [
    "test_players_v1.query('pred == 0').sort_values('value_diff', ascending=False).head(10)"
   ]
  },
  {
   "cell_type": "markdown",
   "metadata": {},
   "source": [
    "- 10 players who were not predicted as having a big decrease in valuation and had\n",
    "    - Mostly players between 20-22 yo\n",
    "    - Players in big clubs\n",
    "        - 3 players from the spanish league (overvalued?)"
   ]
  },
  {
   "cell_type": "code",
   "execution_count": 41,
   "metadata": {},
   "outputs": [
    {
     "data": {
      "text/html": [
       "<div>\n",
       "<style scoped>\n",
       "    .dataframe tbody tr th:only-of-type {\n",
       "        vertical-align: middle;\n",
       "    }\n",
       "\n",
       "    .dataframe tbody tr th {\n",
       "        vertical-align: top;\n",
       "    }\n",
       "\n",
       "    .dataframe thead th {\n",
       "        text-align: right;\n",
       "    }\n",
       "</style>\n",
       "<table border=\"1\" class=\"dataframe\">\n",
       "  <thead>\n",
       "    <tr style=\"text-align: right;\">\n",
       "      <th></th>\n",
       "      <th>Name</th>\n",
       "      <th>Age</th>\n",
       "      <th>Position</th>\n",
       "      <th>Club</th>\n",
       "      <th>PA</th>\n",
       "      <th>value_diff</th>\n",
       "      <th>value_2020</th>\n",
       "      <th>pred</th>\n",
       "    </tr>\n",
       "  </thead>\n",
       "  <tbody>\n",
       "    <tr>\n",
       "      <th>1512</th>\n",
       "      <td>Dani Ceballos</td>\n",
       "      <td>22</td>\n",
       "      <td>M/AM (C)</td>\n",
       "      <td>Arsenal</td>\n",
       "      <td>163</td>\n",
       "      <td>-27900000.0</td>\n",
       "      <td>40500000</td>\n",
       "      <td>True</td>\n",
       "    </tr>\n",
       "    <tr>\n",
       "      <th>3155</th>\n",
       "      <td>Marcos Llorente</td>\n",
       "      <td>24</td>\n",
       "      <td>DM, M/AM (C)</td>\n",
       "      <td>A. Madrid</td>\n",
       "      <td>158</td>\n",
       "      <td>-27000000.0</td>\n",
       "      <td>67500000</td>\n",
       "      <td>True</td>\n",
       "    </tr>\n",
       "    <tr>\n",
       "      <th>587</th>\n",
       "      <td>Trent Alexander-Arnold</td>\n",
       "      <td>20</td>\n",
       "      <td>D/WB (R), DM, M (C)</td>\n",
       "      <td>Liverpool</td>\n",
       "      <td>178</td>\n",
       "      <td>-27000000.0</td>\n",
       "      <td>99000000</td>\n",
       "      <td>True</td>\n",
       "    </tr>\n",
       "    <tr>\n",
       "      <th>343</th>\n",
       "      <td>Houssem Aouar</td>\n",
       "      <td>20</td>\n",
       "      <td>M/AM (LC)</td>\n",
       "      <td>OL</td>\n",
       "      <td>169</td>\n",
       "      <td>-22500000.0</td>\n",
       "      <td>45000000</td>\n",
       "      <td>True</td>\n",
       "    </tr>\n",
       "    <tr>\n",
       "      <th>362</th>\n",
       "      <td>Dan-Axel Zagadou</td>\n",
       "      <td>20</td>\n",
       "      <td>D (C)</td>\n",
       "      <td>Borussia Dortmund</td>\n",
       "      <td>157</td>\n",
       "      <td>-17100000.0</td>\n",
       "      <td>25200000</td>\n",
       "      <td>True</td>\n",
       "    </tr>\n",
       "    <tr>\n",
       "      <th>21</th>\n",
       "      <td>Malcom</td>\n",
       "      <td>22</td>\n",
       "      <td>AM (RL)</td>\n",
       "      <td>Zenit</td>\n",
       "      <td>163</td>\n",
       "      <td>-16200000.0</td>\n",
       "      <td>36000000</td>\n",
       "      <td>True</td>\n",
       "    </tr>\n",
       "    <tr>\n",
       "      <th>1502</th>\n",
       "      <td>Igor Zubeldia</td>\n",
       "      <td>22</td>\n",
       "      <td>D (C), DM, M (C)</td>\n",
       "      <td>Real Sociedad</td>\n",
       "      <td>151</td>\n",
       "      <td>-13500000.0</td>\n",
       "      <td>27000000</td>\n",
       "      <td>True</td>\n",
       "    </tr>\n",
       "    <tr>\n",
       "      <th>2199</th>\n",
       "      <td>Ozan Kabak</td>\n",
       "      <td>19</td>\n",
       "      <td>D (C)</td>\n",
       "      <td>Liverpool</td>\n",
       "      <td>150</td>\n",
       "      <td>-10800000.0</td>\n",
       "      <td>19800000</td>\n",
       "      <td>True</td>\n",
       "    </tr>\n",
       "    <tr>\n",
       "      <th>411</th>\n",
       "      <td>Colin Dagba</td>\n",
       "      <td>20</td>\n",
       "      <td>D (RL)</td>\n",
       "      <td>Paris SG</td>\n",
       "      <td>145</td>\n",
       "      <td>-9900000.0</td>\n",
       "      <td>16200000</td>\n",
       "      <td>True</td>\n",
       "    </tr>\n",
       "    <tr>\n",
       "      <th>547</th>\n",
       "      <td>Malang Sarr</td>\n",
       "      <td>20</td>\n",
       "      <td>D (LC)</td>\n",
       "      <td>FCP</td>\n",
       "      <td>156</td>\n",
       "      <td>-9000000.0</td>\n",
       "      <td>16200000</td>\n",
       "      <td>True</td>\n",
       "    </tr>\n",
       "  </tbody>\n",
       "</table>\n",
       "</div>"
      ],
      "text/plain": [
       "                        Name  Age             Position               Club  \\\n",
       "1512           Dani Ceballos   22             M/AM (C)            Arsenal   \n",
       "3155         Marcos Llorente   24         DM, M/AM (C)          A. Madrid   \n",
       "587   Trent Alexander-Arnold   20  D/WB (R), DM, M (C)          Liverpool   \n",
       "343            Houssem Aouar   20            M/AM (LC)                 OL   \n",
       "362         Dan-Axel Zagadou   20                D (C)  Borussia Dortmund   \n",
       "21                    Malcom   22              AM (RL)              Zenit   \n",
       "1502           Igor Zubeldia   22     D (C), DM, M (C)      Real Sociedad   \n",
       "2199              Ozan Kabak   19                D (C)          Liverpool   \n",
       "411              Colin Dagba   20               D (RL)           Paris SG   \n",
       "547              Malang Sarr   20               D (LC)                FCP   \n",
       "\n",
       "       PA  value_diff  value_2020  pred  \n",
       "1512  163 -27900000.0    40500000  True  \n",
       "3155  158 -27000000.0    67500000  True  \n",
       "587   178 -27000000.0    99000000  True  \n",
       "343   169 -22500000.0    45000000  True  \n",
       "362   157 -17100000.0    25200000  True  \n",
       "21    163 -16200000.0    36000000  True  \n",
       "1502  151 -13500000.0    27000000  True  \n",
       "2199  150 -10800000.0    19800000  True  \n",
       "411   145  -9900000.0    16200000  True  \n",
       "547   156  -9000000.0    16200000  True  "
      ]
     },
     "execution_count": 41,
     "metadata": {},
     "output_type": "execute_result"
    }
   ],
   "source": [
    "test_players_v1.query('pred == 1').sort_values('value_diff', ascending=True).head(10)"
   ]
  },
  {
   "cell_type": "markdown",
   "metadata": {},
   "source": []
  },
  {
   "cell_type": "code",
   "execution_count": null,
   "metadata": {},
   "outputs": [],
   "source": []
  },
  {
   "cell_type": "markdown",
   "metadata": {},
   "source": [
    "## Future work\n",
    "\n",
    "There is still a lot to be done in terms of perfecting the results of the model\n",
    "\n",
    "### What is missing\n",
    "\n",
    "- A proper EDA. There was few explanation of the datasets I'm working and of the decisions took about which data was selected and used.\n",
    "\n",
    "### Some questions\n",
    "\n",
    "- How to better define performance metrics?\n",
    "    - What should define success in the model?\n",
    "        - In theory we want to increase the number of excellent investments in players, and find some \"hidden\" gems (e.g. not only the algorithm should predict already great players who obviously will increase in value, but also players who are not so obvious)\n",
    "\n",
    "- How to analyse the errors, and act upon that analysis?\n",
    "    - Right now the only analysis done points to:\n",
    "        - A difficulty evaluating very young players\n",
    "        - Overvaluation of big league players\n",
    "        - How can we implement this analysis and improve the model for these players?\n",
    "    - How to better do error analysis?\n",
    "\n",
    "- How can we increase the quality and quantity of our base dataset?\n",
    "    - From more that 100k data points who are FM 20, we are reduced to only 2985.\n",
    "        - This is due to a lack of data in transfermarkt\n",
    "        - If we can find a strong correlation with some feature with an increase in value (e.g. if a player in 2020 has higher attributes than in 2017, then it has a higher value), can we extrapolate an increase in value without using exact data from Transfermarkt?\n",
    "        - So for instance we can use this to find a correlation in a sample of matching data between FM17, FM20 and Transfermarkt and then extrapolate.\n",
    "    - Can I better match the players in FM and Transfermarkt?\n",
    "        - Use the club which the players were? Can I use somehow a fuzzy match (as clubs have different denominations in different dataframes)?\n",
    "        - Use not only the transfermarkt country of citizenship but also country of birth somehow can improve matches where a player appears with his country of birth in FM?\n",
    "        - Use the same fuzzy matching I use with the missing players, but with all of them? \n",
    "        \n",
    "- How can we properly add weights to more relevant increases/decreases in value?\n",
    "    - It is way more important for the model to be able to correctly predict big changes in value than small ones.\n",
    "    - Does it make sense dividing in 3 groups (big decrease, small change - positive or negative, big increase)\n",
    "    - How to incorporate big variations in price? E.g. players who even though the change is small - e.g. from 200k to 2M -, it varies a lot (positively or negatively)\n",
    "\n",
    "- How can we extract more relevant features?\n",
    "    - E.g. players tend to devalue if there are only 1 year left in their contract.\n",
    "\n",
    "- Is the current value of a player a proper evaluator of the \"real value\" of a player?\n",
    "    - Maybe the instantaneous value of a player in a given time is not really what we're looking for as a success measure.\n",
    "    - Looking in the eyes of an investor, why wouldn't I want to invest in a young player who devalued due to some unforeseen circumstances (a failed transfer, an injury, a coach who doesn't like him), even though my attributes actually increased and I am a better player?\n",
    "\n",
    "- How to better improve documentation?\n",
    "    - I feel most of the questions and answered while I made this work were lost due to lack of documentation (which was made post work instead of during it). I would love to know how to properly document those questions, how I found the answers to them, why I decided on certain values, etc...\n",
    "\n",
    "### Additional work\n",
    "- Create an api in which we can feed player attributes, and then tell the ML algorithm whether the player increased or not in value in the past 3 years\n",
    "- Create a simple front-end for this\n",
    "- Make the system work online (the model improves itself with the new information being given)"
   ]
  }
 ],
 "metadata": {
  "kernelspec": {
   "display_name": "Python 3.10.6 ('predict_value_change_from_fm_data-PiR6Skg_')",
   "language": "python",
   "name": "python3"
  },
  "language_info": {
   "codemirror_mode": {
    "name": "ipython",
    "version": 3
   },
   "file_extension": ".py",
   "mimetype": "text/x-python",
   "name": "python",
   "nbconvert_exporter": "python",
   "pygments_lexer": "ipython3",
   "version": "3.10.6"
  },
  "orig_nbformat": 4,
  "vscode": {
   "interpreter": {
    "hash": "ac233701de9f190529bd83c89bd46f761d315f19d370eb2b21951ef14e06a61f"
   }
  }
 },
 "nbformat": 4,
 "nbformat_minor": 2
}
